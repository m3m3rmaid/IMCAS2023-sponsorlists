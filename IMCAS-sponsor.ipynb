{
 "cells": [
  {
   "cell_type": "code",
   "execution_count": 14,
   "metadata": {
    "collapsed": true,
    "ExecuteTime": {
     "end_time": "2023-07-29T21:13:22.936239Z",
     "start_time": "2023-07-29T21:13:22.467957600Z"
    }
   },
   "outputs": [],
   "source": [
    "import os\n",
    "import re\n",
    "\n",
    "import requests\n",
    "from bs4 import BeautifulSoup as bs"
   ]
  },
  {
   "cell_type": "code",
   "execution_count": 120,
   "outputs": [],
   "source": [
    "r = requests.get('https://www.imcas.com/en/attend/imcas-world-congress-2023/sponsor-list')\n",
    "\n",
    "#convert to beautifulsoup\n",
    "soup = bs(r.content)\n",
    "\n",
    "#print out\n",
    "contents = soup.prettify()"
   ],
   "metadata": {
    "collapsed": false,
    "ExecuteTime": {
     "end_time": "2023-07-29T23:55:32.391428200Z",
     "start_time": "2023-07-29T23:55:20.542289900Z"
    }
   }
  },
  {
   "cell_type": "code",
   "execution_count": 16,
   "outputs": [
    {
     "data": {
      "text/plain": "[<tr class=\"sponsor-list-exhibitor-row\" data-booth-sign=\"Allergan Aesthetics \" data-booth-sign-clean=\"Allergan Aesthetics \" data-company-name=\"ALLERGAN PHARMACEUTICALS INT LTD\" data-hidden=\"false\" data-industry-category1=\"2\" data-industry-category2=\"26\" data-industry-category3=\"\" data-inprogress=\"no\" id=\"sponsors-list-sponsor-13309-sponsorship-level\">\n <td>\n                                                             ALLERGAN AESTHETICS \n                                                                                                                     </td>\n <td class=\"text-center\">\n <a class=\"fancybox-iframe\" href=\"https://www.imcas.com/en/exhibit/imcas-world-congress-2023/sponsor/map/ajax?id=13309\">N227</a>\n </td>\n <td>Ireland</td>\n <td>\n <a class=\"fancybox-ajax\" href=\"https://www.imcas.com/en/attend/imcas-world-congress-2023/sponsor/13309\">Profile</a>\n </td>\n <td>\n <span class=\"sponsorship-ultimate\">\n                                                                 ULTIMATE\n                                                             </span>\n </td>\n </tr>,\n <tr class=\"sponsor-list-exhibitor-row\" data-booth-sign=\"BioScience GmbH\" data-booth-sign-clean=\"BioScience GmbH\" data-company-name=\"BIOSCIENCE GMBH\" data-hidden=\"false\" data-industry-category1=\"2\" data-industry-category2=\"\" data-industry-category3=\"\" data-inprogress=\"no\" id=\"sponsors-list-sponsor-13341-sponsorship-level\">\n <td>\n                                                             BIOSCIENCE GMBH\n                                                                                                                             <br/>\n <a href=\"https://www.imcas.com/en/academy/profile/bioscience\" style=\"color: #fa7732;\" target=\"_blank\"><i aria-hidden=\"true\" class=\"fa fa-rss\"></i> Discover company’s latest videos and news \n                                                                 </a>\n </td>\n <td class=\"text-center\">\n <a class=\"fancybox-iframe\" href=\"https://www.imcas.com/en/exhibit/imcas-world-congress-2023/sponsor/map/ajax?id=13341\">N234</a>\n </td>\n <td>Germany</td>\n <td>\n <a class=\"fancybox-ajax\" href=\"https://www.imcas.com/en/attend/imcas-world-congress-2023/sponsor/13341\">Profile</a>\n </td>\n <td>\n <span class=\"sponsorship-ultimate\">\n                                                                 ULTIMATE\n                                                             </span>\n </td>\n </tr>,\n <tr class=\"sponsor-list-exhibitor-row\" data-booth-sign=\"Galderma\" data-booth-sign-clean=\"Galderma\" data-company-name=\"GALDERMA SA\" data-hidden=\"false\" data-industry-category1=\"2\" data-industry-category2=\"7\" data-industry-category3=\"26\" data-inprogress=\"no\" id=\"sponsors-list-sponsor-13437-sponsorship-level\">\n <td>\n                                                             GALDERMA\n                                                                                                                     </td>\n <td class=\"text-center\">\n <a class=\"fancybox-iframe\" href=\"https://www.imcas.com/en/exhibit/imcas-world-congress-2023/sponsor/map/ajax?id=13437\">P245</a>\n </td>\n <td>France</td>\n <td>\n <a class=\"fancybox-ajax\" href=\"https://www.imcas.com/en/attend/imcas-world-congress-2023/sponsor/13437\">Profile</a>\n </td>\n <td>\n <span class=\"sponsorship-ultimate\">\n                                                                 ULTIMATE\n                                                             </span>\n </td>\n </tr>,\n <tr class=\"sponsor-list-exhibitor-row\" data-booth-sign=\"Laboratoires VIVACY\" data-booth-sign-clean=\"Laboratoires VIVACY\" data-company-name=\"LABORATOIRES VIVACY\" data-hidden=\"false\" data-industry-category1=\"2\" data-industry-category2=\"99\" data-industry-category3=\"\" data-inprogress=\"no\" id=\"sponsors-list-sponsor-13393-sponsorship-level\">\n <td>\n                                                             LABORATOIRES VIVACY\n                                                                                                                             <br/>\n <a href=\"https://www.imcas.com/en/academy/profile/laboratoires-vivacy\" style=\"color: #fa7732;\" target=\"_blank\"><i aria-hidden=\"true\" class=\"fa fa-rss\"></i> Discover company’s latest videos and news \n                                                                 </a>\n </td>\n <td class=\"text-center\">\n <a class=\"fancybox-iframe\" href=\"https://www.imcas.com/en/exhibit/imcas-world-congress-2023/sponsor/map/ajax?id=13393\">N235</a>\n </td>\n <td>France</td>\n <td>\n <a class=\"fancybox-ajax\" href=\"https://www.imcas.com/en/attend/imcas-world-congress-2023/sponsor/13393\">Profile</a>\n </td>\n <td>\n <span class=\"sponsorship-ultimate\">\n                                                                 ULTIMATE\n                                                             </span>\n </td>\n </tr>,\n <tr class=\"sponsor-list-exhibitor-row\" data-booth-sign=\"TEOXANE LABORATORIES\" data-booth-sign-clean=\"TEOXANE LABORATORIES\" data-company-name=\"TEOXANE LABORATORIES SWITZERLAND\" data-hidden=\"false\" data-industry-category1=\"2\" data-industry-category2=\"99\" data-industry-category3=\"\" data-inprogress=\"no\" id=\"sponsors-list-sponsor-13605-sponsorship-level\">\n <td>\n                                                             TEOXANE LABORATORIES\n                                                                                                                     </td>\n <td class=\"text-center\">\n <a class=\"fancybox-iframe\" href=\"https://www.imcas.com/en/exhibit/imcas-world-congress-2023/sponsor/map/ajax?id=13605\">P241</a>\n </td>\n <td>Switzerland</td>\n <td>\n <a class=\"fancybox-ajax\" href=\"https://www.imcas.com/en/attend/imcas-world-congress-2023/sponsor/13605\">Profile</a>\n </td>\n <td>\n <span class=\"sponsorship-ultimate\">\n                                                                 ULTIMATE\n                                                             </span>\n </td>\n </tr>]"
     },
     "execution_count": 16,
     "metadata": {},
     "output_type": "execute_result"
    }
   ],
   "source": [
    "# testing on ultimate sponsor\n",
    "table = soup.find('table', class_= 'table sponsor-list-table')\n",
    "tr = table.findAll('tr', class_='sponsor-list-exhibitor-row')"
   ],
   "metadata": {
    "collapsed": false,
    "ExecuteTime": {
     "end_time": "2023-07-29T21:13:32.240581200Z",
     "start_time": "2023-07-29T21:13:32.238579700Z"
    }
   }
  },
  {
   "cell_type": "code",
   "execution_count": 17,
   "outputs": [
    {
     "data": {
      "text/plain": "'Allergan Aesthetics '"
     },
     "execution_count": 17,
     "metadata": {},
     "output_type": "execute_result"
    }
   ],
   "source": [
    "tr[0]['data-booth-sign-clean']"
   ],
   "metadata": {
    "collapsed": false,
    "ExecuteTime": {
     "end_time": "2023-07-29T21:13:32.243581100Z",
     "start_time": "2023-07-29T21:13:32.240581200Z"
    }
   }
  },
  {
   "cell_type": "code",
   "execution_count": 18,
   "outputs": [],
   "source": [
    "# Find all the table rows with class \"sponsor-list-exhibitor-row\"\n",
    "tr = table.findAll('tr', class_='sponsor-list-exhibitor-row')\n",
    "\n",
    "# Create an empty list to store the data\n",
    "dicts = []\n",
    "\n",
    "# Loop through each row to get the data\n",
    "for row in tr:\n",
    "    # Get the value of the 'data-booth-sign-clean' attribute for the current row\n",
    "    name_clean = row['data-booth-sign-clean']\n",
    "\n",
    "    # Append the value to the data_list\n",
    "    if name_clean:\n",
    "        dicts.append(name_clean)\n"
   ],
   "metadata": {
    "collapsed": false,
    "ExecuteTime": {
     "end_time": "2023-07-29T21:13:32.244582500Z",
     "start_time": "2023-07-29T21:13:32.241587Z"
    }
   }
  },
  {
   "cell_type": "code",
   "execution_count": 19,
   "outputs": [
    {
     "data": {
      "text/plain": "['Allergan Aesthetics ',\n 'BioScience GmbH',\n 'Galderma',\n 'Laboratoires VIVACY',\n 'TEOXANE LABORATORIES',\n 'Allergan Aesthetics ',\n 'BioScience GmbH',\n 'Galderma',\n 'Laboratoires VIVACY',\n 'TEOXANE LABORATORIES']"
     },
     "execution_count": 19,
     "metadata": {},
     "output_type": "execute_result"
    }
   ],
   "source": [
    "for row in tr:\n",
    "    name_clean = row['data-booth-sign-clean']\n",
    "    dicts.append(name_clean)\n",
    "\n",
    "dicts"
   ],
   "metadata": {
    "collapsed": false,
    "ExecuteTime": {
     "end_time": "2023-07-29T21:13:32.246582500Z",
     "start_time": "2023-07-29T21:13:32.242581500Z"
    }
   }
  },
  {
   "cell_type": "code",
   "execution_count": 20,
   "outputs": [],
   "source": [
    "# Get all sponsors data\n",
    "spon = soup.find('div', class_='container-sponsors')"
   ],
   "metadata": {
    "collapsed": false,
    "ExecuteTime": {
     "end_time": "2023-07-29T21:13:32.260583500Z",
     "start_time": "2023-07-29T21:13:32.246582500Z"
    }
   }
  },
  {
   "cell_type": "code",
   "execution_count": 21,
   "outputs": [],
   "source": [
    "bod = spon.findAll('tr', class_='sponsor-list-exhibitor-row')"
   ],
   "metadata": {
    "collapsed": false,
    "ExecuteTime": {
     "end_time": "2023-07-29T21:13:32.478598900Z",
     "start_time": "2023-07-29T21:13:32.262583200Z"
    }
   }
  },
  {
   "cell_type": "code",
   "execution_count": 60,
   "outputs": [
    {
     "data": {
      "text/plain": "<tr class=\"sponsor-list-exhibitor-row\" data-booth-sign=\"Allergan Aesthetics \" data-booth-sign-clean=\"Allergan Aesthetics \" data-company-name=\"ALLERGAN PHARMACEUTICALS INT LTD\" data-hidden=\"false\" data-industry-category1=\"2\" data-industry-category2=\"26\" data-industry-category3=\"\" data-inprogress=\"no\" id=\"sponsors-list-sponsor-13309-sponsorship-level\">\n<td>\n                                                            ALLERGAN AESTHETICS \n                                                                                                                    </td>\n<td class=\"text-center\">\n<a class=\"fancybox-iframe\" href=\"https://www.imcas.com/en/exhibit/imcas-world-congress-2023/sponsor/map/ajax?id=13309\">N227</a>\n</td>\n<td>Ireland</td>\n<td>\n<a class=\"fancybox-ajax\" href=\"https://www.imcas.com/en/attend/imcas-world-congress-2023/sponsor/13309\">Profile</a>\n</td>\n<td>\n<span class=\"sponsorship-ultimate\">\n                                                                ULTIMATE\n                                                            </span>\n</td>\n</tr>"
     },
     "execution_count": 60,
     "metadata": {},
     "output_type": "execute_result"
    }
   ],
   "source": [
    "bod[0]"
   ],
   "metadata": {
    "collapsed": false,
    "ExecuteTime": {
     "end_time": "2023-07-29T21:56:13.721572900Z",
     "start_time": "2023-07-29T21:56:13.639570400Z"
    }
   }
  },
  {
   "cell_type": "code",
   "execution_count": 76,
   "outputs": [
    {
     "data": {
      "text/plain": "'ULTIMATE'"
     },
     "execution_count": 76,
     "metadata": {},
     "output_type": "execute_result"
    }
   ],
   "source": [
    "bod[1].find('span', class_=\"sponsorship-ultimate\").getText(\" \", strip= True).replace(\"\\n\",\" \")"
   ],
   "metadata": {
    "collapsed": false,
    "ExecuteTime": {
     "end_time": "2023-07-29T22:00:31.109773800Z",
     "start_time": "2023-07-29T22:00:31.028770Z"
    }
   }
  },
  {
   "cell_type": "code",
   "execution_count": 93,
   "outputs": [
    {
     "name": "stdout",
     "output_type": "stream",
     "text": [
      "<tbody>\n",
      "<tr class=\"sponsor-list-exhibitor-row\" data-booth-sign=\"Allergan Aesthetics \" data-booth-sign-clean=\"Allergan Aesthetics \" data-company-name=\"ALLERGAN PHARMACEUTICALS INT LTD\" data-hidden=\"false\" data-industry-category1=\"2\" data-industry-category2=\"26\" data-industry-category3=\"\" data-inprogress=\"no\" id=\"sponsors-list-sponsor-13309-sponsorship-level\">\n",
      "<td>\n",
      "                                                            ALLERGAN AESTHETICS \n",
      "                                                                                                                    </td>\n",
      "<td class=\"text-center\">\n",
      "<a class=\"fancybox-iframe\" href=\"https://www.imcas.com/en/exhibit/imcas-world-congress-2023/sponsor/map/ajax?id=13309\">N227</a>\n",
      "</td>\n",
      "<td>Ireland</td>\n",
      "<td>\n",
      "<a class=\"fancybox-ajax\" href=\"https://www.imcas.com/en/attend/imcas-world-congress-2023/sponsor/13309\">Profile</a>\n",
      "</td>\n",
      "<td>\n",
      "<span class=\"sponsorship-ultimate\">\n",
      "                                                                ULTIMATE\n",
      "                                                            </span>\n",
      "</td>\n",
      "</tr>\n",
      "<tr class=\"sponsor-list-exhibitor-row\" data-booth-sign=\"BioScience GmbH\" data-booth-sign-clean=\"BioScience GmbH\" data-company-name=\"BIOSCIENCE GMBH\" data-hidden=\"false\" data-industry-category1=\"2\" data-industry-category2=\"\" data-industry-category3=\"\" data-inprogress=\"no\" id=\"sponsors-list-sponsor-13341-sponsorship-level\">\n",
      "<td>\n",
      "                                                            BIOSCIENCE GMBH\n",
      "                                                                                                                            <br/>\n",
      "<a href=\"https://www.imcas.com/en/academy/profile/bioscience\" style=\"color: #fa7732;\" target=\"_blank\"><i aria-hidden=\"true\" class=\"fa fa-rss\"></i> Discover company’s latest videos and news \n",
      "                                                                </a>\n",
      "</td>\n",
      "<td class=\"text-center\">\n",
      "<a class=\"fancybox-iframe\" href=\"https://www.imcas.com/en/exhibit/imcas-world-congress-2023/sponsor/map/ajax?id=13341\">N234</a>\n",
      "</td>\n",
      "<td>Germany</td>\n",
      "<td>\n",
      "<a class=\"fancybox-ajax\" href=\"https://www.imcas.com/en/attend/imcas-world-congress-2023/sponsor/13341\">Profile</a>\n",
      "</td>\n",
      "<td>\n",
      "<span class=\"sponsorship-ultimate\">\n",
      "                                                                ULTIMATE\n",
      "                                                            </span>\n",
      "</td>\n",
      "</tr>\n",
      "<tr class=\"sponsor-list-exhibitor-row\" data-booth-sign=\"Galderma\" data-booth-sign-clean=\"Galderma\" data-company-name=\"GALDERMA SA\" data-hidden=\"false\" data-industry-category1=\"2\" data-industry-category2=\"7\" data-industry-category3=\"26\" data-inprogress=\"no\" id=\"sponsors-list-sponsor-13437-sponsorship-level\">\n",
      "<td>\n",
      "                                                            GALDERMA\n",
      "                                                                                                                    </td>\n",
      "<td class=\"text-center\">\n",
      "<a class=\"fancybox-iframe\" href=\"https://www.imcas.com/en/exhibit/imcas-world-congress-2023/sponsor/map/ajax?id=13437\">P245</a>\n",
      "</td>\n",
      "<td>France</td>\n",
      "<td>\n",
      "<a class=\"fancybox-ajax\" href=\"https://www.imcas.com/en/attend/imcas-world-congress-2023/sponsor/13437\">Profile</a>\n",
      "</td>\n",
      "<td>\n",
      "<span class=\"sponsorship-ultimate\">\n",
      "                                                                ULTIMATE\n",
      "                                                            </span>\n",
      "</td>\n",
      "</tr>\n",
      "<tr class=\"sponsor-list-exhibitor-row\" data-booth-sign=\"Laboratoires VIVACY\" data-booth-sign-clean=\"Laboratoires VIVACY\" data-company-name=\"LABORATOIRES VIVACY\" data-hidden=\"false\" data-industry-category1=\"2\" data-industry-category2=\"99\" data-industry-category3=\"\" data-inprogress=\"no\" id=\"sponsors-list-sponsor-13393-sponsorship-level\">\n",
      "<td>\n",
      "                                                            LABORATOIRES VIVACY\n",
      "                                                                                                                            <br/>\n",
      "<a href=\"https://www.imcas.com/en/academy/profile/laboratoires-vivacy\" style=\"color: #fa7732;\" target=\"_blank\"><i aria-hidden=\"true\" class=\"fa fa-rss\"></i> Discover company’s latest videos and news \n",
      "                                                                </a>\n",
      "</td>\n",
      "<td class=\"text-center\">\n",
      "<a class=\"fancybox-iframe\" href=\"https://www.imcas.com/en/exhibit/imcas-world-congress-2023/sponsor/map/ajax?id=13393\">N235</a>\n",
      "</td>\n",
      "<td>France</td>\n",
      "<td>\n",
      "<a class=\"fancybox-ajax\" href=\"https://www.imcas.com/en/attend/imcas-world-congress-2023/sponsor/13393\">Profile</a>\n",
      "</td>\n",
      "<td>\n",
      "<span class=\"sponsorship-ultimate\">\n",
      "                                                                ULTIMATE\n",
      "                                                            </span>\n",
      "</td>\n",
      "</tr>\n",
      "<tr class=\"sponsor-list-exhibitor-row\" data-booth-sign=\"TEOXANE LABORATORIES\" data-booth-sign-clean=\"TEOXANE LABORATORIES\" data-company-name=\"TEOXANE LABORATORIES SWITZERLAND\" data-hidden=\"false\" data-industry-category1=\"2\" data-industry-category2=\"99\" data-industry-category3=\"\" data-inprogress=\"no\" id=\"sponsors-list-sponsor-13605-sponsorship-level\">\n",
      "<td>\n",
      "                                                            TEOXANE LABORATORIES\n",
      "                                                                                                                    </td>\n",
      "<td class=\"text-center\">\n",
      "<a class=\"fancybox-iframe\" href=\"https://www.imcas.com/en/exhibit/imcas-world-congress-2023/sponsor/map/ajax?id=13605\">P241</a>\n",
      "</td>\n",
      "<td>Switzerland</td>\n",
      "<td>\n",
      "<a class=\"fancybox-ajax\" href=\"https://www.imcas.com/en/attend/imcas-world-congress-2023/sponsor/13605\">Profile</a>\n",
      "</td>\n",
      "<td>\n",
      "<span class=\"sponsorship-ultimate\">\n",
      "                                                                ULTIMATE\n",
      "                                                            </span>\n",
      "</td>\n",
      "</tr>\n",
      "</tbody>\n"
     ]
    }
   ],
   "source": [
    "lol = soup.find('div', class_='container-sponsors')\n",
    "loll = lol.find('tbody')\n",
    "\n",
    "print(loll)"
   ],
   "metadata": {
    "collapsed": false,
    "ExecuteTime": {
     "end_time": "2023-07-29T22:19:09.559226200Z",
     "start_time": "2023-07-29T22:19:09.489217100Z"
    }
   }
  },
  {
   "cell_type": "code",
   "execution_count": 82,
   "outputs": [],
   "source": [
    "# get sponsorship level\n",
    "\n",
    "spon_level = []\n",
    "\n",
    "for ss in bod:\n",
    "    level = ss.find('span', class_=\"sponsorship-ultimate\")\n",
    "    if level is not None:\n",
    "        level_list = level.getText(\" \", strip=True).replace(\"\\n\", \" \")\n",
    "    else:\n",
    "        continue\n",
    "\n",
    "    spon_level.append(level_list)\n"
   ],
   "metadata": {
    "collapsed": false,
    "ExecuteTime": {
     "end_time": "2023-07-29T22:08:25.472192200Z",
     "start_time": "2023-07-29T22:08:25.446194700Z"
    }
   }
  },
  {
   "cell_type": "code",
   "execution_count": 23,
   "outputs": [
    {
     "data": {
      "text/plain": "['Allergan Aesthetics ',\n 'BioScience GmbH',\n 'Galderma',\n 'Laboratoires VIVACY',\n 'TEOXANE LABORATORIES',\n 'Croma Pharma GmbH',\n 'FILLMED Laboratoires',\n 'IBSA Farmaceutici Italia',\n 'Merz Aesthetics',\n 'SINCLAIR',\n 'FIDIA PHARMA',\n 'NEAUVIA',\n 'Prollenium',\n 'ALTA CARE LABORATOIRES',\n 'APYX MEDICAL',\n 'BTL Aesthetics',\n 'Cynosure',\n 'DERMAQUAL',\n 'DEXLEVO',\n 'Fotona',\n 'Hydrafacial ',\n 'InMode Aesthetic Solutions',\n 'LG Chem',\n 'Lumenis',\n 'RELIFE',\n 'SENSILIS | Sensitive Skin Lab',\n 'Sesderma',\n 'SkinCeuticals',\n 'AestheFill®',\n 'Alma',\n 'Bioxis Pharmaceuticals',\n 'BR PHARM',\n 'CAREGEN',\n 'CHA Meditech Co., Ltd.',\n 'CLASSYS',\n 'Crown Aesthetics / SkinPen',\n 'Cutera',\n 'DermapenWorld',\n 'INDIBA',\n 'Laboratoire Revitacare',\n 'mesoestetic Pharma Group',\n 'miraDry, Inc.',\n 'NAOS / Institut Esthederm',\n 'Samyang Holdings Corporation ',\n 'Skymedic',\n 'TOSKANIMED',\n 'Across Co.,Ltd.',\n 'Adoderm',\n 'Aerolase',\n 'Aptos',\n 'Bloomea Paris',\n 'Candela Medical',\n 'CMed Aesthetics Srl',\n 'Deka ',\n 'ExoCoBio Inc.',\n 'Healux Co.,Ltd.',\n 'ISDIN',\n 'KSURGERY',\n 'LABORATOIRES FILORGA PARIS',\n 'LASEROPTEK',\n 'Lutronic',\n 'Mastelli Aesthetics',\n 'Needle Concept',\n 'NOVACUTAN',\n 'Quanta System SpA',\n 'QuantifiCare',\n 'Regen Lab',\n 'Regenyal Laboratories Srl ',\n 'Sciton',\n 'Solta Medical',\n 'SUNEKOS',\n 'WiQo - a GPQ brand',\n 'AGNES MEDICAL Co., Ltd.',\n 'AlumierMD',\n 'AQ Skin Solutions',\n 'Asclepion Laser Technologies ',\n 'ASTERASYS Co., Ltd.',\n 'ATTIVA by TEMA MEDICINA',\n 'BIOTEC ITALIA',\n 'BPB MEDICA™',\n 'BURGEON BIOTECHNOLOGY',\n 'Canfield Scientific, Inc. ',\n 'Deep Slim® ',\n 'Dermaceutic Laboratoire',\n 'EUROMI SA',\n 'Euroresearch',\n 'GLOBAL BIYOMEDIKAL',\n 'HIRONIC CO., LTD.',\n 'HTL',\n 'ILOODA CO., LTD',\n 'NOVACLINICAL',\n 'NovaCutis GmbH',\n 'PROMOITALIA GROUP SPA',\n 'Renaissance',\n 'S.Thepharm Co.,Ltd.',\n 'SKIN TECH PHARMA GROUP',\n 'Sofwave ',\n 'Sylton International',\n 'TOP QUALITY GROUP SRL',\n 'Venus',\n 'VM CORPORATION ',\n 'VYDENCE Medical',\n 'WON TECH Co., Ltd.',\n 'ZIMMER MedizinSysteme',\n 'ZO SKIN HEALTH',\n '1st SurgiConcept',\n 'Biopark Medical',\n 'BRERA MEDICAL TECHNOLOGIES',\n 'Cantabria Labs',\n 'CEBELIA',\n 'Clarius - Wireless Ultrasound ',\n 'DAEYANG MEDICAL',\n 'EUNSUNG GLOBAL CORP.',\n 'FotoFinder Systems GmbH',\n 'GCS Co.,Ltd.',\n 'GENOSS Co., Ltd.',\n 'GENOSYS',\n 'GMV Medical Innovation',\n 'GTG Medical Co., Ltd',\n 'JBP Korea Co., Ltd.',\n 'Laboratoires Renophase',\n 'MARLLOR Biomedical',\n 'MCT',\n 'MesoJet by SpaMed Italy',\n 'MILESMAN',\n 'Möller Medical GmbH',\n 'Naturelize GmbH',\n 'NEXTMOTION',\n 'NYUMA PHARMA',\n 'OREON Life science',\n 'PBSERUM MEDICAL',\n 'PROFESSIONAL DERMA SA',\n 'Qventis GmbH ',\n 'RENEVE MONACO',\n 'RETIX.C Professional',\n 'SHENB',\n 'Sterimedix Limited',\n 'Suisselle SA',\n 'T-LAB CURATIVE INNOVATIONS',\n 'TSK Laboratory Europe B.V.',\n 'ULTRA V CO., LTD',\n 'VAIM GLOBAL',\n 'ViOL',\n 'WAVEMED',\n 'ACMEDI KOREA Co., Ltd',\n 'Alfa Medical',\n 'Algeness - A.A.T. Inc.',\n 'Althena Medical ',\n 'AnteAGE MD',\n 'APG MEDICAL',\n 'Arthrex GmbH',\n 'ASIROX',\n 'Biodermogenesi',\n 'BIOFORMULA',\n 'Bluecore Company',\n 'BNC KOREA, INC.',\n 'Bomtech Electronics Co., Ltd.',\n 'CAMPOMATS',\n 'CAP ACTUEL MEDICAL FRANCE',\n 'CAPENERGY',\n 'CaromedItalia SRL',\n 'Cellenis® PRP',\n 'CLINICCARE',\n 'CONTRAD SWISS SA',\n 'CoolHealth',\n 'Cortex Technology  ',\n 'CryoPen',\n 'CYSPERA BY SCIENTIS',\n 'DERMALINE CO., LTD',\n 'DERMAPHOENIX',\n 'DERMEDEN',\n 'Dermoaroma ',\n 'DONGBANG MEDICAL CO., LTD',\n 'ELASTIC LAB INC. ',\n 'ENDYMED Medical',\n 'Erchonia Lasers Ltd',\n 'Eufoton®',\n 'Fagron Genomics',\n 'FB Dermatology ',\n 'FineMEC Co., Ltd.',\n 'GE Healthcare',\n 'Grand Aespio INC',\n 'HAIM INTERNATIONAL',\n 'HAIRSTETICS',\n 'HansBiomed UK & Europe',\n 'Hyundae Meditech',\n 'Iskra Medical ',\n 'J WORLD',\n 'JetPeel',\n 'Koru Pharma',\n \"LABORATOIRES L'ESTHÉTIC\",\n 'Laboratories Hyamed SA',\n 'LC Cell',\n 'Leaseir',\n 'LEM COMPOUNDING RESEARCH',\n 'Lipocube Biotechnology',\n 'M.A. Dermaceuticals Inc.',\n 'MARTIDERM',\n 'MD:CEUTICALS',\n 'MediFab',\n 'Meta Institute - Face Academy',\n 'MyPureSkin',\n 'N-FINDERS',\n 'NEO Dr. INC.',\n 'NOVOXEL',\n 'P194/ROSEPHARMA SA',\n 'PINE BM',\n 'PLURYAL',\n 'PRAISTON',\n 'SENSCO CO',\n 'SNJ',\n 'Swift Microwave Therapy',\n 'T.W.I.N.E. MEDICALS S.R.L.',\n 'TERMOSALUD',\n 'Terumo',\n 'Thread & Lift',\n 'Tulip Medical Products',\n 'Venome ',\n 'WHITE MEDIENCE',\n 'ZERO GRAVITY SKIN',\n '15th 5CC World Congress',\n 'AAMS',\n 'AB Life Global. Co., Ltd. ',\n 'Abacosm',\n 'ACCOMED CO LTD',\n 'Advalight',\n 'AECEP',\n 'Aesthetic Group',\n 'Aesthetic Surgery Journal - ASJ',\n 'Aesthetics Journal ',\n 'AICPE - AICPE ONLUS',\n 'ANKH OY',\n 'APS SRL',\n 'Archidemia ',\n 'ASTI CORPORATION',\n 'Ayoon Medi',\n 'BeauMed',\n 'BIOBIJOU',\n 'Biofibre Hair 4.0',\n 'Biosil',\n 'BMG Pharma',\n 'BONTEMPI',\n 'BTC MED',\n 'Canopus Medical',\n 'Cherry Imaging',\n 'Clinisept+',\n 'D-LAB NUTRICOSMETICS',\n 'Derma Faith, LLC',\n 'DFKBIOLAB INC.',\n 'DHI Global Medical Group',\n 'DIVES MED',\n 'DOUBLE FIX PYRAMID',\n 'DSD de Luxe',\n 'EDIPEC SURGICAL INSTRUMENTS',\n 'ELASTEN',\n 'elementrē dermo cosmetics',\n 'Forget about Age - Cosmetics ',\n 'GERMANY INTERNATIONAL MEDICAL ',\n 'GERMANY MEDICAL ',\n 'Glacial Rx',\n 'GliSODin',\n 'Griffin Editore',\n 'HELIOS',\n 'HERMOSA',\n \"I'LL GLOBAL. Inc. Co.\",\n 'iFaceSimulator',\n 'ILIKIA',\n 'ISAPS',\n 'JETT',\n 'Kimera Labs',\n 'KL GLOBAL',\n 'LAYUN KOREA',\n 'leasemedica',\n 'LOUISDERMA PARIS ',\n 'LOVE COSMEDICAL',\n 'LSI SILDERMA LTD',\n 'LUSINE BRUXELLES SPRL',\n 'M-BASE Co.,Ltd',\n 'MAAM GARMENTS',\n 'MAYPHARM CO., LTD.',\n 'Mcure Co., Ltd.',\n 'Medae Life Science',\n 'MEDICAL BROKERS',\n 'MEDICAL CASTING AGENCY',\n 'MEDICAL Z ',\n 'Medispec',\n 'MEDWELLNESS - FREE PRESS',\n 'MINERVA THREAD CANNULA NEEDLE',\n 'MIRACELL CO., LTD',\n 'NEFTIS LABORATORIOS',\n 'NOUVAG AG',\n 'nunii by NOVELSKIN ',\n 'OEO Firenze',\n 'PRF PROCESS MEDICAL',\n 'PROTECT-Laserschutz GmbH',\n 'QUANTEQ',\n 'QUANTIX ITALIA SRL',\n 'Regenera Activa Worldwide S.L.',\n 'RX COMMUNICATIONS',\n 'SEFFILINE',\n 'Shanghai May Skin',\n 'SHARM DERMA 2023',\n 'SOFCEP ',\n 'SONOSCANNER',\n 'TECHNOLUX Intralifting-Plasma',\n 'The Aesthetic Society',\n 'The PMFA Journal',\n 'Theraderm',\n 'Thinkin by Benjamin Ascher',\n 'TOP GOLD MEDICAL',\n 'Topscience Biotech',\n 'TUENDA',\n 'UltraClear Laser',\n 'UPTOURN LAB TRADING LLC',\n 'V LIFT PRO',\n 'VOE, S.A.',\n 'Wasserman Medic',\n 'WCD 2023 SINGAPORE',\n 'Wisepress Medical Bookshop',\n 'WorldPRP',\n 'WRINKLE-ALERT',\n 'ZERONE']"
     },
     "execution_count": 23,
     "metadata": {},
     "output_type": "execute_result"
    }
   ],
   "source": [
    "# Get company names\n",
    "\n",
    "name_list = []\n",
    "for com in bod:\n",
    "    data_clean = com['data-booth-sign-clean']\n",
    "    name_list.append(data_clean)\n",
    "\n",
    "name_list\n"
   ],
   "metadata": {
    "collapsed": false,
    "ExecuteTime": {
     "end_time": "2023-07-29T21:13:32.879624300Z",
     "start_time": "2023-07-29T21:13:32.524602500Z"
    }
   }
  },
  {
   "cell_type": "code",
   "execution_count": 24,
   "outputs": [
    {
     "data": {
      "text/plain": "['Ireland',\n 'Germany',\n 'France',\n 'France',\n 'Switzerland',\n 'Austria',\n 'France',\n 'Italy',\n 'Germany',\n 'France',\n 'Italy',\n 'Switzerland',\n 'Canada',\n 'Italy',\n 'United States',\n 'United States',\n 'United States',\n 'France',\n 'South Korea',\n 'Slovenia',\n 'United States',\n 'United States',\n 'South Korea',\n 'Germany',\n 'Italy',\n 'Spain',\n 'Spain',\n 'France',\n 'South Korea',\n 'Germany',\n 'France',\n 'South Korea',\n 'South Korea',\n 'South Korea',\n 'South Korea',\n 'United States',\n 'United States',\n 'Australia',\n 'Spain',\n 'France',\n 'Spain',\n 'United States',\n 'France',\n 'South Korea',\n 'Spain',\n 'Spain',\n 'South Korea',\n 'Germany',\n 'United States',\n 'Georgia',\n 'France',\n 'United States',\n 'Italy',\n 'Italy',\n 'South Korea',\n 'South Korea',\n 'Spain',\n 'Italy',\n 'France',\n 'South Korea',\n 'South Korea',\n 'Italy',\n 'France',\n 'France',\n 'Italy',\n 'France',\n 'Switzerland',\n 'Italy',\n 'United States',\n 'United States',\n 'Italy',\n 'Italy',\n 'South Korea',\n 'United Kingdom',\n 'United States',\n 'Germany',\n 'South Korea',\n 'Italy',\n 'Italy',\n 'Italy',\n 'Turkey',\n 'Netherlands',\n 'Spain',\n 'Ireland',\n 'Belgium',\n 'Italy',\n 'Turkey',\n 'South Korea',\n 'France',\n 'South Korea',\n 'Italy',\n 'Germany',\n 'Italy',\n 'Italy',\n 'South Korea',\n 'Spain',\n 'Israel',\n 'Netherlands',\n 'Italy',\n 'Canada',\n 'Italy',\n 'Brazil',\n 'South Korea',\n 'Germany',\n 'United States',\n 'France',\n 'Turkey',\n 'Italy',\n 'Spain',\n 'France',\n 'Canada',\n 'South Korea',\n 'South Korea',\n 'Germany',\n 'South Korea',\n 'South Korea',\n 'South Korea',\n 'Italy',\n 'South Korea',\n 'South Korea',\n 'France',\n 'Italy',\n 'Spain',\n 'Italy',\n 'Spain',\n 'Germany',\n 'Jordan',\n 'France',\n 'Italy',\n 'South Korea',\n 'Spain',\n 'Switzerland',\n 'Germany',\n 'Monaco',\n 'France',\n 'South Korea',\n 'United Kingdom',\n 'Switzerland',\n 'Turkey',\n 'Netherlands',\n 'South Korea',\n 'South Korea',\n 'South Korea',\n 'Italy',\n 'South Korea',\n 'South Korea',\n 'United States',\n 'Italy',\n 'United States',\n 'Italy',\n 'Germany',\n 'Spain',\n 'Italy',\n 'Italy',\n 'South Korea',\n 'South Korea',\n 'South Korea',\n 'Italy',\n 'France',\n 'Spain',\n 'Italy',\n 'Israel',\n 'Sweden',\n 'Switzerland',\n 'South Korea',\n 'Denmark',\n 'Belgium',\n 'Switzerland',\n 'South Korea',\n 'Spain',\n 'France',\n 'Italy',\n 'South Korea',\n 'South Korea',\n 'Israel',\n 'United Kingdom',\n 'Italy',\n 'Spain',\n 'Italy',\n 'South Korea',\n 'Germany',\n 'South Korea',\n 'South Korea',\n 'Israel',\n 'South Korea',\n 'South Korea',\n 'Slovenia',\n 'South Korea',\n 'Israel',\n 'South Korea',\n 'France',\n 'China',\n 'United States',\n 'Spain',\n 'Italy',\n 'Turkey',\n 'United States',\n 'Spain',\n 'United Kingdom',\n 'South Korea',\n 'Brazil',\n 'France',\n 'South Korea',\n 'South Korea',\n 'Israel',\n 'Switzerland',\n 'South Korea',\n 'Luxembourg',\n 'Poland',\n 'South Korea',\n 'South Korea',\n 'United Kingdom',\n 'Italy',\n 'Spain',\n 'Belgium',\n 'Belgium',\n 'United States',\n 'Poland',\n 'South Korea',\n 'United States',\n 'Germany',\n 'France',\n 'South Korea',\n 'Greece',\n 'South Korea',\n 'Denmark',\n 'Spain',\n 'France',\n 'United States',\n 'United Kingdom',\n 'Italy',\n 'Finland',\n 'Italy',\n 'United Kingdom',\n 'Japan',\n 'South Korea',\n 'South Korea',\n 'South Korea',\n 'Italy',\n 'Belgium',\n 'Italy',\n 'Italy',\n 'Italy',\n 'Sweden',\n 'Israel',\n 'United Kingdom',\n 'France',\n 'United States',\n 'South Korea',\n 'Greece',\n 'Germany',\n 'Indonesia',\n 'Spain',\n 'Spain',\n 'Germany',\n 'Switzerland',\n 'Germany',\n 'France',\n 'Thailand',\n 'United States',\n 'France',\n 'Italy',\n 'France',\n 'South Korea',\n 'South Korea',\n 'Canada',\n 'Brazil',\n 'United States',\n 'Czech Republic',\n 'United States',\n 'South Korea',\n 'South Korea',\n 'Italy',\n 'France',\n 'Italy',\n 'Ireland',\n 'Belgium',\n 'South Korea',\n 'Romania',\n 'South Korea',\n 'South Korea',\n 'Mexico',\n 'Poland',\n 'France',\n 'France',\n 'United States',\n 'Italy',\n 'South Korea',\n 'South Korea',\n 'Spain',\n 'Switzerland',\n 'France',\n 'Italy',\n 'France',\n 'Germany',\n 'South Korea',\n 'Italy',\n 'Spain',\n 'United Kingdom',\n 'Italy',\n 'China',\n 'Egypt',\n 'France',\n 'France',\n 'Italy',\n 'United States',\n 'United Kingdom',\n 'South Korea',\n 'France',\n 'Pakistan',\n 'China',\n 'Italy',\n 'United States',\n 'United Arab Emirates',\n 'Spain',\n 'Spain',\n 'Sweden',\n 'United Kingdom',\n 'United Kingdom',\n 'Switzerland',\n 'Belgium',\n 'South Korea']"
     },
     "execution_count": 24,
     "metadata": {},
     "output_type": "execute_result"
    }
   ],
   "source": [
    "# Extract Origin country of each company\n",
    "countries = []\n",
    "\n",
    "# Loop\n",
    "for ct in bod:\n",
    "    # get td index[2]\n",
    "    td_elements = ct.findAll('td')\n",
    "    country = td_elements[2].text.strip()\n",
    "    countries.append(country)\n",
    "\n",
    "countries"
   ],
   "metadata": {
    "collapsed": false,
    "ExecuteTime": {
     "end_time": "2023-07-29T21:13:32.880623600Z",
     "start_time": "2023-07-29T21:13:32.550603700Z"
    }
   }
  },
  {
   "cell_type": "code",
   "execution_count": 121,
   "outputs": [],
   "source": [
    "#get the link of each company\n",
    "links = spon.find_all('a', class_= 'fancybox-ajax')"
   ],
   "metadata": {
    "collapsed": false,
    "ExecuteTime": {
     "end_time": "2023-07-29T23:55:42.353051300Z",
     "start_time": "2023-07-29T23:55:42.302047200Z"
    }
   }
  },
  {
   "cell_type": "code",
   "execution_count": 27,
   "outputs": [
    {
     "name": "stdout",
     "output_type": "stream",
     "text": [
      "https://www.imcas.com/en/attend/imcas-world-congress-2023/sponsor/13309\n",
      "https://www.imcas.com/en/attend/imcas-world-congress-2023/sponsor/13341\n",
      "https://www.imcas.com/en/attend/imcas-world-congress-2023/sponsor/13437\n",
      "https://www.imcas.com/en/attend/imcas-world-congress-2023/sponsor/13393\n",
      "https://www.imcas.com/en/attend/imcas-world-congress-2023/sponsor/13605\n",
      "https://www.imcas.com/en/attend/imcas-world-congress-2023/sponsor/13377\n",
      "https://www.imcas.com/en/attend/imcas-world-congress-2023/sponsor/13432\n",
      "https://www.imcas.com/en/attend/imcas-world-congress-2023/sponsor/13459\n",
      "https://www.imcas.com/en/attend/imcas-world-congress-2023/sponsor/13522\n",
      "https://www.imcas.com/en/attend/imcas-world-congress-2023/sponsor/13585\n",
      "https://www.imcas.com/en/attend/imcas-world-congress-2023/sponsor/13431\n",
      "https://www.imcas.com/en/attend/imcas-world-congress-2023/sponsor/13532\n",
      "https://www.imcas.com/en/attend/imcas-world-congress-2023/sponsor/13590\n",
      "https://www.imcas.com/en/attend/imcas-world-congress-2023/sponsor/13311\n",
      "https://www.imcas.com/en/attend/imcas-world-congress-2023/sponsor/13321\n",
      "https://www.imcas.com/en/attend/imcas-world-congress-2023/sponsor/13349\n",
      "https://www.imcas.com/en/attend/imcas-world-congress-2023/sponsor/13383\n",
      "https://www.imcas.com/en/attend/imcas-world-congress-2023/sponsor/13400\n",
      "https://www.imcas.com/en/attend/imcas-world-congress-2023/sponsor/13405\n",
      "https://www.imcas.com/en/attend/imcas-world-congress-2023/sponsor/13435\n",
      "https://www.imcas.com/en/attend/imcas-world-congress-2023/sponsor/13609\n",
      "https://www.imcas.com/en/attend/imcas-world-congress-2023/sponsor/13467\n",
      "https://www.imcas.com/en/attend/imcas-world-congress-2023/sponsor/13696\n",
      "https://www.imcas.com/en/attend/imcas-world-congress-2023/sponsor/13505\n",
      "https://www.imcas.com/en/attend/imcas-world-congress-2023/sponsor/13571\n",
      "https://www.imcas.com/en/attend/imcas-world-congress-2023/sponsor/13580\n",
      "https://www.imcas.com/en/attend/imcas-world-congress-2023/sponsor/13582\n",
      "https://www.imcas.com/en/attend/imcas-world-congress-2023/sponsor/13490\n",
      "https://www.imcas.com/en/attend/imcas-world-congress-2023/sponsor/13335\n",
      "https://www.imcas.com/en/attend/imcas-world-congress-2023/sponsor/13310\n",
      "https://www.imcas.com/en/attend/imcas-world-congress-2023/sponsor/13343\n",
      "https://www.imcas.com/en/attend/imcas-world-congress-2023/sponsor/13345\n",
      "https://www.imcas.com/en/attend/imcas-world-congress-2023/sponsor/13360\n",
      "https://www.imcas.com/en/attend/imcas-world-congress-2023/sponsor/13364\n",
      "https://www.imcas.com/en/attend/imcas-world-congress-2023/sponsor/13366\n",
      "https://www.imcas.com/en/attend/imcas-world-congress-2023/sponsor/13378\n",
      "https://www.imcas.com/en/attend/imcas-world-congress-2023/sponsor/13379\n",
      "https://www.imcas.com/en/attend/imcas-world-congress-2023/sponsor/13399\n",
      "https://www.imcas.com/en/attend/imcas-world-congress-2023/sponsor/13359\n",
      "https://www.imcas.com/en/attend/imcas-world-congress-2023/sponsor/13492\n",
      "https://www.imcas.com/en/attend/imcas-world-congress-2023/sponsor/13523\n",
      "https://www.imcas.com/en/attend/imcas-world-congress-2023/sponsor/13526\n",
      "https://www.imcas.com/en/attend/imcas-world-congress-2023/sponsor/13531\n",
      "https://www.imcas.com/en/attend/imcas-world-congress-2023/sponsor/13576\n",
      "https://www.imcas.com/en/attend/imcas-world-congress-2023/sponsor/13588\n",
      "https://www.imcas.com/en/attend/imcas-world-congress-2023/sponsor/13615\n",
      "https://www.imcas.com/en/attend/imcas-world-congress-2023/sponsor/13717\n",
      "https://www.imcas.com/en/attend/imcas-world-congress-2023/sponsor/13297\n",
      "https://www.imcas.com/en/attend/imcas-world-congress-2023/sponsor/13299\n",
      "https://www.imcas.com/en/attend/imcas-world-congress-2023/sponsor/13320\n",
      "https://www.imcas.com/en/attend/imcas-world-congress-2023/sponsor/13670\n",
      "https://www.imcas.com/en/attend/imcas-world-congress-2023/sponsor/13354\n",
      "https://www.imcas.com/en/attend/imcas-world-congress-2023/sponsor/13371\n",
      "https://www.imcas.com/en/attend/imcas-world-congress-2023/sponsor/13390\n",
      "https://www.imcas.com/en/attend/imcas-world-congress-2023/sponsor/13427\n",
      "https://www.imcas.com/en/attend/imcas-world-congress-2023/sponsor/13722\n",
      "https://www.imcas.com/en/attend/imcas-world-congress-2023/sponsor/13472\n",
      "https://www.imcas.com/en/attend/imcas-world-congress-2023/sponsor/13650\n",
      "https://www.imcas.com/en/attend/imcas-world-congress-2023/sponsor/13218\n",
      "https://www.imcas.com/en/attend/imcas-world-congress-2023/sponsor/13398\n",
      "https://www.imcas.com/en/attend/imcas-world-congress-2023/sponsor/13507\n",
      "https://www.imcas.com/en/attend/imcas-world-congress-2023/sponsor/13512\n",
      "https://www.imcas.com/en/attend/imcas-world-congress-2023/sponsor/13533\n",
      "https://www.imcas.com/en/attend/imcas-world-congress-2023/sponsor/13754\n",
      "https://www.imcas.com/en/attend/imcas-world-congress-2023/sponsor/13559\n",
      "https://www.imcas.com/en/attend/imcas-world-congress-2023/sponsor/13561\n",
      "https://www.imcas.com/en/attend/imcas-world-congress-2023/sponsor/13566\n",
      "https://www.imcas.com/en/attend/imcas-world-congress-2023/sponsor/13569\n",
      "https://www.imcas.com/en/attend/imcas-world-congress-2023/sponsor/13579\n",
      "https://www.imcas.com/en/attend/imcas-world-congress-2023/sponsor/13592\n",
      "https://www.imcas.com/en/attend/imcas-world-congress-2023/sponsor/13646\n",
      "https://www.imcas.com/en/attend/imcas-world-congress-2023/sponsor/13448\n",
      "https://www.imcas.com/en/attend/imcas-world-congress-2023/sponsor/13302\n",
      "https://www.imcas.com/en/attend/imcas-world-congress-2023/sponsor/13313\n",
      "https://www.imcas.com/en/attend/imcas-world-congress-2023/sponsor/13322\n",
      "https://www.imcas.com/en/attend/imcas-world-congress-2023/sponsor/13327\n",
      "https://www.imcas.com/en/attend/imcas-world-congress-2023/sponsor/13330\n",
      "https://www.imcas.com/en/attend/imcas-world-congress-2023/sponsor/13603\n",
      "https://www.imcas.com/en/attend/imcas-world-congress-2023/sponsor/13342\n",
      "https://www.imcas.com/en/attend/imcas-world-congress-2023/sponsor/13380\n",
      "https://www.imcas.com/en/attend/imcas-world-congress-2023/sponsor/13352\n",
      "https://www.imcas.com/en/attend/imcas-world-congress-2023/sponsor/13355\n",
      "https://www.imcas.com/en/attend/imcas-world-congress-2023/sponsor/13389\n",
      "https://www.imcas.com/en/attend/imcas-world-congress-2023/sponsor/13394\n",
      "https://www.imcas.com/en/attend/imcas-world-congress-2023/sponsor/13424\n",
      "https://www.imcas.com/en/attend/imcas-world-congress-2023/sponsor/13425\n",
      "https://www.imcas.com/en/attend/imcas-world-congress-2023/sponsor/13445\n",
      "https://www.imcas.com/en/attend/imcas-world-congress-2023/sponsor/13760\n",
      "https://www.imcas.com/en/attend/imcas-world-congress-2023/sponsor/13454\n",
      "https://www.imcas.com/en/attend/imcas-world-congress-2023/sponsor/13463\n",
      "https://www.imcas.com/en/attend/imcas-world-congress-2023/sponsor/13539\n",
      "https://www.imcas.com/en/attend/imcas-world-congress-2023/sponsor/13288\n",
      "https://www.imcas.com/en/attend/imcas-world-congress-2023/sponsor/13555\n",
      "https://www.imcas.com/en/attend/imcas-world-congress-2023/sponsor/13572\n",
      "https://www.imcas.com/en/attend/imcas-world-congress-2023/sponsor/13575\n",
      "https://www.imcas.com/en/attend/imcas-world-congress-2023/sponsor/13587\n",
      "https://www.imcas.com/en/attend/imcas-world-congress-2023/sponsor/13591\n",
      "https://www.imcas.com/en/attend/imcas-world-congress-2023/sponsor/13468\n",
      "https://www.imcas.com/en/attend/imcas-world-congress-2023/sponsor/13614\n",
      "https://www.imcas.com/en/attend/imcas-world-congress-2023/sponsor/13622\n",
      "https://www.imcas.com/en/attend/imcas-world-congress-2023/sponsor/13626\n",
      "https://www.imcas.com/en/attend/imcas-world-congress-2023/sponsor/13628\n",
      "https://www.imcas.com/en/attend/imcas-world-congress-2023/sponsor/13634\n",
      "https://www.imcas.com/en/attend/imcas-world-congress-2023/sponsor/13637\n",
      "https://www.imcas.com/en/attend/imcas-world-congress-2023/sponsor/13638\n",
      "https://www.imcas.com/en/attend/imcas-world-congress-2023/sponsor/13286\n",
      "https://www.imcas.com/en/attend/imcas-world-congress-2023/sponsor/13340\n",
      "https://www.imcas.com/en/attend/imcas-world-congress-2023/sponsor/13346\n",
      "https://www.imcas.com/en/attend/imcas-world-congress-2023/sponsor/13356\n",
      "https://www.imcas.com/en/attend/imcas-world-congress-2023/sponsor/13494\n",
      "https://www.imcas.com/en/attend/imcas-world-congress-2023/sponsor/13365\n",
      "https://www.imcas.com/en/attend/imcas-world-congress-2023/sponsor/13386\n",
      "https://www.imcas.com/en/attend/imcas-world-congress-2023/sponsor/13423\n",
      "https://www.imcas.com/en/attend/imcas-world-congress-2023/sponsor/13434\n",
      "https://www.imcas.com/en/attend/imcas-world-congress-2023/sponsor/13438\n",
      "https://www.imcas.com/en/attend/imcas-world-congress-2023/sponsor/13440\n",
      "https://www.imcas.com/en/attend/imcas-world-congress-2023/sponsor/13410\n",
      "https://www.imcas.com/en/attend/imcas-world-congress-2023/sponsor/13446\n",
      "https://www.imcas.com/en/attend/imcas-world-congress-2023/sponsor/13450\n",
      "https://www.imcas.com/en/attend/imcas-world-congress-2023/sponsor/13480\n",
      "https://www.imcas.com/en/attend/imcas-world-congress-2023/sponsor/13495\n",
      "https://www.imcas.com/en/attend/imcas-world-congress-2023/sponsor/13509\n",
      "https://www.imcas.com/en/attend/imcas-world-congress-2023/sponsor/13370\n",
      "https://www.imcas.com/en/attend/imcas-world-congress-2023/sponsor/13482\n",
      "https://www.imcas.com/en/attend/imcas-world-congress-2023/sponsor/13524\n",
      "https://www.imcas.com/en/attend/imcas-world-congress-2023/sponsor/13527\n",
      "https://www.imcas.com/en/attend/imcas-world-congress-2023/sponsor/13731\n",
      "https://www.imcas.com/en/attend/imcas-world-congress-2023/sponsor/13536\n",
      "https://www.imcas.com/en/attend/imcas-world-congress-2023/sponsor/13543\n",
      "https://www.imcas.com/en/attend/imcas-world-congress-2023/sponsor/13547\n",
      "https://www.imcas.com/en/attend/imcas-world-congress-2023/sponsor/13557\n",
      "https://www.imcas.com/en/attend/imcas-world-congress-2023/sponsor/13553\n",
      "https://www.imcas.com/en/attend/imcas-world-congress-2023/sponsor/13563\n",
      "https://www.imcas.com/en/attend/imcas-world-congress-2023/sponsor/13528\n",
      "https://www.imcas.com/en/attend/imcas-world-congress-2023/sponsor/13496\n",
      "https://www.imcas.com/en/attend/imcas-world-congress-2023/sponsor/13584\n",
      "https://www.imcas.com/en/attend/imcas-world-congress-2023/sponsor/13594\n",
      "https://www.imcas.com/en/attend/imcas-world-congress-2023/sponsor/13595\n",
      "https://www.imcas.com/en/attend/imcas-world-congress-2023/sponsor/13598\n",
      "https://www.imcas.com/en/attend/imcas-world-congress-2023/sponsor/13616\n",
      "https://www.imcas.com/en/attend/imcas-world-congress-2023/sponsor/13618\n",
      "https://www.imcas.com/en/attend/imcas-world-congress-2023/sponsor/13620\n",
      "https://www.imcas.com/en/attend/imcas-world-congress-2023/sponsor/13624\n",
      "https://www.imcas.com/en/attend/imcas-world-congress-2023/sponsor/13630\n",
      "https://www.imcas.com/en/attend/imcas-world-congress-2023/sponsor/13295\n",
      "https://www.imcas.com/en/attend/imcas-world-congress-2023/sponsor/13305\n",
      "https://www.imcas.com/en/attend/imcas-world-congress-2023/sponsor/13308\n",
      "https://www.imcas.com/en/attend/imcas-world-congress-2023/sponsor/13312\n",
      "https://www.imcas.com/en/attend/imcas-world-congress-2023/sponsor/13316\n",
      "https://www.imcas.com/en/attend/imcas-world-congress-2023/sponsor/13306\n",
      "https://www.imcas.com/en/attend/imcas-world-congress-2023/sponsor/13326\n",
      "https://www.imcas.com/en/attend/imcas-world-congress-2023/sponsor/13329\n",
      "https://www.imcas.com/en/attend/imcas-world-congress-2023/sponsor/13428\n",
      "https://www.imcas.com/en/attend/imcas-world-congress-2023/sponsor/13338\n",
      "https://www.imcas.com/en/attend/imcas-world-congress-2023/sponsor/13285\n",
      "https://www.imcas.com/en/attend/imcas-world-congress-2023/sponsor/13344\n",
      "https://www.imcas.com/en/attend/imcas-world-congress-2023/sponsor/13695\n",
      "https://www.imcas.com/en/attend/imcas-world-congress-2023/sponsor/13353\n",
      "https://www.imcas.com/en/attend/imcas-world-congress-2023/sponsor/13357\n",
      "https://www.imcas.com/en/attend/imcas-world-congress-2023/sponsor/13358\n",
      "https://www.imcas.com/en/attend/imcas-world-congress-2023/sponsor/13361\n",
      "https://www.imcas.com/en/attend/imcas-world-congress-2023/sponsor/13419\n",
      "https://www.imcas.com/en/attend/imcas-world-congress-2023/sponsor/13368\n",
      "https://www.imcas.com/en/attend/imcas-world-congress-2023/sponsor/13372\n",
      "https://www.imcas.com/en/attend/imcas-world-congress-2023/sponsor/13217\n",
      "https://www.imcas.com/en/attend/imcas-world-congress-2023/sponsor/13374\n",
      "https://www.imcas.com/en/attend/imcas-world-congress-2023/sponsor/13307\n",
      "https://www.imcas.com/en/attend/imcas-world-congress-2023/sponsor/13578\n",
      "https://www.imcas.com/en/attend/imcas-world-congress-2023/sponsor/13396\n",
      "https://www.imcas.com/en/attend/imcas-world-congress-2023/sponsor/13436\n",
      "https://www.imcas.com/en/attend/imcas-world-congress-2023/sponsor/13725\n",
      "https://www.imcas.com/en/attend/imcas-world-congress-2023/sponsor/13402\n",
      "https://www.imcas.com/en/attend/imcas-world-congress-2023/sponsor/13407\n",
      "https://www.imcas.com/en/attend/imcas-world-congress-2023/sponsor/13413\n",
      "https://www.imcas.com/en/attend/imcas-world-congress-2023/sponsor/13416\n",
      "https://www.imcas.com/en/attend/imcas-world-congress-2023/sponsor/13653\n",
      "https://www.imcas.com/en/attend/imcas-world-congress-2023/sponsor/13422\n",
      "https://www.imcas.com/en/attend/imcas-world-congress-2023/sponsor/13430\n",
      "https://www.imcas.com/en/attend/imcas-world-congress-2023/sponsor/13687\n",
      "https://www.imcas.com/en/attend/imcas-world-congress-2023/sponsor/13433\n",
      "https://www.imcas.com/en/attend/imcas-world-congress-2023/sponsor/13439\n",
      "https://www.imcas.com/en/attend/imcas-world-congress-2023/sponsor/13640\n",
      "https://www.imcas.com/en/attend/imcas-world-congress-2023/sponsor/13728\n",
      "https://www.imcas.com/en/attend/imcas-world-congress-2023/sponsor/13452\n",
      "https://www.imcas.com/en/attend/imcas-world-congress-2023/sponsor/13350\n",
      "https://www.imcas.com/en/attend/imcas-world-congress-2023/sponsor/13457\n",
      "https://www.imcas.com/en/attend/imcas-world-congress-2023/sponsor/13473\n",
      "https://www.imcas.com/en/attend/imcas-world-congress-2023/sponsor/13476\n",
      "https://www.imcas.com/en/attend/imcas-world-congress-2023/sponsor/13702\n",
      "https://www.imcas.com/en/attend/imcas-world-congress-2023/sponsor/13688\n",
      "https://www.imcas.com/en/attend/imcas-world-congress-2023/sponsor/13292\n",
      "https://www.imcas.com/en/attend/imcas-world-congress-2023/sponsor/13456\n",
      "https://www.imcas.com/en/attend/imcas-world-congress-2023/sponsor/13447\n",
      "https://www.imcas.com/en/attend/imcas-world-congress-2023/sponsor/13497\n",
      "https://www.imcas.com/en/attend/imcas-world-congress-2023/sponsor/13500\n",
      "https://www.imcas.com/en/attend/imcas-world-congress-2023/sponsor/13503\n",
      "https://www.imcas.com/en/attend/imcas-world-congress-2023/sponsor/13727\n",
      "https://www.imcas.com/en/attend/imcas-world-congress-2023/sponsor/13510\n",
      "https://www.imcas.com/en/attend/imcas-world-congress-2023/sponsor/13514\n",
      "https://www.imcas.com/en/attend/imcas-world-congress-2023/sponsor/13519\n",
      "https://www.imcas.com/en/attend/imcas-world-congress-2023/sponsor/13733\n",
      "https://www.imcas.com/en/attend/imcas-world-congress-2023/sponsor/13529\n",
      "https://www.imcas.com/en/attend/imcas-world-congress-2023/sponsor/13530\n",
      "https://www.imcas.com/en/attend/imcas-world-congress-2023/sponsor/13535\n",
      "https://www.imcas.com/en/attend/imcas-world-congress-2023/sponsor/13542\n",
      "https://www.imcas.com/en/attend/imcas-world-congress-2023/sponsor/13672\n",
      "https://www.imcas.com/en/attend/imcas-world-congress-2023/sponsor/13550\n",
      "https://www.imcas.com/en/attend/imcas-world-congress-2023/sponsor/13643\n",
      "https://www.imcas.com/en/attend/imcas-world-congress-2023/sponsor/13551\n",
      "https://www.imcas.com/en/attend/imcas-world-congress-2023/sponsor/13715\n",
      "https://www.imcas.com/en/attend/imcas-world-congress-2023/sponsor/13589\n",
      "https://www.imcas.com/en/attend/imcas-world-congress-2023/sponsor/13414\n",
      "https://www.imcas.com/en/attend/imcas-world-congress-2023/sponsor/13730\n",
      "https://www.imcas.com/en/attend/imcas-world-congress-2023/sponsor/13606\n",
      "https://www.imcas.com/en/attend/imcas-world-congress-2023/sponsor/13607\n",
      "https://www.imcas.com/en/attend/imcas-world-congress-2023/sponsor/13612\n",
      "https://www.imcas.com/en/attend/imcas-world-congress-2023/sponsor/13617\n",
      "https://www.imcas.com/en/attend/imcas-world-congress-2023/sponsor/13621\n",
      "https://www.imcas.com/en/attend/imcas-world-congress-2023/sponsor/13631\n",
      "https://www.imcas.com/en/attend/imcas-world-congress-2023/sponsor/13508\n",
      "https://www.imcas.com/en/attend/imcas-world-congress-2023/sponsor/13289\n",
      "https://www.imcas.com/en/attend/imcas-world-congress-2023/sponsor/13318\n",
      "https://www.imcas.com/en/attend/imcas-world-congress-2023/sponsor/13737\n",
      "https://www.imcas.com/en/attend/imcas-world-congress-2023/sponsor/13293\n",
      "https://www.imcas.com/en/attend/imcas-world-congress-2023/sponsor/13294\n",
      "https://www.imcas.com/en/attend/imcas-world-congress-2023/sponsor/13298\n",
      "https://www.imcas.com/en/attend/imcas-world-congress-2023/sponsor/14254\n",
      "https://www.imcas.com/en/attend/imcas-world-congress-2023/sponsor/13465\n",
      "https://www.imcas.com/en/attend/imcas-world-congress-2023/sponsor/14255\n",
      "https://www.imcas.com/en/attend/imcas-world-congress-2023/sponsor/14231\n",
      "https://www.imcas.com/en/attend/imcas-world-congress-2023/sponsor/13303\n",
      "https://www.imcas.com/en/attend/imcas-world-congress-2023/sponsor/14266\n",
      "https://www.imcas.com/en/attend/imcas-world-congress-2023/sponsor/13319\n",
      "https://www.imcas.com/en/attend/imcas-world-congress-2023/sponsor/13324\n",
      "https://www.imcas.com/en/attend/imcas-world-congress-2023/sponsor/13331\n",
      "https://www.imcas.com/en/attend/imcas-world-congress-2023/sponsor/13723\n",
      "https://www.imcas.com/en/attend/imcas-world-congress-2023/sponsor/13334\n",
      "https://www.imcas.com/en/attend/imcas-world-congress-2023/sponsor/13669\n",
      "https://www.imcas.com/en/attend/imcas-world-congress-2023/sponsor/13337\n",
      "https://www.imcas.com/en/attend/imcas-world-congress-2023/sponsor/13336\n",
      "https://www.imcas.com/en/attend/imcas-world-congress-2023/sponsor/13199\n",
      "https://www.imcas.com/en/attend/imcas-world-congress-2023/sponsor/13724\n",
      "https://www.imcas.com/en/attend/imcas-world-congress-2023/sponsor/13348\n",
      "https://www.imcas.com/en/attend/imcas-world-congress-2023/sponsor/13770\n",
      "https://www.imcas.com/en/attend/imcas-world-congress-2023/sponsor/13738\n",
      "https://www.imcas.com/en/attend/imcas-world-congress-2023/sponsor/13367\n",
      "https://www.imcas.com/en/attend/imcas-world-congress-2023/sponsor/13384\n",
      "https://www.imcas.com/en/attend/imcas-world-congress-2023/sponsor/13392\n",
      "https://www.imcas.com/en/attend/imcas-world-congress-2023/sponsor/13406\n",
      "https://www.imcas.com/en/attend/imcas-world-congress-2023/sponsor/13914\n",
      "https://www.imcas.com/en/attend/imcas-world-congress-2023/sponsor/13762\n",
      "https://www.imcas.com/en/attend/imcas-world-congress-2023/sponsor/13755\n",
      "https://www.imcas.com/en/attend/imcas-world-congress-2023/sponsor/13409\n",
      "https://www.imcas.com/en/attend/imcas-world-congress-2023/sponsor/13412\n",
      "https://www.imcas.com/en/attend/imcas-world-congress-2023/sponsor/13562\n",
      "https://www.imcas.com/en/attend/imcas-world-congress-2023/sponsor/13554\n",
      "https://www.imcas.com/en/attend/imcas-world-congress-2023/sponsor/13301\n",
      "https://www.imcas.com/en/attend/imcas-world-congress-2023/sponsor/13734\n",
      "https://www.imcas.com/en/attend/imcas-world-congress-2023/sponsor/13442\n",
      "https://www.imcas.com/en/attend/imcas-world-congress-2023/sponsor/13741\n",
      "https://www.imcas.com/en/attend/imcas-world-congress-2023/sponsor/13444\n",
      "https://www.imcas.com/en/attend/imcas-world-congress-2023/sponsor/13449\n",
      "https://www.imcas.com/en/attend/imcas-world-congress-2023/sponsor/13784\n",
      "https://www.imcas.com/en/attend/imcas-world-congress-2023/sponsor/13541\n",
      "https://www.imcas.com/en/attend/imcas-world-congress-2023/sponsor/13458\n",
      "https://www.imcas.com/en/attend/imcas-world-congress-2023/sponsor/13339\n",
      "https://www.imcas.com/en/attend/imcas-world-congress-2023/sponsor/14265\n",
      "https://www.imcas.com/en/attend/imcas-world-congress-2023/sponsor/13471\n",
      "https://www.imcas.com/en/attend/imcas-world-congress-2023/sponsor/13484\n",
      "https://www.imcas.com/en/attend/imcas-world-congress-2023/sponsor/13489\n",
      "https://www.imcas.com/en/attend/imcas-world-congress-2023/sponsor/13726\n",
      "https://www.imcas.com/en/attend/imcas-world-congress-2023/sponsor/13654\n",
      "https://www.imcas.com/en/attend/imcas-world-congress-2023/sponsor/13498\n",
      "https://www.imcas.com/en/attend/imcas-world-congress-2023/sponsor/13645\n",
      "https://www.imcas.com/en/attend/imcas-world-congress-2023/sponsor/13504\n",
      "https://www.imcas.com/en/attend/imcas-world-congress-2023/sponsor/13780\n",
      "https://www.imcas.com/en/attend/imcas-world-congress-2023/sponsor/13506\n",
      "https://www.imcas.com/en/attend/imcas-world-congress-2023/sponsor/13759\n",
      "https://www.imcas.com/en/attend/imcas-world-congress-2023/sponsor/13608\n",
      "https://www.imcas.com/en/attend/imcas-world-congress-2023/sponsor/13785\n",
      "https://www.imcas.com/en/attend/imcas-world-congress-2023/sponsor/13513\n",
      "https://www.imcas.com/en/attend/imcas-world-congress-2023/sponsor/13786\n",
      "https://www.imcas.com/en/attend/imcas-world-congress-2023/sponsor/13729\n",
      "https://www.imcas.com/en/attend/imcas-world-congress-2023/sponsor/13421\n",
      "https://www.imcas.com/en/attend/imcas-world-congress-2023/sponsor/13517\n",
      "https://www.imcas.com/en/attend/imcas-world-congress-2023/sponsor/13521\n",
      "https://www.imcas.com/en/attend/imcas-world-congress-2023/sponsor/13515\n",
      "https://www.imcas.com/en/attend/imcas-world-congress-2023/sponsor/13686\n",
      "https://www.imcas.com/en/attend/imcas-world-congress-2023/sponsor/13525\n",
      "https://www.imcas.com/en/attend/imcas-world-congress-2023/sponsor/13534\n",
      "https://www.imcas.com/en/attend/imcas-world-congress-2023/sponsor/13537\n",
      "https://www.imcas.com/en/attend/imcas-world-congress-2023/sponsor/13540\n",
      "https://www.imcas.com/en/attend/imcas-world-congress-2023/sponsor/13545\n",
      "https://www.imcas.com/en/attend/imcas-world-congress-2023/sponsor/13552\n",
      "https://www.imcas.com/en/attend/imcas-world-congress-2023/sponsor/13556\n",
      "https://www.imcas.com/en/attend/imcas-world-congress-2023/sponsor/13560\n",
      "https://www.imcas.com/en/attend/imcas-world-congress-2023/sponsor/14280\n",
      "https://www.imcas.com/en/attend/imcas-world-congress-2023/sponsor/13567\n",
      "https://www.imcas.com/en/attend/imcas-world-congress-2023/sponsor/14274\n",
      "https://www.imcas.com/en/attend/imcas-world-congress-2023/sponsor/13652\n",
      "https://www.imcas.com/en/attend/imcas-world-congress-2023/sponsor/13705\n",
      "https://www.imcas.com/en/attend/imcas-world-congress-2023/sponsor/13583\n",
      "https://www.imcas.com/en/attend/imcas-world-congress-2023/sponsor/14224\n",
      "https://www.imcas.com/en/attend/imcas-world-congress-2023/sponsor/13593\n",
      "https://www.imcas.com/en/attend/imcas-world-congress-2023/sponsor/13600\n",
      "https://www.imcas.com/en/attend/imcas-world-congress-2023/sponsor/14223\n",
      "https://www.imcas.com/en/attend/imcas-world-congress-2023/sponsor/13758\n",
      "https://www.imcas.com/en/attend/imcas-world-congress-2023/sponsor/13685\n",
      "https://www.imcas.com/en/attend/imcas-world-congress-2023/sponsor/13611\n",
      "https://www.imcas.com/en/attend/imcas-world-congress-2023/sponsor/13613\n",
      "https://www.imcas.com/en/attend/imcas-world-congress-2023/sponsor/13763\n",
      "https://www.imcas.com/en/attend/imcas-world-congress-2023/sponsor/13633\n",
      "https://www.imcas.com/en/attend/imcas-world-congress-2023/sponsor/13773\n",
      "https://www.imcas.com/en/attend/imcas-world-congress-2023/sponsor/13668\n",
      "https://www.imcas.com/en/attend/imcas-world-congress-2023/sponsor/13619\n",
      "https://www.imcas.com/en/attend/imcas-world-congress-2023/sponsor/13627\n",
      "https://www.imcas.com/en/attend/imcas-world-congress-2023/sponsor/13629\n",
      "https://www.imcas.com/en/attend/imcas-world-congress-2023/sponsor/14217\n",
      "https://www.imcas.com/en/attend/imcas-world-congress-2023/sponsor/13632\n",
      "https://www.imcas.com/en/attend/imcas-world-congress-2023/sponsor/13779\n",
      "https://www.imcas.com/en/attend/imcas-world-congress-2023/sponsor/13753\n",
      "https://www.imcas.com/en/attend/imcas-world-congress-2023/sponsor/13636\n"
     ]
    }
   ],
   "source": [
    "website = []\n",
    "\n",
    "for ll in links:\n",
    "    web = ll['href']\n",
    "    print(web)\n",
    "    website.append(web)"
   ],
   "metadata": {
    "collapsed": false,
    "ExecuteTime": {
     "end_time": "2023-07-29T21:13:32.886627Z",
     "start_time": "2023-07-29T21:13:32.678612500Z"
    }
   }
  },
  {
   "cell_type": "markdown",
   "source": [
    "## Product detail"
   ],
   "metadata": {
    "collapsed": false,
    "ExecuteTime": {
     "end_time": "2023-07-29T20:35:27.246344900Z",
     "start_time": "2023-07-29T20:35:27.212344600Z"
    }
   },
   "outputs": [
    {
     "data": {
      "text/plain": "'Croma Pharma GmbH'"
     },
     "execution_count": 62,
     "metadata": {},
     "output_type": "execute_result"
    }
   ],
   "execution_count": 62
  },
  {
   "cell_type": "code",
   "execution_count": 29,
   "outputs": [
    {
     "name": "stdout",
     "output_type": "stream",
     "text": [
      "<html>\n",
      " <head>\n",
      "  <link href=\"https://fonts.googleapis.com/css?family=Open+Sans:300,400,700|Lato:400,700|Source+Sans+Pro:400,700|Roboto:100,400,700,300,300italic,400italic,500,500italic,700italic,900,900italic|Raleway:400,700,200,200italic,300,300italic,400italic,500,500italic,600,600italic,700italic,800,800italic,900,900italic&amp;subset=latin,cyrillic-ext,cyrillic,latin-ext\" rel=\"stylesheet\" type=\"text/css\"/>\n",
      "  <link href=\"https://fonts.googleapis.com/css?family=Playfair+Display\" rel=\"stylesheet\" type=\"text/css\"/>\n",
      "  <link href=\"https://fonts.googleapis.com/css?family=Merriweather:300,400\" rel=\"stylesheet\"/>\n",
      "  <style>\n",
      "   body{\n",
      "        margin : 0;\n",
      "    }\n",
      "\n",
      "    .backImcas{\n",
      "        display:block;\n",
      "        margin : 0;\n",
      "        padding : 15px 20px;\n",
      "        background: #B24268;\n",
      "        color: white;\n",
      "        font-weight:bold;\n",
      "        font-size: 16px;\n",
      "        font-family: \"roboto\";\n",
      "        box-sizing: border-box;\n",
      "        text-decoration: none;\n",
      "    }\n",
      "\n",
      "    .physicBooth{\n",
      "        margin: 0px auto;\n",
      "        padding: 0px 15px;\n",
      "        font-family: \"roboto\";\n",
      "    }\n",
      "\n",
      "    .sponsor-profile-header-logo{\n",
      "        width: 100%;\n",
      "    }\n",
      "\n",
      "    .sponsor-profile-header-logo img{\n",
      "        display: block;\n",
      "        margin: 2em auto;\n",
      "    }\n",
      "\n",
      "    .sponsor-profile-header-description {\n",
      "        width: 100%;\n",
      "        display: flex;\n",
      "        flex-direction: column;\n",
      "    }\n",
      "\n",
      "    .sponsor-profile-modal-content-sponsor-title{\n",
      "         order: 1;\n",
      "         text-align: center;\n",
      "         margin:0;\n",
      "     }\n",
      "    .sponsor-profile-modal-content-sponsor-country{\n",
      "        margin: 0;\n",
      "        order:3;\n",
      "     }\n",
      "\n",
      "    .sponsor-profile-header-description  .sponsor-profile-modal-content-sponsor-details:nth-child(3){\n",
      "        order:2;\n",
      "        text-align: center;\n",
      "        font-size: 1.25em;\n",
      "        font-weight: bold;\n",
      "        color: black;\n",
      "        text-transform: uppercase;\n",
      "        margin: 0;\n",
      "        margin-bottom: 1.25em;\n",
      "    }\n",
      "    .sponsor-profile-header-description  *:nth-child(4){\n",
      "        margin: 0;\n",
      "\n",
      "        margin-bottom: 1.25em;\n",
      "    }\n",
      "    .sponsor-profile-header-description  *:nth-child(n+4){\n",
      "        order:4;\n",
      "        color: black;\n",
      "    }\n",
      "\n",
      "    .sponsor-resume{\n",
      "        font-weight:300;\n",
      "        font-size:16px;\n",
      "    }\n",
      "  </style>\n",
      " </head>\n",
      " <body>\n",
      "  <div class=\"modal-dialog modal-lg physicBooth\">\n",
      "   <div class=\"sponsor-profile-modal-content\">\n",
      "    <div class=\"row sponsor-profile-header\">\n",
      "     <div class=\"col-sm-4 text-center sponsor-profile-header-logo\">\n",
      "      <img src=\"https://comexposium-healthcare-uploads.s3-eu-west-1.amazonaws.com/users/86817/logo/WWDJ4neT0LYH5s4bBbLj9N7cLMnfzFZEjeJ20jq6.jpeg\" style=\"width: 100%;max-width:300px;margin: 2em auto\"/>\n",
      "     </div>\n",
      "     <div class=\"col-sm-8 sponsor-profile-header-description\">\n",
      "      <h4 class=\"sponsor-profile-modal-content-sponsor-title\">\n",
      "       Croma Pharma GmbH\n",
      "      </h4>\n",
      "      <h5 class=\"sponsor-profile-modal-content-sponsor-country\">\n",
      "       <i aria-hidden=\"true\" class=\"fa fa-flag\">\n",
      "       </i>\n",
      "       Austria\n",
      "      </h5>\n",
      "      <h5 class=\"sponsor-profile-modal-content-sponsor-details\">\n",
      "       Booth number: P240\n",
      "      </h5>\n",
      "      <p class=\"sponsor-profile-modal-content-sponsor-details\">\n",
      "       <i aria-hidden=\"true\" class=\"fa fa-link\">\n",
      "       </i>\n",
      "       Website\n",
      "                        :\n",
      "       <a href=\"http://www.croma.at\" target=\"_blank\">\n",
      "        www.croma.at\n",
      "       </a>\n",
      "      </p>\n",
      "      <p class=\"sponsor-profile-modal-content-sponsor-details\">\n",
      "       Product/Device:\n",
      "      </p>\n",
      "      <div style=\"font-size: 14px;font-weight:200;font-style: italic;\">\n",
      "       - Injectables: Fillers\n",
      "       <br/>\n",
      "       - Threads - Suspending devices\n",
      "       <br/>\n",
      "       - Cosmeceutics - Anti aging products\n",
      "       <br/>\n",
      "      </div>\n",
      "     </div>\n",
      "    </div>\n",
      "    <div class=\"row\">\n",
      "     <div class=\"col-sm-12\">\n",
      "      <div class=\"sponsor-resume\">\n",
      "       Founded in 1976, Croma-Pharma GmbH (Croma) is an Austrian family-owned company that specializes in the industrial production of hyaluronic acid syringes for the fields of medical aesthetics, ophthalmology and orthopaedics. Croma currently runs 12 international sales companies and distributes its products in more than 70 countries. Within its global sales network, Croma focuses with own branded products on minimally invasive aesthetic medicine. Besides a broad range of HA fillers from the own production site, Croma markets PDO lifting threads, a Platelet Rich Plasma (PRP) system, and high-quality skincare technologies in its core strategic markets.\n",
      "      </div>\n",
      "     </div>\n",
      "    </div>\n",
      "   </div>\n",
      "  </div>\n",
      " </body>\n",
      "</html>\n"
     ]
    }
   ],
   "source": [
    "p = requests.get('https://www.imcas.com/en/attend/imcas-world-congress-2023/sponsor/13377')\n",
    "soupp = bs(p.content)\n",
    "\n",
    "#print out\n",
    "\n",
    "comweb = soupp.prettify()\n",
    "print(comweb)"
   ],
   "metadata": {
    "collapsed": false,
    "ExecuteTime": {
     "end_time": "2023-07-29T21:13:33.866500800Z",
     "start_time": "2023-07-29T21:13:32.756617400Z"
    }
   }
  },
  {
   "cell_type": "code",
   "execution_count": 30,
   "outputs": [
    {
     "data": {
      "text/plain": "[' Injectables: Fillers ',\n ' Threads ',\n ' Suspending devices ',\n ' Cosmeceutics ',\n ' Anti aging products']"
     },
     "execution_count": 30,
     "metadata": {},
     "output_type": "execute_result"
    }
   ],
   "source": [
    "ss = soupp.find(class_=\"col-sm-8 sponsor-profile-header-description\")\n",
    "ss.select(\"div\")[0].getText(\" \", strip= True).replace(\"\\n\",\" \").split(\"-\")[1:]"
   ],
   "metadata": {
    "collapsed": false,
    "ExecuteTime": {
     "end_time": "2023-07-29T21:13:33.951403200Z",
     "start_time": "2023-07-29T21:13:33.868508600Z"
    }
   }
  },
  {
   "cell_type": "code",
   "execution_count": null,
   "outputs": [],
   "source": [
    "    zz = zoup.find('div', class_ = 'col-sm-8 sponsor-profile-header-description')\n",
    "    zzinfo = zz.find('div').getText(\" \", strip= True).replace(\"\\n\",\" \")\n",
    "    print(zzinfo)"
   ],
   "metadata": {
    "collapsed": false
   }
  },
  {
   "cell_type": "code",
   "execution_count": null,
   "outputs": [],
   "source": [
    "# get company resume\n",
    "res = soupp.find('div', class_= 'sponsor-resume').getText(\" \", strip= True)\n",
    "res"
   ],
   "metadata": {
    "collapsed": false
   }
  },
  {
   "cell_type": "code",
   "execution_count": null,
   "outputs": [],
   "source": [
    "website[0]"
   ],
   "metadata": {
    "collapsed": false
   }
  },
  {
   "cell_type": "code",
   "execution_count": 96,
   "outputs": [
    {
     "data": {
      "text/plain": "(['Allergan Aesthetics '],\n ['Ireland'],\n [[' Injectables: Fillers ', ' Injectables: Botulinum toxins']],\n ['The science of you Allergan Aesthetics, an AbbVie company, drives the advancement of aesthetic medicine. Centered in science, we develop, manufacture, and market a portfolio of innovative treatments and technologies spanning facial injectables, body-contouring, surgical, and skincare products that define our industry and serve our customers.  Here. Confidently. Together.  As a leader in aesthetics, we continue to steer innovation by investing in customer success. Our hands-on education and training programs are taught at the highest level of clinical excellence and represent the latest thinking and innovations in the industry, backed by science. Our people are our greatest strength. Change never stops, and the variety of perspectives, ideas, and backgrounds embodied at Allergan Aesthetics uniquely equips us to innovate in our ever-changing market. Being inclusive is our choice and is alive in all the work we do â€“ now and into the future.'])"
     },
     "execution_count": 96,
     "metadata": {},
     "output_type": "execute_result"
    }
   ],
   "source": [
    "def scrape_website(url):\n",
    "    def get_com(zoup):\n",
    "        if zoup.find('h4', class_=\"sponsor-profile-modal-content-sponsor-title\"):\n",
    "            return [cc.getText() for cc in zoup.find_all('h4', class_='sponsor-profile-modal-content-sponsor-title')]\n",
    "\n",
    "    def get_origin(zoup):\n",
    "        countries = zoup.find_all('h5', class_='sponsor-profile-modal-content-sponsor-country')\n",
    "        if countries:\n",
    "            return [oo.getText(\" \", strip=True).replace(\"\\n\", \" \") for oo in countries if oo.getText(\" \", strip=True).replace(\"\\n\", \" \").strip()]\n",
    "        else:\n",
    "            return None\n",
    "\n",
    "    def get_data(zoup):\n",
    "        if zoup.find(class_=\"col-sm-8 sponsor-profile-header-description\"):\n",
    "            return [item.getText(\" \", strip=True).replace(\"\\n\", \" \").split(\"-\")[1:] for item in zoup.find_all('div', class_='col-sm-8 sponsor-profile-header-description')]\n",
    "        else:\n",
    "            return None\n",
    "\n",
    "    def get_res(zoup):\n",
    "        if zoup.find('div', class_=\"sponsor-resume\"):\n",
    "            return [rr.getText(\" \", strip=True).replace(\"\\n\", \" \").replace('\\r', '') for rr in zoup.find_all('div', class_='sponsor-resume')]\n",
    "\n",
    "    u = requests.get(url)\n",
    "    zoup = bs(u.content)\n",
    "\n",
    "    company_name = get_com(zoup)\n",
    "    country = get_origin(zoup)\n",
    "    product_info = get_data(zoup)\n",
    "    company_resume = get_res(zoup)\n",
    "\n",
    "    return company_name, country, product_info, company_resume\n",
    "\n",
    "scrape_website('https://www.imcas.com/en/attend/imcas-world-congress-2023/sponsor/13309')\n"
   ],
   "metadata": {
    "collapsed": false,
    "ExecuteTime": {
     "end_time": "2023-07-29T22:35:32.995206500Z",
     "start_time": "2023-07-29T22:35:31.641439100Z"
    }
   }
  },
  {
   "cell_type": "code",
   "execution_count": 97,
   "outputs": [
    {
     "name": "stdout",
     "output_type": "stream",
     "text": [
      "https://www.imcas.com/en/attend/imcas-world-congress-2023/sponsor/13341\n",
      "https://www.imcas.com/en/attend/imcas-world-congress-2023/sponsor/13437\n"
     ]
    }
   ],
   "source": [
    "# test function\n",
    "\n",
    "aa = []\n",
    "\n",
    "for web in website[1:3]:\n",
    "    aa.append(scrape_website(web))\n",
    "    print(web)\n"
   ],
   "metadata": {
    "collapsed": false,
    "ExecuteTime": {
     "end_time": "2023-07-29T22:35:43.767279200Z",
     "start_time": "2023-07-29T22:35:41.421565400Z"
    }
   }
  },
  {
   "cell_type": "code",
   "execution_count": 98,
   "outputs": [
    {
     "data": {
      "text/plain": "[(['BioScience GmbH'],\n  ['Germany'],\n  [[]],\n  ['German experts in aesthetic medicine since 2001, BioScience has established itself as a pioneer with an exclusive product range in monophasic and biphasic dermal fillers.    BioScience is the only CE Mark-certified provider of HA dermal fillers for both face and body through its recognized brands â€“ HYAcorp and Genefill.  Deeply committed to excellence and innovation - with patented technologies - the company has firmly established trusted partnerships with plastic surgeons and dermatologists worldwide, leading to its presence in  77 countries.  Bioscience: high safety to achieve the beauty of quality.']),\n (['Galderma'],\n  ['France'],\n  [[' Injectables: Fillers ',\n    ' Pharmaceutical ',\n    ' Drugs in dermatology or plastic surgery ',\n    ' Injectables: Botulinum toxins']],\n  ['With a unique heritage in dermatology as well as decades of cutting-edge innovation, Galderma is the leading company solely dedicated to advancing dermatology for every skin story. We are strategically positioned in attractive, consumer-driven segments of the dermatology market, characterized by high growth fundamentals. Through trusted partnerships with healthcare professionals, we ensure to meet individual consumer and patient needs with superior outcomes. For more information: www.galderma.com'])]"
     },
     "execution_count": 98,
     "metadata": {},
     "output_type": "execute_result"
    }
   ],
   "source": [
    "aa"
   ],
   "metadata": {
    "collapsed": false,
    "ExecuteTime": {
     "end_time": "2023-07-29T22:35:45.005966100Z",
     "start_time": "2023-07-29T22:35:44.975774400Z"
    }
   }
  },
  {
   "cell_type": "code",
   "execution_count": 119,
   "outputs": [],
   "source": [
    "# Gather each company detail into lists\n",
    "company_list = []\n",
    "\n",
    "for web in website:\n",
    "    company_list.append(scrape_website(web))"
   ],
   "metadata": {
    "collapsed": false,
    "ExecuteTime": {
     "end_time": "2023-07-29T23:53:57.532738Z",
     "start_time": "2023-07-29T23:48:46.035551400Z"
    }
   }
  },
  {
   "cell_type": "markdown",
   "source": [
    "# Import Jason"
   ],
   "metadata": {
    "collapsed": false
   }
  },
  {
   "cell_type": "code",
   "execution_count": 41,
   "outputs": [],
   "source": [
    "import json\n",
    "\n",
    "def save_data(title, data):\n",
    "    with open(title,'w', encoding='utf-8') as f:\n",
    "        json.dump(data,f, ensure_ascii=False, indent=2)"
   ],
   "metadata": {
    "collapsed": false,
    "ExecuteTime": {
     "end_time": "2023-07-29T21:35:39.917083300Z",
     "start_time": "2023-07-29T21:35:39.873083200Z"
    }
   }
  },
  {
   "cell_type": "code",
   "execution_count": 39,
   "outputs": [],
   "source": [
    "def load_data(title):\n",
    "    with open(title, encoding='utf-8') as f:\n",
    "        return json.load(f)"
   ],
   "metadata": {
    "collapsed": false,
    "ExecuteTime": {
     "end_time": "2023-07-29T21:34:54.872576100Z",
     "start_time": "2023-07-29T21:34:54.831575900Z"
    }
   }
  },
  {
   "cell_type": "code",
   "execution_count": 42,
   "outputs": [],
   "source": [
    "save_data('company_list_clean.json', company_list)"
   ],
   "metadata": {
    "collapsed": false,
    "ExecuteTime": {
     "end_time": "2023-07-29T21:35:43.380970200Z",
     "start_time": "2023-07-29T21:35:43.301965500Z"
    }
   }
  },
  {
   "cell_type": "code",
   "execution_count": 50,
   "outputs": [
    {
     "data": {
      "text/plain": "(['Hydrafacial '],\n ['United States'],\n [[' Surgical instruments ',\n   ' Medical instruments ',\n   ' Equipments ',\n   ' Furniture ',\n   ' Disposable supplies ',\n   ' Cosmeceutics ',\n   ' Anti aging products ',\n   ' Dermatology treatment ',\n   ' Acne']],\n ['Hydrafacial is revolutionising skin health for aesthetic professionals and their clients. Innovating for over 22 years, we have 68 patents issued/pending and numerous awards including New Beautyâ€™s Best, 4 years running. We are loved around the world, found in over 11,000 locations throughout 90+ countries. The Hydrafacial is a 3-step, 30-minute treatment that cleanses, extracts, and hydrates while quenching skin with vital nutrients like antioxidants, peptides, and hyaluronic acid. The amazing results are both instant and long-lasting, improving the appearance of fine lines, enlarged pores, congested skin, and dark spots. Furthermore, our portfolio of boosters,  caters for a variety of skin concerns, providing a more personalised experience for our consumers. For more information, visit https://hydrafacialemea.com/'])"
     },
     "execution_count": 50,
     "metadata": {},
     "output_type": "execute_result"
    }
   ],
   "source": [
    "company_list[20]"
   ],
   "metadata": {
    "collapsed": false,
    "ExecuteTime": {
     "end_time": "2023-07-29T21:41:24.482618400Z",
     "start_time": "2023-07-29T21:41:24.405617900Z"
    }
   }
  },
  {
   "cell_type": "markdown",
   "source": [
    "# Convert to CSV"
   ],
   "metadata": {
    "collapsed": false
   }
  },
  {
   "cell_type": "code",
   "execution_count": 51,
   "outputs": [],
   "source": [
    "import pandas as pd"
   ],
   "metadata": {
    "collapsed": false,
    "ExecuteTime": {
     "end_time": "2023-07-29T21:43:38.927040900Z",
     "start_time": "2023-07-29T21:43:37.763201600Z"
    }
   }
  },
  {
   "cell_type": "code",
   "execution_count": 52,
   "outputs": [
    {
     "data": {
      "text/plain": "                        0              1  \\\n0  [Allergan Aesthetics ]      [Ireland]   \n1       [BioScience GmbH]      [Germany]   \n2              [Galderma]       [France]   \n3   [Laboratoires VIVACY]       [France]   \n4  [TEOXANE LABORATORIES]  [Switzerland]   \n\n                                                   2  \\\n0  [[ Injectables: Fillers ,  Injectables: Botuli...   \n1                                               [[]]   \n2  [[ Injectables: Fillers ,  Pharmaceutical ,  D...   \n3  [[ Injectables: Fillers ,  Cosmeceutics ,  Ant...   \n4  [[ Injectables: Fillers ,  Cosmeceutics ,  Ant...   \n\n                                                   3  \n0  [The science of you Allergan Aesthetics, an Ab...  \n1  [German experts in aesthetic medicine since 20...  \n2  [With a unique heritage in dermatology as well...  \n3  [Laboratoires VIVACY is a French manufacturer ...  \n4  [TEOXANE  Laboratories were  created  in  2003...  ",
      "text/html": "<div>\n<style scoped>\n    .dataframe tbody tr th:only-of-type {\n        vertical-align: middle;\n    }\n\n    .dataframe tbody tr th {\n        vertical-align: top;\n    }\n\n    .dataframe thead th {\n        text-align: right;\n    }\n</style>\n<table border=\"1\" class=\"dataframe\">\n  <thead>\n    <tr style=\"text-align: right;\">\n      <th></th>\n      <th>0</th>\n      <th>1</th>\n      <th>2</th>\n      <th>3</th>\n    </tr>\n  </thead>\n  <tbody>\n    <tr>\n      <th>0</th>\n      <td>[Allergan Aesthetics ]</td>\n      <td>[Ireland]</td>\n      <td>[[ Injectables: Fillers ,  Injectables: Botuli...</td>\n      <td>[The science of you Allergan Aesthetics, an Ab...</td>\n    </tr>\n    <tr>\n      <th>1</th>\n      <td>[BioScience GmbH]</td>\n      <td>[Germany]</td>\n      <td>[[]]</td>\n      <td>[German experts in aesthetic medicine since 20...</td>\n    </tr>\n    <tr>\n      <th>2</th>\n      <td>[Galderma]</td>\n      <td>[France]</td>\n      <td>[[ Injectables: Fillers ,  Pharmaceutical ,  D...</td>\n      <td>[With a unique heritage in dermatology as well...</td>\n    </tr>\n    <tr>\n      <th>3</th>\n      <td>[Laboratoires VIVACY]</td>\n      <td>[France]</td>\n      <td>[[ Injectables: Fillers ,  Cosmeceutics ,  Ant...</td>\n      <td>[Laboratoires VIVACY is a French manufacturer ...</td>\n    </tr>\n    <tr>\n      <th>4</th>\n      <td>[TEOXANE LABORATORIES]</td>\n      <td>[Switzerland]</td>\n      <td>[[ Injectables: Fillers ,  Cosmeceutics ,  Ant...</td>\n      <td>[TEOXANE  Laboratories were  created  in  2003...</td>\n    </tr>\n  </tbody>\n</table>\n</div>"
     },
     "execution_count": 52,
     "metadata": {},
     "output_type": "execute_result"
    }
   ],
   "source": [
    "dfcom = pd.DataFrame(company_list)\n",
    "dfcom.head()"
   ],
   "metadata": {
    "collapsed": false,
    "ExecuteTime": {
     "end_time": "2023-07-29T21:43:56.666095600Z",
     "start_time": "2023-07-29T21:43:56.518083800Z"
    }
   }
  },
  {
   "cell_type": "code",
   "execution_count": 108,
   "outputs": [],
   "source": [
    "new_column_names = {\n",
    "    0 : 'Company Name',\n",
    "    1 : 'Country',\n",
    "    2 : 'Product/Device',\n",
    "    3 : 'Company Profile'}\n",
    "df = dfcom.rename(columns=new_column_names)\n"
   ],
   "metadata": {
    "collapsed": false,
    "ExecuteTime": {
     "end_time": "2023-07-29T22:39:14.886703600Z",
     "start_time": "2023-07-29T22:39:14.791700800Z"
    }
   }
  },
  {
   "cell_type": "code",
   "execution_count": 109,
   "outputs": [],
   "source": [
    "df.to_csv('company_list_clean.csv')"
   ],
   "metadata": {
    "collapsed": false,
    "ExecuteTime": {
     "end_time": "2023-07-29T22:39:21.420836600Z",
     "start_time": "2023-07-29T22:39:21.348828900Z"
    }
   }
  },
  {
   "cell_type": "code",
   "execution_count": 118,
   "outputs": [
    {
     "data": {
      "text/plain": "                 Company Name        Country  \\\n0      [Allergan Aesthetics ]      [Ireland]   \n1           [BioScience GmbH]      [Germany]   \n2                  [Galderma]       [France]   \n3       [Laboratoires VIVACY]       [France]   \n4      [TEOXANE LABORATORIES]  [Switzerland]   \n5         [Croma Pharma GmbH]      [Austria]   \n6      [FILLMED Laboratoires]       [France]   \n7  [IBSA Farmaceutici Italia]        [Italy]   \n8           [Merz Aesthetics]      [Germany]   \n9                  [SINCLAIR]       [France]   \n\n                                      Product/Device  \\\n0  [[ Injectables: Fillers ,  Injectables: Botuli...   \n1                                               [[]]   \n2  [[ Injectables: Fillers ,  Pharmaceutical ,  D...   \n3  [[ Injectables: Fillers ,  Cosmeceutics ,  Ant...   \n4  [[ Injectables: Fillers ,  Cosmeceutics ,  Ant...   \n5  [[ Injectables: Fillers ,  Threads ,  Suspendi...   \n6  [[ Injectables: Fillers ,  Cosmeceutics ,  Ant...   \n7  [[ Injectables: Fillers ,  Cosmeceutics ,  Ant...   \n8  [[ Injectables: Fillers ,  Injectables: Botuli...   \n9  [[ Threads ,  Suspending devices ,  Injectable...   \n\n                                     Company Profile  \n0  [The science of you Allergan Aesthetics, an Ab...  \n1  [German experts in aesthetic medicine since 20...  \n2  [With a unique heritage in dermatology as well...  \n3  [Laboratoires VIVACY is a French manufacturer ...  \n4  [TEOXANE  Laboratories were  created  in  2003...  \n5  [Founded in 1976, Croma-Pharma GmbH (Croma) is...  \n6  [FILLMED Laboratories have been pioneering in ...  \n7  [Founded by a group of Swiss biologists in 194...  \n8  [Merz Aesthetics is a medical aesthetics busin...  \n9  [Sinclair is an international company operatin...  ",
      "text/html": "<div>\n<style scoped>\n    .dataframe tbody tr th:only-of-type {\n        vertical-align: middle;\n    }\n\n    .dataframe tbody tr th {\n        vertical-align: top;\n    }\n\n    .dataframe thead th {\n        text-align: right;\n    }\n</style>\n<table border=\"1\" class=\"dataframe\">\n  <thead>\n    <tr style=\"text-align: right;\">\n      <th></th>\n      <th>Company Name</th>\n      <th>Country</th>\n      <th>Product/Device</th>\n      <th>Company Profile</th>\n    </tr>\n  </thead>\n  <tbody>\n    <tr>\n      <th>0</th>\n      <td>[Allergan Aesthetics ]</td>\n      <td>[Ireland]</td>\n      <td>[[ Injectables: Fillers ,  Injectables: Botuli...</td>\n      <td>[The science of you Allergan Aesthetics, an Ab...</td>\n    </tr>\n    <tr>\n      <th>1</th>\n      <td>[BioScience GmbH]</td>\n      <td>[Germany]</td>\n      <td>[[]]</td>\n      <td>[German experts in aesthetic medicine since 20...</td>\n    </tr>\n    <tr>\n      <th>2</th>\n      <td>[Galderma]</td>\n      <td>[France]</td>\n      <td>[[ Injectables: Fillers ,  Pharmaceutical ,  D...</td>\n      <td>[With a unique heritage in dermatology as well...</td>\n    </tr>\n    <tr>\n      <th>3</th>\n      <td>[Laboratoires VIVACY]</td>\n      <td>[France]</td>\n      <td>[[ Injectables: Fillers ,  Cosmeceutics ,  Ant...</td>\n      <td>[Laboratoires VIVACY is a French manufacturer ...</td>\n    </tr>\n    <tr>\n      <th>4</th>\n      <td>[TEOXANE LABORATORIES]</td>\n      <td>[Switzerland]</td>\n      <td>[[ Injectables: Fillers ,  Cosmeceutics ,  Ant...</td>\n      <td>[TEOXANE  Laboratories were  created  in  2003...</td>\n    </tr>\n    <tr>\n      <th>5</th>\n      <td>[Croma Pharma GmbH]</td>\n      <td>[Austria]</td>\n      <td>[[ Injectables: Fillers ,  Threads ,  Suspendi...</td>\n      <td>[Founded in 1976, Croma-Pharma GmbH (Croma) is...</td>\n    </tr>\n    <tr>\n      <th>6</th>\n      <td>[FILLMED Laboratoires]</td>\n      <td>[France]</td>\n      <td>[[ Injectables: Fillers ,  Cosmeceutics ,  Ant...</td>\n      <td>[FILLMED Laboratories have been pioneering in ...</td>\n    </tr>\n    <tr>\n      <th>7</th>\n      <td>[IBSA Farmaceutici Italia]</td>\n      <td>[Italy]</td>\n      <td>[[ Injectables: Fillers ,  Cosmeceutics ,  Ant...</td>\n      <td>[Founded by a group of Swiss biologists in 194...</td>\n    </tr>\n    <tr>\n      <th>8</th>\n      <td>[Merz Aesthetics]</td>\n      <td>[Germany]</td>\n      <td>[[ Injectables: Fillers ,  Injectables: Botuli...</td>\n      <td>[Merz Aesthetics is a medical aesthetics busin...</td>\n    </tr>\n    <tr>\n      <th>9</th>\n      <td>[SINCLAIR]</td>\n      <td>[France]</td>\n      <td>[[ Threads ,  Suspending devices ,  Injectable...</td>\n      <td>[Sinclair is an international company operatin...</td>\n    </tr>\n  </tbody>\n</table>\n</div>"
     },
     "execution_count": 118,
     "metadata": {},
     "output_type": "execute_result"
    }
   ],
   "source": [
    "df.head(10)"
   ],
   "metadata": {
    "collapsed": false,
    "ExecuteTime": {
     "end_time": "2023-07-29T23:28:39.241338200Z",
     "start_time": "2023-07-29T23:28:39.181334700Z"
    }
   }
  }
 ],
 "metadata": {
  "kernelspec": {
   "display_name": "Python 3",
   "language": "python",
   "name": "python3"
  },
  "language_info": {
   "codemirror_mode": {
    "name": "ipython",
    "version": 2
   },
   "file_extension": ".py",
   "mimetype": "text/x-python",
   "name": "python",
   "nbconvert_exporter": "python",
   "pygments_lexer": "ipython2",
   "version": "2.7.6"
  }
 },
 "nbformat": 4,
 "nbformat_minor": 0
}
