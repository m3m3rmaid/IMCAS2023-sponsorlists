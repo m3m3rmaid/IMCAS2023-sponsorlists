{
 "cells": [
  {
   "cell_type": "code",
   "execution_count": 1,
   "metadata": {
    "collapsed": true,
    "ExecuteTime": {
     "end_time": "2023-08-30T21:10:29.022562500Z",
     "start_time": "2023-08-30T21:10:28.329250700Z"
    }
   },
   "outputs": [],
   "source": [
    "import os\n",
    "import re\n",
    "\n",
    "import requests\n",
    "from bs4 import BeautifulSoup as bs"
   ]
  },
  {
   "cell_type": "code",
   "execution_count": 3,
   "outputs": [],
   "source": [
    "r = requests.get('https://www.imcas.com/en/attend/imcas-world-congress-2023/sponsor-list')\n",
    "\n",
    "#convert to beautifulsoup\n",
    "soup = bs(r.content)\n",
    "\n",
    "#print out\n",
    "contents = soup.prettify()"
   ],
   "metadata": {
    "collapsed": false,
    "ExecuteTime": {
     "end_time": "2023-08-30T21:15:42.402728200Z",
     "start_time": "2023-08-30T21:15:31.174466900Z"
    }
   }
  },
  {
   "cell_type": "code",
   "execution_count": 4,
   "outputs": [],
   "source": [
    "# testing on ultimate sponsor\n",
    "table = soup.find('table', class_= 'table sponsor-list-table')\n",
    "tr = table.findAll('tr', class_='sponsor-list-exhibitor-row')"
   ],
   "metadata": {
    "collapsed": false,
    "ExecuteTime": {
     "end_time": "2023-08-30T21:15:45.595741400Z",
     "start_time": "2023-08-30T21:15:45.564478700Z"
    }
   }
  },
  {
   "cell_type": "code",
   "execution_count": 5,
   "outputs": [
    {
     "data": {
      "text/plain": "'Allergan Aesthetics '"
     },
     "execution_count": 5,
     "metadata": {},
     "output_type": "execute_result"
    }
   ],
   "source": [
    "tr[0]['data-booth-sign-clean']"
   ],
   "metadata": {
    "collapsed": false,
    "ExecuteTime": {
     "end_time": "2023-08-30T21:15:46.809928500Z",
     "start_time": "2023-08-30T21:15:46.735420600Z"
    }
   }
  },
  {
   "cell_type": "code",
   "execution_count": 7,
   "outputs": [],
   "source": [
    "# Find all the table rows with class \"sponsor-list-exhibitor-row\"\n",
    "tr = table.findAll('tr', class_='sponsor-list-exhibitor-row')\n",
    "\n",
    "# Create an empty list to store the data\n",
    "dicts = []\n",
    "\n",
    "# Loop through each row to get the data\n",
    "for row in tr:\n",
    "    # Get the value of the 'data-booth-sign-clean' attribute for the current row\n",
    "    name_clean = row['data-booth-sign-clean']\n",
    "\n",
    "    # Append the value to the data_list\n",
    "    if name_clean:\n",
    "        dicts.append(name_clean)\n"
   ],
   "metadata": {
    "collapsed": false,
    "ExecuteTime": {
     "end_time": "2023-08-30T21:16:30.258955300Z",
     "start_time": "2023-08-30T21:16:30.224660800Z"
    }
   }
  },
  {
   "cell_type": "code",
   "execution_count": 8,
   "outputs": [
    {
     "data": {
      "text/plain": "['Allergan Aesthetics ',\n 'BioScience GmbH',\n 'Galderma',\n 'Laboratoires VIVACY',\n 'TEOXANE LABORATORIES',\n 'Allergan Aesthetics ',\n 'BioScience GmbH',\n 'Galderma',\n 'Laboratoires VIVACY',\n 'TEOXANE LABORATORIES']"
     },
     "execution_count": 8,
     "metadata": {},
     "output_type": "execute_result"
    }
   ],
   "source": [
    "for row in tr:\n",
    "    name_clean = row['data-booth-sign-clean']\n",
    "    dicts.append(name_clean)\n",
    "\n",
    "dicts"
   ],
   "metadata": {
    "collapsed": false,
    "ExecuteTime": {
     "end_time": "2023-08-30T21:16:31.394362200Z",
     "start_time": "2023-08-30T21:16:31.363103Z"
    }
   }
  },
  {
   "cell_type": "code",
   "execution_count": 11,
   "outputs": [],
   "source": [
    "# Get all sponsors data\n",
    "spon = soup.find('div', class_='container-sponsors')\n",
    "bod = spon.findAll('tr', class_='sponsor-list-exhibitor-row')\n",
    "lol = soup.find('div', class_='container-sponsors')\n",
    "loll = lol.find('tbody')\n"
   ],
   "metadata": {
    "collapsed": false,
    "ExecuteTime": {
     "end_time": "2023-08-30T21:16:46.206484700Z",
     "start_time": "2023-08-30T21:16:46.143964800Z"
    }
   }
  },
  {
   "cell_type": "code",
   "execution_count": 13,
   "outputs": [
    {
     "data": {
      "text/plain": "'ULTIMATE'"
     },
     "execution_count": 13,
     "metadata": {},
     "output_type": "execute_result"
    }
   ],
   "source": [
    "bod[1].find('span', class_=\"sponsorship-ultimate\").getText(\" \", strip= True).replace(\"\\n\",\" \")"
   ],
   "metadata": {
    "collapsed": false,
    "ExecuteTime": {
     "end_time": "2023-08-30T21:16:56.935398300Z",
     "start_time": "2023-08-30T21:16:56.904130900Z"
    }
   }
  },
  {
   "cell_type": "code",
   "execution_count": 135,
   "outputs": [
    {
     "data": {
      "text/plain": "[]"
     },
     "execution_count": 135,
     "metadata": {},
     "output_type": "execute_result"
    }
   ],
   "source": [
    "# get sponsorship level\n",
    "\n",
    "spon_level = []\n",
    "\n",
    "for ss in bod:\n",
    "    level = ss.find('span', class_=\"container-sponsors\")\n",
    "    if level is not None:\n",
    "        level_list = level.getText(\" \", strip=True).replace(\"\\n\", \" \")\n",
    "    else:\n",
    "        continue\n",
    "\n",
    "    spon_level.append(level_list)\n",
    "\n",
    "spon_level\n"
   ],
   "metadata": {
    "collapsed": false,
    "ExecuteTime": {
     "end_time": "2023-08-30T23:25:29.182728100Z",
     "start_time": "2023-08-30T23:25:29.088950400Z"
    }
   }
  },
  {
   "cell_type": "code",
   "execution_count": 16,
   "outputs": [
    {
     "data": {
      "text/plain": "['Allergan Aesthetics ',\n 'BioScience GmbH',\n 'Galderma',\n 'Laboratoires VIVACY',\n 'TEOXANE LABORATORIES',\n 'Croma Pharma GmbH',\n 'FILLMED Laboratoires',\n 'IBSA Farmaceutici Italia',\n 'Merz Aesthetics',\n 'SINCLAIR',\n 'FIDIA PHARMA',\n 'NEAUVIA',\n 'Prollenium',\n 'ALTA CARE LABORATOIRES',\n 'APYX MEDICAL',\n 'BTL Aesthetics',\n 'Cynosure',\n 'DERMAQUAL',\n 'DEXLEVO',\n 'Fotona',\n 'Hydrafacial ',\n 'InMode Aesthetic Solutions',\n 'LG Chem',\n 'Lumenis',\n 'RELIFE',\n 'SENSILIS | Sensitive Skin Lab',\n 'Sesderma',\n 'SkinCeuticals',\n 'AestheFill® CollagenStimulator',\n 'Alma',\n 'Bioxis Pharmaceuticals',\n 'BR PHARM',\n 'CAREGEN',\n 'CHA Meditech Co., Ltd.',\n 'CLASSYS',\n 'Crown Aesthetics / SkinPen',\n 'Cutera',\n 'DermapenWorld',\n 'INDIBA',\n 'Laboratoire Revitacare',\n 'mesoestetic Pharma Group',\n 'miraDry, Inc.',\n 'NAOS / Institut Esthederm',\n 'Samyang Holdings Corporation ',\n 'Skymedic',\n 'TOSKANIMED',\n 'Across Co.,Ltd.',\n 'Adoderm',\n 'Aerolase',\n 'Aptos',\n 'Bloomea Paris',\n 'Candela Medical',\n 'CMed Aesthetics S.r.l.',\n 'Deka ',\n 'ExoCoBio Inc.',\n 'Healux Co.,Ltd.',\n 'ISDIN',\n 'KSURGERY',\n 'LABORATOIRES FILORGA PARIS',\n 'LASEROPTEK',\n 'Lutronic',\n 'Mastelli Aesthetics',\n 'Needle Concept',\n 'NOVACUTAN',\n 'Quanta System SpA',\n 'QuantifiCare',\n 'Regen Lab',\n 'Regenyal Laboratories Srl ',\n 'Sciton',\n 'Solta Medical',\n 'SUNEKOS',\n 'WiQo - a GPQ brand',\n 'AGNES MEDICAL Co., Ltd.',\n 'AlumierMD',\n 'AQ Skin Solutions',\n 'Asclepion Laser Technologies ',\n 'ASTERASYS Co., Ltd.',\n 'ATTIVA by TEMA MEDICINA',\n 'BIOTEC ITALIA',\n 'BPB MEDICA™',\n 'BURGEON BIOTECHNOLOGY',\n 'Canfield Scientific, Inc. ',\n 'Deep Slim® ',\n 'Dermaceutic Laboratoire',\n 'EUROMI SA',\n 'Euroresearch',\n 'GLOBAL BIYOMEDIKAL',\n 'HIRONIC CO., LTD.',\n 'HTL',\n 'ILOODA CO., LTD',\n 'NOVACLINICAL',\n 'NovaCutis GmbH',\n 'PROMOITALIA GROUP SPA',\n 'Renaissance',\n 'S.Thepharm Co.,Ltd.',\n 'SKIN TECH PHARMA GROUP',\n 'Sofwave ',\n 'Sylton International',\n 'TOP QUALITY GROUP SRL',\n 'Venus',\n 'VM CORPORATION ',\n 'VYDENCE Medical',\n 'WON TECH Co., Ltd.',\n 'ZIMMER MedizinSysteme',\n 'ZO SKIN HEALTH',\n '1st SurgiConcept',\n 'Biopark Medical',\n 'BRERA MEDICAL TECHNOLOGIES',\n 'Cantabria Labs',\n 'CEBELIA',\n 'Clarius - Wireless Ultrasound ',\n 'DAEYANG MEDICAL',\n 'EUNSUNG GLOBAL CORP.',\n 'FotoFinder Systems GmbH',\n 'GCS Co.,Ltd.',\n 'GENOSS Co., Ltd.',\n 'GENOSYS',\n 'GMV Medical Innovation',\n 'GTG Medical Co., Ltd',\n 'JBP Korea Co., Ltd.',\n 'Laboratoires Renophase',\n 'MARLLOR Biomedical',\n 'MCT',\n 'MesoJet by SpaMed Italy',\n 'MILESMAN',\n 'Möller Medical GmbH',\n 'Naturelize GmbH',\n 'NEXTMOTION',\n 'NYUMA PHARMA',\n 'OREON Life science',\n 'PBSERUM MEDICAL',\n 'PROFESSIONAL DERMA SA',\n 'Qventis GmbH ',\n 'RENEVE MONACO',\n 'RETIX.C Professional',\n 'SHENB',\n 'Sterimedix Limited',\n 'Suisselle SA',\n 'T-LAB CURATIVE INNOVATIONS',\n 'TSK Laboratory Europe B.V.',\n 'ULTRA V CO., LTD',\n 'VAIM GLOBAL',\n 'ViOL',\n 'WAVEMED',\n 'ACMEDI KOREA Co., Ltd',\n 'Alfa Medical',\n 'Algeness - A.A.T. Inc.',\n 'Althena Medical ',\n 'AnteAGE MD',\n 'APG MEDICAL',\n 'Arthrex GmbH',\n 'ASIROX',\n 'Biodermogenesi',\n 'BIOFORMULA',\n 'Bluecore Company',\n 'BNC KOREA, INC.',\n 'Bomtech Electronics Co., Ltd.',\n 'CAMPOMATS',\n 'CAP ACTUEL MEDICAL FRANCE',\n 'CAPENERGY',\n 'CaromedItalia SRL',\n 'Cellenis® PRP',\n 'CLINICCARE',\n 'CONTRAD SWISS SA',\n 'CoolHealth',\n 'Cortex Technology  ',\n 'CryoPen',\n 'CYSPERA BY SCIENTIS',\n 'DERMALINE CO., LTD',\n 'DERMAPHOENIX',\n 'DERMEDEN',\n 'Dermoaroma ',\n 'DONGBANG MEDICAL CO., LTD',\n 'ELASTIC LAB INC. ',\n 'ENDYMED Medical',\n 'Erchonia Lasers Ltd',\n 'Eufoton®',\n 'Fagron Genomics',\n 'FB Dermatology ',\n 'FineMEC Co., Ltd.',\n 'GE Healthcare',\n 'Grand Aespio INC',\n 'HAIM INTERNATIONAL',\n 'HAIRSTETICS',\n 'HansBiomed UK & Europe',\n 'Hyundae Meditech',\n 'Iskra Medical ',\n 'J WORLD',\n 'JetPeel',\n 'Koru Pharma',\n \"LABORATOIRES L'ESTHÉTIC\",\n 'Laboratories Hyamed SA',\n 'LC Cell',\n 'Leaseir',\n 'LEM COMPOUNDING RESEARCH',\n 'Lipocube Biotechnology',\n 'M.A. Dermaceuticals Inc.',\n 'MARTIDERM',\n 'MD:CEUTICALS',\n 'MediFab',\n 'Meta Institute - Face Academy',\n 'MyPureSkin',\n 'N-FINDERS',\n 'NEO Dr. INC.',\n 'NOVOXEL',\n 'P194/ROSEPHARMA SA',\n 'PINE BM',\n 'PLURYAL',\n 'PRAISTON',\n 'SENSCO CO',\n 'SNJ',\n 'Swift Microwave Therapy',\n 'T.W.I.N.E. MEDICALS S.R.L.',\n 'TERMOSALUD',\n 'Terumo',\n 'Thread & Lift',\n 'Tulip Medical Products',\n 'Venome ',\n 'WHITE MEDIENCE',\n 'ZERO GRAVITY SKIN',\n '15th 5CC World Congress',\n 'AAMS',\n 'AB Life Global. Co., Ltd. ',\n 'Abacosm',\n 'ACCOMED CO LTD',\n 'Advalight',\n 'AECEP',\n 'Aesthetic Group',\n 'Aesthetic Surgery Journal - ASJ',\n 'Aesthetics Journal ',\n 'AICPE - AICPE ONLUS',\n 'ANKH OY',\n 'APS SRL',\n 'Archidemia ',\n 'ASTI CORPORATION',\n 'Ayoon Medi',\n 'BeauMed',\n 'BIOBIJOU',\n 'Biofibre Hair 4.0',\n 'Biosil',\n 'BMG Pharma',\n 'BONTEMPI',\n 'BTC MED',\n 'Canopus Medical',\n 'Cherry Imaging',\n 'Clinisept+',\n 'D-LAB NUTRICOSMETICS',\n 'Derma Faith, LLC',\n 'DFKBIOLAB INC.',\n 'DHI Global Medical Group',\n 'DIVES MED',\n 'DOUBLE FIX PYRAMID',\n 'DSD de Luxe',\n 'EDIPEC SURGICAL INSTRUMENTS',\n 'ELASTEN',\n 'elementrē dermo cosmetics',\n 'Forget about Age - Cosmetics ',\n 'GERMANY INTERNATIONAL MEDICAL ',\n 'GERMANY MEDICAL ',\n 'Glacial Rx',\n 'GliSODin',\n 'Griffin Editore',\n 'HELIOS',\n 'HERMOSA',\n \"I'LL GLOBAL. Inc. Co.\",\n 'iFaceSimulator',\n 'ILIKIA',\n 'ISAPS',\n 'JETT',\n 'Kimera Labs',\n 'KL GLOBAL',\n 'LAYUN KOREA',\n 'leasemedica',\n 'LOUISDERMA PARIS ',\n 'LOVE COSMEDICAL',\n 'LSI SILDERMA LTD',\n 'LUSINE BRUXELLES SPRL',\n 'M-BASE Co.,Ltd',\n 'MAAM GARMENTS',\n 'MAYPHARM CO., LTD.',\n 'Mcure Co., Ltd.',\n 'Medae Life Science',\n 'MEDICAL BROKERS',\n 'MEDICAL CASTING AGENCY',\n 'MEDICAL Z ',\n 'Medispec',\n 'MEDWELLNESS - FREE PRESS',\n 'MINERVA THREAD CANNULA NEEDLE',\n 'MIRACELL CO., LTD',\n 'NEFTIS LABORATORIOS',\n 'NOUVAG AG',\n 'nunii by NOVELSKIN ',\n 'OEO Firenze',\n 'PRF PROCESS MEDICAL',\n 'PROTECT-Laserschutz GmbH',\n 'QUANTEQ',\n 'QUANTIX ITALIA SRL',\n 'Regenera Activa Worldwide S.L.',\n 'RX COMMUNICATIONS',\n 'SEFFILINE',\n 'Shanghai May Skin',\n 'SHARM DERMA 2023',\n 'SOFCEP ',\n 'SONOSCANNER',\n 'TECHNOLUX Intralifting-Plasma',\n 'The Aesthetic Society',\n 'The PMFA Journal',\n 'Theraderm',\n 'Thinkin by Benjamin Ascher',\n 'TOP GOLD MEDICAL',\n 'Topscience Biotech',\n 'TUENDA',\n 'UltraClear Laser',\n 'UPTOURN LAB TRADING LLC',\n 'V LIFT PRO',\n 'VOE, S.A.',\n 'Wasserman Medic',\n 'WCD 2023 SINGAPORE',\n 'Wisepress Medical Bookshop',\n 'WorldPRP',\n 'WRINKLE-ALERT',\n 'ZERONE']"
     },
     "execution_count": 16,
     "metadata": {},
     "output_type": "execute_result"
    }
   ],
   "source": [
    "# Get company names\n",
    "\n",
    "name_list = []\n",
    "for com in bod:\n",
    "    data_clean = com['data-booth-sign-clean']\n",
    "    name_list.append(data_clean)\n",
    "\n",
    "\n",
    "name_list\n"
   ],
   "metadata": {
    "collapsed": false,
    "ExecuteTime": {
     "end_time": "2023-08-30T21:17:13.611318400Z",
     "start_time": "2023-08-30T21:17:13.593606900Z"
    }
   }
  },
  {
   "cell_type": "code",
   "execution_count": 18,
   "outputs": [
    {
     "data": {
      "text/plain": "['Ireland',\n 'Germany',\n 'France',\n 'France',\n 'Switzerland',\n 'Austria',\n 'France',\n 'Italy',\n 'Germany',\n 'France',\n 'Italy',\n 'Switzerland',\n 'Canada',\n 'Italy',\n 'United States',\n 'United States',\n 'United States',\n 'France',\n 'South Korea',\n 'Slovenia',\n 'United States',\n 'United States',\n 'South Korea',\n 'Germany',\n 'Italy',\n 'Spain',\n 'Spain',\n 'France',\n 'South Korea',\n 'Germany',\n 'France',\n 'South Korea',\n 'South Korea',\n 'South Korea',\n 'South Korea',\n 'United States',\n 'United States',\n 'Australia',\n 'Spain',\n 'France',\n 'Spain',\n 'United States',\n 'France',\n 'South Korea',\n 'Spain',\n 'Spain',\n 'South Korea',\n 'Germany',\n 'United States',\n 'Georgia',\n 'France',\n 'United States',\n 'Italy',\n 'Italy',\n 'South Korea',\n 'South Korea',\n 'Spain',\n 'Italy',\n 'France',\n 'South Korea',\n 'South Korea',\n 'Italy',\n 'France',\n 'France',\n 'Italy',\n 'France',\n 'Switzerland',\n 'Italy',\n 'United States',\n 'United States',\n 'Italy',\n 'Italy',\n 'South Korea',\n 'United Kingdom',\n 'United States',\n 'Germany',\n 'South Korea',\n 'Italy',\n 'Italy',\n 'Italy',\n 'Turkey',\n 'Netherlands',\n 'Spain',\n 'Ireland',\n 'Belgium',\n 'Italy',\n 'Turkey',\n 'South Korea',\n 'France',\n 'South Korea',\n 'Italy',\n 'Germany',\n 'Italy',\n 'Italy',\n 'South Korea',\n 'Spain',\n 'Israel',\n 'Netherlands',\n 'Italy',\n 'Canada',\n 'Italy',\n 'Brazil',\n 'South Korea',\n 'Germany',\n 'United States',\n 'France',\n 'Turkey',\n 'Italy',\n 'Spain',\n 'France',\n 'Canada',\n 'South Korea',\n 'South Korea',\n 'Germany',\n 'South Korea',\n 'South Korea',\n 'South Korea',\n 'Italy',\n 'South Korea',\n 'South Korea',\n 'France',\n 'Italy',\n 'Spain',\n 'Italy',\n 'Spain',\n 'Germany',\n 'Jordan',\n 'France',\n 'Italy',\n 'South Korea',\n 'Spain',\n 'Switzerland',\n 'Germany',\n 'Monaco',\n 'France',\n 'South Korea',\n 'United Kingdom',\n 'Switzerland',\n 'Turkey',\n 'Netherlands',\n 'South Korea',\n 'South Korea',\n 'South Korea',\n 'Italy',\n 'South Korea',\n 'South Korea',\n 'United States',\n 'Italy',\n 'United States',\n 'Italy',\n 'Germany',\n 'Spain',\n 'Italy',\n 'Italy',\n 'South Korea',\n 'South Korea',\n 'South Korea',\n 'Italy',\n 'France',\n 'Spain',\n 'Italy',\n 'Israel',\n 'Sweden',\n 'Switzerland',\n 'South Korea',\n 'Denmark',\n 'Belgium',\n 'Switzerland',\n 'South Korea',\n 'Spain',\n 'France',\n 'Italy',\n 'South Korea',\n 'South Korea',\n 'Israel',\n 'United Kingdom',\n 'Italy',\n 'Spain',\n 'Italy',\n 'South Korea',\n 'Germany',\n 'South Korea',\n 'South Korea',\n 'Israel',\n 'South Korea',\n 'South Korea',\n 'Slovenia',\n 'South Korea',\n 'Israel',\n 'South Korea',\n 'France',\n 'China',\n 'United States',\n 'Spain',\n 'Italy',\n 'Turkey',\n 'United States',\n 'Spain',\n 'United Kingdom',\n 'South Korea',\n 'Brazil',\n 'France',\n 'South Korea',\n 'South Korea',\n 'Israel',\n 'Switzerland',\n 'South Korea',\n 'Luxembourg',\n 'Poland',\n 'South Korea',\n 'South Korea',\n 'United Kingdom',\n 'Italy',\n 'Spain',\n 'Belgium',\n 'Belgium',\n 'United States',\n 'Poland',\n 'South Korea',\n 'United States',\n 'Germany',\n 'France',\n 'South Korea',\n 'Greece',\n 'South Korea',\n 'Denmark',\n 'Spain',\n 'France',\n 'United States',\n 'United Kingdom',\n 'Italy',\n 'Finland',\n 'Italy',\n 'United Kingdom',\n 'Japan',\n 'South Korea',\n 'South Korea',\n 'South Korea',\n 'Italy',\n 'Belgium',\n 'Italy',\n 'Italy',\n 'Italy',\n 'Sweden',\n 'Israel',\n 'United Kingdom',\n 'France',\n 'United States',\n 'South Korea',\n 'Greece',\n 'Germany',\n 'Indonesia',\n 'Spain',\n 'Spain',\n 'Germany',\n 'Switzerland',\n 'Germany',\n 'France',\n 'Thailand',\n 'United States',\n 'France',\n 'Italy',\n 'France',\n 'South Korea',\n 'South Korea',\n 'Canada',\n 'Brazil',\n 'United States',\n 'Czech Republic',\n 'United States',\n 'South Korea',\n 'South Korea',\n 'Italy',\n 'France',\n 'Italy',\n 'Ireland',\n 'Belgium',\n 'South Korea',\n 'Romania',\n 'South Korea',\n 'South Korea',\n 'Mexico',\n 'Poland',\n 'France',\n 'France',\n 'United States',\n 'Italy',\n 'South Korea',\n 'South Korea',\n 'Spain',\n 'Switzerland',\n 'France',\n 'Italy',\n 'France',\n 'Germany',\n 'South Korea',\n 'Italy',\n 'Spain',\n 'United Kingdom',\n 'Italy',\n 'China',\n 'Egypt',\n 'France',\n 'France',\n 'Italy',\n 'United States',\n 'United Kingdom',\n 'South Korea',\n 'France',\n 'Pakistan',\n 'China',\n 'Italy',\n 'United States',\n 'United Arab Emirates',\n 'Spain',\n 'Spain',\n 'Sweden',\n 'United Kingdom',\n 'United Kingdom',\n 'Switzerland',\n 'Belgium',\n 'South Korea']"
     },
     "execution_count": 18,
     "metadata": {},
     "output_type": "execute_result"
    }
   ],
   "source": [
    "# Extract Origin country of each company\n",
    "countries = []\n",
    "\n",
    "# Loop\n",
    "for ct in bod:\n",
    "    # get td index[2]\n",
    "    td_elements = ct.findAll('td')\n",
    "    country = td_elements[2].text.strip()\n",
    "    countries.append(country)\n",
    "\n",
    "countries"
   ],
   "metadata": {
    "collapsed": false,
    "ExecuteTime": {
     "end_time": "2023-08-30T21:17:43.670986900Z",
     "start_time": "2023-08-30T21:17:43.608469700Z"
    }
   }
  },
  {
   "cell_type": "code",
   "execution_count": 20,
   "outputs": [],
   "source": [
    "#get the link of each company\n",
    "links = spon.find_all('a', class_= 'fancybox-ajax')"
   ],
   "metadata": {
    "collapsed": false,
    "ExecuteTime": {
     "end_time": "2023-08-30T21:17:53.426965600Z",
     "start_time": "2023-08-30T21:17:53.348817200Z"
    }
   }
  },
  {
   "cell_type": "code",
   "execution_count": 21,
   "outputs": [
    {
     "name": "stdout",
     "output_type": "stream",
     "text": [
      "https://www.imcas.com/en/attend/imcas-world-congress-2023/sponsor/13309\n",
      "https://www.imcas.com/en/attend/imcas-world-congress-2023/sponsor/13341\n",
      "https://www.imcas.com/en/attend/imcas-world-congress-2023/sponsor/13437\n",
      "https://www.imcas.com/en/attend/imcas-world-congress-2023/sponsor/13393\n",
      "https://www.imcas.com/en/attend/imcas-world-congress-2023/sponsor/13605\n",
      "https://www.imcas.com/en/attend/imcas-world-congress-2023/sponsor/13377\n",
      "https://www.imcas.com/en/attend/imcas-world-congress-2023/sponsor/13432\n",
      "https://www.imcas.com/en/attend/imcas-world-congress-2023/sponsor/13459\n",
      "https://www.imcas.com/en/attend/imcas-world-congress-2023/sponsor/13522\n",
      "https://www.imcas.com/en/attend/imcas-world-congress-2023/sponsor/13585\n",
      "https://www.imcas.com/en/attend/imcas-world-congress-2023/sponsor/13431\n",
      "https://www.imcas.com/en/attend/imcas-world-congress-2023/sponsor/13532\n",
      "https://www.imcas.com/en/attend/imcas-world-congress-2023/sponsor/13590\n",
      "https://www.imcas.com/en/attend/imcas-world-congress-2023/sponsor/13311\n",
      "https://www.imcas.com/en/attend/imcas-world-congress-2023/sponsor/13321\n",
      "https://www.imcas.com/en/attend/imcas-world-congress-2023/sponsor/13349\n",
      "https://www.imcas.com/en/attend/imcas-world-congress-2023/sponsor/13383\n",
      "https://www.imcas.com/en/attend/imcas-world-congress-2023/sponsor/13400\n",
      "https://www.imcas.com/en/attend/imcas-world-congress-2023/sponsor/13405\n",
      "https://www.imcas.com/en/attend/imcas-world-congress-2023/sponsor/13435\n",
      "https://www.imcas.com/en/attend/imcas-world-congress-2023/sponsor/13609\n",
      "https://www.imcas.com/en/attend/imcas-world-congress-2023/sponsor/13467\n",
      "https://www.imcas.com/en/attend/imcas-world-congress-2023/sponsor/13696\n",
      "https://www.imcas.com/en/attend/imcas-world-congress-2023/sponsor/13505\n",
      "https://www.imcas.com/en/attend/imcas-world-congress-2023/sponsor/13571\n",
      "https://www.imcas.com/en/attend/imcas-world-congress-2023/sponsor/13580\n",
      "https://www.imcas.com/en/attend/imcas-world-congress-2023/sponsor/13582\n",
      "https://www.imcas.com/en/attend/imcas-world-congress-2023/sponsor/13490\n",
      "https://www.imcas.com/en/attend/imcas-world-congress-2023/sponsor/13335\n",
      "https://www.imcas.com/en/attend/imcas-world-congress-2023/sponsor/13310\n",
      "https://www.imcas.com/en/attend/imcas-world-congress-2023/sponsor/13343\n",
      "https://www.imcas.com/en/attend/imcas-world-congress-2023/sponsor/13345\n",
      "https://www.imcas.com/en/attend/imcas-world-congress-2023/sponsor/13360\n",
      "https://www.imcas.com/en/attend/imcas-world-congress-2023/sponsor/13364\n",
      "https://www.imcas.com/en/attend/imcas-world-congress-2023/sponsor/13366\n",
      "https://www.imcas.com/en/attend/imcas-world-congress-2023/sponsor/13378\n",
      "https://www.imcas.com/en/attend/imcas-world-congress-2023/sponsor/13379\n",
      "https://www.imcas.com/en/attend/imcas-world-congress-2023/sponsor/13399\n",
      "https://www.imcas.com/en/attend/imcas-world-congress-2023/sponsor/13359\n",
      "https://www.imcas.com/en/attend/imcas-world-congress-2023/sponsor/13492\n",
      "https://www.imcas.com/en/attend/imcas-world-congress-2023/sponsor/13523\n",
      "https://www.imcas.com/en/attend/imcas-world-congress-2023/sponsor/13526\n",
      "https://www.imcas.com/en/attend/imcas-world-congress-2023/sponsor/13531\n",
      "https://www.imcas.com/en/attend/imcas-world-congress-2023/sponsor/13576\n",
      "https://www.imcas.com/en/attend/imcas-world-congress-2023/sponsor/13588\n",
      "https://www.imcas.com/en/attend/imcas-world-congress-2023/sponsor/13615\n",
      "https://www.imcas.com/en/attend/imcas-world-congress-2023/sponsor/13717\n",
      "https://www.imcas.com/en/attend/imcas-world-congress-2023/sponsor/13297\n",
      "https://www.imcas.com/en/attend/imcas-world-congress-2023/sponsor/13299\n",
      "https://www.imcas.com/en/attend/imcas-world-congress-2023/sponsor/13320\n",
      "https://www.imcas.com/en/attend/imcas-world-congress-2023/sponsor/13670\n",
      "https://www.imcas.com/en/attend/imcas-world-congress-2023/sponsor/13354\n",
      "https://www.imcas.com/en/attend/imcas-world-congress-2023/sponsor/13371\n",
      "https://www.imcas.com/en/attend/imcas-world-congress-2023/sponsor/13390\n",
      "https://www.imcas.com/en/attend/imcas-world-congress-2023/sponsor/13427\n",
      "https://www.imcas.com/en/attend/imcas-world-congress-2023/sponsor/13722\n",
      "https://www.imcas.com/en/attend/imcas-world-congress-2023/sponsor/13472\n",
      "https://www.imcas.com/en/attend/imcas-world-congress-2023/sponsor/13650\n",
      "https://www.imcas.com/en/attend/imcas-world-congress-2023/sponsor/13218\n",
      "https://www.imcas.com/en/attend/imcas-world-congress-2023/sponsor/13398\n",
      "https://www.imcas.com/en/attend/imcas-world-congress-2023/sponsor/13507\n",
      "https://www.imcas.com/en/attend/imcas-world-congress-2023/sponsor/13512\n",
      "https://www.imcas.com/en/attend/imcas-world-congress-2023/sponsor/13533\n",
      "https://www.imcas.com/en/attend/imcas-world-congress-2023/sponsor/13754\n",
      "https://www.imcas.com/en/attend/imcas-world-congress-2023/sponsor/13559\n",
      "https://www.imcas.com/en/attend/imcas-world-congress-2023/sponsor/13561\n",
      "https://www.imcas.com/en/attend/imcas-world-congress-2023/sponsor/13566\n",
      "https://www.imcas.com/en/attend/imcas-world-congress-2023/sponsor/13569\n",
      "https://www.imcas.com/en/attend/imcas-world-congress-2023/sponsor/13579\n",
      "https://www.imcas.com/en/attend/imcas-world-congress-2023/sponsor/13592\n",
      "https://www.imcas.com/en/attend/imcas-world-congress-2023/sponsor/13646\n",
      "https://www.imcas.com/en/attend/imcas-world-congress-2023/sponsor/13448\n",
      "https://www.imcas.com/en/attend/imcas-world-congress-2023/sponsor/13302\n",
      "https://www.imcas.com/en/attend/imcas-world-congress-2023/sponsor/13313\n",
      "https://www.imcas.com/en/attend/imcas-world-congress-2023/sponsor/13322\n",
      "https://www.imcas.com/en/attend/imcas-world-congress-2023/sponsor/13327\n",
      "https://www.imcas.com/en/attend/imcas-world-congress-2023/sponsor/13330\n",
      "https://www.imcas.com/en/attend/imcas-world-congress-2023/sponsor/13603\n",
      "https://www.imcas.com/en/attend/imcas-world-congress-2023/sponsor/13342\n",
      "https://www.imcas.com/en/attend/imcas-world-congress-2023/sponsor/13380\n",
      "https://www.imcas.com/en/attend/imcas-world-congress-2023/sponsor/13352\n",
      "https://www.imcas.com/en/attend/imcas-world-congress-2023/sponsor/13355\n",
      "https://www.imcas.com/en/attend/imcas-world-congress-2023/sponsor/13389\n",
      "https://www.imcas.com/en/attend/imcas-world-congress-2023/sponsor/13394\n",
      "https://www.imcas.com/en/attend/imcas-world-congress-2023/sponsor/13424\n",
      "https://www.imcas.com/en/attend/imcas-world-congress-2023/sponsor/13425\n",
      "https://www.imcas.com/en/attend/imcas-world-congress-2023/sponsor/13445\n",
      "https://www.imcas.com/en/attend/imcas-world-congress-2023/sponsor/13760\n",
      "https://www.imcas.com/en/attend/imcas-world-congress-2023/sponsor/13454\n",
      "https://www.imcas.com/en/attend/imcas-world-congress-2023/sponsor/13463\n",
      "https://www.imcas.com/en/attend/imcas-world-congress-2023/sponsor/13539\n",
      "https://www.imcas.com/en/attend/imcas-world-congress-2023/sponsor/13288\n",
      "https://www.imcas.com/en/attend/imcas-world-congress-2023/sponsor/13555\n",
      "https://www.imcas.com/en/attend/imcas-world-congress-2023/sponsor/13572\n",
      "https://www.imcas.com/en/attend/imcas-world-congress-2023/sponsor/13575\n",
      "https://www.imcas.com/en/attend/imcas-world-congress-2023/sponsor/13587\n",
      "https://www.imcas.com/en/attend/imcas-world-congress-2023/sponsor/13591\n",
      "https://www.imcas.com/en/attend/imcas-world-congress-2023/sponsor/13468\n",
      "https://www.imcas.com/en/attend/imcas-world-congress-2023/sponsor/13614\n",
      "https://www.imcas.com/en/attend/imcas-world-congress-2023/sponsor/13622\n",
      "https://www.imcas.com/en/attend/imcas-world-congress-2023/sponsor/13626\n",
      "https://www.imcas.com/en/attend/imcas-world-congress-2023/sponsor/13628\n",
      "https://www.imcas.com/en/attend/imcas-world-congress-2023/sponsor/13634\n",
      "https://www.imcas.com/en/attend/imcas-world-congress-2023/sponsor/13637\n",
      "https://www.imcas.com/en/attend/imcas-world-congress-2023/sponsor/13638\n",
      "https://www.imcas.com/en/attend/imcas-world-congress-2023/sponsor/13286\n",
      "https://www.imcas.com/en/attend/imcas-world-congress-2023/sponsor/13340\n",
      "https://www.imcas.com/en/attend/imcas-world-congress-2023/sponsor/13346\n",
      "https://www.imcas.com/en/attend/imcas-world-congress-2023/sponsor/13356\n",
      "https://www.imcas.com/en/attend/imcas-world-congress-2023/sponsor/13494\n",
      "https://www.imcas.com/en/attend/imcas-world-congress-2023/sponsor/13365\n",
      "https://www.imcas.com/en/attend/imcas-world-congress-2023/sponsor/13386\n",
      "https://www.imcas.com/en/attend/imcas-world-congress-2023/sponsor/13423\n",
      "https://www.imcas.com/en/attend/imcas-world-congress-2023/sponsor/13434\n",
      "https://www.imcas.com/en/attend/imcas-world-congress-2023/sponsor/13438\n",
      "https://www.imcas.com/en/attend/imcas-world-congress-2023/sponsor/13440\n",
      "https://www.imcas.com/en/attend/imcas-world-congress-2023/sponsor/13410\n",
      "https://www.imcas.com/en/attend/imcas-world-congress-2023/sponsor/13446\n",
      "https://www.imcas.com/en/attend/imcas-world-congress-2023/sponsor/13450\n",
      "https://www.imcas.com/en/attend/imcas-world-congress-2023/sponsor/13480\n",
      "https://www.imcas.com/en/attend/imcas-world-congress-2023/sponsor/13495\n",
      "https://www.imcas.com/en/attend/imcas-world-congress-2023/sponsor/13509\n",
      "https://www.imcas.com/en/attend/imcas-world-congress-2023/sponsor/13370\n",
      "https://www.imcas.com/en/attend/imcas-world-congress-2023/sponsor/13482\n",
      "https://www.imcas.com/en/attend/imcas-world-congress-2023/sponsor/13524\n",
      "https://www.imcas.com/en/attend/imcas-world-congress-2023/sponsor/13527\n",
      "https://www.imcas.com/en/attend/imcas-world-congress-2023/sponsor/13731\n",
      "https://www.imcas.com/en/attend/imcas-world-congress-2023/sponsor/13536\n",
      "https://www.imcas.com/en/attend/imcas-world-congress-2023/sponsor/13543\n",
      "https://www.imcas.com/en/attend/imcas-world-congress-2023/sponsor/13547\n",
      "https://www.imcas.com/en/attend/imcas-world-congress-2023/sponsor/13557\n",
      "https://www.imcas.com/en/attend/imcas-world-congress-2023/sponsor/13553\n",
      "https://www.imcas.com/en/attend/imcas-world-congress-2023/sponsor/13563\n",
      "https://www.imcas.com/en/attend/imcas-world-congress-2023/sponsor/13528\n",
      "https://www.imcas.com/en/attend/imcas-world-congress-2023/sponsor/13496\n",
      "https://www.imcas.com/en/attend/imcas-world-congress-2023/sponsor/13584\n",
      "https://www.imcas.com/en/attend/imcas-world-congress-2023/sponsor/13594\n",
      "https://www.imcas.com/en/attend/imcas-world-congress-2023/sponsor/13595\n",
      "https://www.imcas.com/en/attend/imcas-world-congress-2023/sponsor/13598\n",
      "https://www.imcas.com/en/attend/imcas-world-congress-2023/sponsor/13616\n",
      "https://www.imcas.com/en/attend/imcas-world-congress-2023/sponsor/13618\n",
      "https://www.imcas.com/en/attend/imcas-world-congress-2023/sponsor/13620\n",
      "https://www.imcas.com/en/attend/imcas-world-congress-2023/sponsor/13624\n",
      "https://www.imcas.com/en/attend/imcas-world-congress-2023/sponsor/13630\n",
      "https://www.imcas.com/en/attend/imcas-world-congress-2023/sponsor/13295\n",
      "https://www.imcas.com/en/attend/imcas-world-congress-2023/sponsor/13305\n",
      "https://www.imcas.com/en/attend/imcas-world-congress-2023/sponsor/13308\n",
      "https://www.imcas.com/en/attend/imcas-world-congress-2023/sponsor/13312\n",
      "https://www.imcas.com/en/attend/imcas-world-congress-2023/sponsor/13316\n",
      "https://www.imcas.com/en/attend/imcas-world-congress-2023/sponsor/13306\n",
      "https://www.imcas.com/en/attend/imcas-world-congress-2023/sponsor/13326\n",
      "https://www.imcas.com/en/attend/imcas-world-congress-2023/sponsor/13329\n",
      "https://www.imcas.com/en/attend/imcas-world-congress-2023/sponsor/13428\n",
      "https://www.imcas.com/en/attend/imcas-world-congress-2023/sponsor/13338\n",
      "https://www.imcas.com/en/attend/imcas-world-congress-2023/sponsor/13285\n",
      "https://www.imcas.com/en/attend/imcas-world-congress-2023/sponsor/13344\n",
      "https://www.imcas.com/en/attend/imcas-world-congress-2023/sponsor/13695\n",
      "https://www.imcas.com/en/attend/imcas-world-congress-2023/sponsor/13353\n",
      "https://www.imcas.com/en/attend/imcas-world-congress-2023/sponsor/13357\n",
      "https://www.imcas.com/en/attend/imcas-world-congress-2023/sponsor/13358\n",
      "https://www.imcas.com/en/attend/imcas-world-congress-2023/sponsor/13361\n",
      "https://www.imcas.com/en/attend/imcas-world-congress-2023/sponsor/13419\n",
      "https://www.imcas.com/en/attend/imcas-world-congress-2023/sponsor/13368\n",
      "https://www.imcas.com/en/attend/imcas-world-congress-2023/sponsor/13372\n",
      "https://www.imcas.com/en/attend/imcas-world-congress-2023/sponsor/13217\n",
      "https://www.imcas.com/en/attend/imcas-world-congress-2023/sponsor/13374\n",
      "https://www.imcas.com/en/attend/imcas-world-congress-2023/sponsor/13307\n",
      "https://www.imcas.com/en/attend/imcas-world-congress-2023/sponsor/13578\n",
      "https://www.imcas.com/en/attend/imcas-world-congress-2023/sponsor/13396\n",
      "https://www.imcas.com/en/attend/imcas-world-congress-2023/sponsor/13436\n",
      "https://www.imcas.com/en/attend/imcas-world-congress-2023/sponsor/13725\n",
      "https://www.imcas.com/en/attend/imcas-world-congress-2023/sponsor/13402\n",
      "https://www.imcas.com/en/attend/imcas-world-congress-2023/sponsor/13407\n",
      "https://www.imcas.com/en/attend/imcas-world-congress-2023/sponsor/13413\n",
      "https://www.imcas.com/en/attend/imcas-world-congress-2023/sponsor/13416\n",
      "https://www.imcas.com/en/attend/imcas-world-congress-2023/sponsor/13653\n",
      "https://www.imcas.com/en/attend/imcas-world-congress-2023/sponsor/13422\n",
      "https://www.imcas.com/en/attend/imcas-world-congress-2023/sponsor/13430\n",
      "https://www.imcas.com/en/attend/imcas-world-congress-2023/sponsor/13687\n",
      "https://www.imcas.com/en/attend/imcas-world-congress-2023/sponsor/13433\n",
      "https://www.imcas.com/en/attend/imcas-world-congress-2023/sponsor/13439\n",
      "https://www.imcas.com/en/attend/imcas-world-congress-2023/sponsor/13640\n",
      "https://www.imcas.com/en/attend/imcas-world-congress-2023/sponsor/13728\n",
      "https://www.imcas.com/en/attend/imcas-world-congress-2023/sponsor/13452\n",
      "https://www.imcas.com/en/attend/imcas-world-congress-2023/sponsor/13350\n",
      "https://www.imcas.com/en/attend/imcas-world-congress-2023/sponsor/13457\n",
      "https://www.imcas.com/en/attend/imcas-world-congress-2023/sponsor/13473\n",
      "https://www.imcas.com/en/attend/imcas-world-congress-2023/sponsor/13476\n",
      "https://www.imcas.com/en/attend/imcas-world-congress-2023/sponsor/13702\n",
      "https://www.imcas.com/en/attend/imcas-world-congress-2023/sponsor/13688\n",
      "https://www.imcas.com/en/attend/imcas-world-congress-2023/sponsor/13292\n",
      "https://www.imcas.com/en/attend/imcas-world-congress-2023/sponsor/13456\n",
      "https://www.imcas.com/en/attend/imcas-world-congress-2023/sponsor/13447\n",
      "https://www.imcas.com/en/attend/imcas-world-congress-2023/sponsor/13497\n",
      "https://www.imcas.com/en/attend/imcas-world-congress-2023/sponsor/13500\n",
      "https://www.imcas.com/en/attend/imcas-world-congress-2023/sponsor/13503\n",
      "https://www.imcas.com/en/attend/imcas-world-congress-2023/sponsor/13727\n",
      "https://www.imcas.com/en/attend/imcas-world-congress-2023/sponsor/13510\n",
      "https://www.imcas.com/en/attend/imcas-world-congress-2023/sponsor/13514\n",
      "https://www.imcas.com/en/attend/imcas-world-congress-2023/sponsor/13519\n",
      "https://www.imcas.com/en/attend/imcas-world-congress-2023/sponsor/13733\n",
      "https://www.imcas.com/en/attend/imcas-world-congress-2023/sponsor/13529\n",
      "https://www.imcas.com/en/attend/imcas-world-congress-2023/sponsor/13530\n",
      "https://www.imcas.com/en/attend/imcas-world-congress-2023/sponsor/13535\n",
      "https://www.imcas.com/en/attend/imcas-world-congress-2023/sponsor/13542\n",
      "https://www.imcas.com/en/attend/imcas-world-congress-2023/sponsor/13672\n",
      "https://www.imcas.com/en/attend/imcas-world-congress-2023/sponsor/13550\n",
      "https://www.imcas.com/en/attend/imcas-world-congress-2023/sponsor/13643\n",
      "https://www.imcas.com/en/attend/imcas-world-congress-2023/sponsor/13551\n",
      "https://www.imcas.com/en/attend/imcas-world-congress-2023/sponsor/13715\n",
      "https://www.imcas.com/en/attend/imcas-world-congress-2023/sponsor/13589\n",
      "https://www.imcas.com/en/attend/imcas-world-congress-2023/sponsor/13414\n",
      "https://www.imcas.com/en/attend/imcas-world-congress-2023/sponsor/13730\n",
      "https://www.imcas.com/en/attend/imcas-world-congress-2023/sponsor/13606\n",
      "https://www.imcas.com/en/attend/imcas-world-congress-2023/sponsor/13607\n",
      "https://www.imcas.com/en/attend/imcas-world-congress-2023/sponsor/13612\n",
      "https://www.imcas.com/en/attend/imcas-world-congress-2023/sponsor/13617\n",
      "https://www.imcas.com/en/attend/imcas-world-congress-2023/sponsor/13621\n",
      "https://www.imcas.com/en/attend/imcas-world-congress-2023/sponsor/13631\n",
      "https://www.imcas.com/en/attend/imcas-world-congress-2023/sponsor/13508\n",
      "https://www.imcas.com/en/attend/imcas-world-congress-2023/sponsor/13289\n",
      "https://www.imcas.com/en/attend/imcas-world-congress-2023/sponsor/13318\n",
      "https://www.imcas.com/en/attend/imcas-world-congress-2023/sponsor/13737\n",
      "https://www.imcas.com/en/attend/imcas-world-congress-2023/sponsor/13293\n",
      "https://www.imcas.com/en/attend/imcas-world-congress-2023/sponsor/13294\n",
      "https://www.imcas.com/en/attend/imcas-world-congress-2023/sponsor/13298\n",
      "https://www.imcas.com/en/attend/imcas-world-congress-2023/sponsor/14254\n",
      "https://www.imcas.com/en/attend/imcas-world-congress-2023/sponsor/13465\n",
      "https://www.imcas.com/en/attend/imcas-world-congress-2023/sponsor/14255\n",
      "https://www.imcas.com/en/attend/imcas-world-congress-2023/sponsor/14231\n",
      "https://www.imcas.com/en/attend/imcas-world-congress-2023/sponsor/13303\n",
      "https://www.imcas.com/en/attend/imcas-world-congress-2023/sponsor/14266\n",
      "https://www.imcas.com/en/attend/imcas-world-congress-2023/sponsor/13319\n",
      "https://www.imcas.com/en/attend/imcas-world-congress-2023/sponsor/13324\n",
      "https://www.imcas.com/en/attend/imcas-world-congress-2023/sponsor/13331\n",
      "https://www.imcas.com/en/attend/imcas-world-congress-2023/sponsor/13723\n",
      "https://www.imcas.com/en/attend/imcas-world-congress-2023/sponsor/13334\n",
      "https://www.imcas.com/en/attend/imcas-world-congress-2023/sponsor/13669\n",
      "https://www.imcas.com/en/attend/imcas-world-congress-2023/sponsor/13337\n",
      "https://www.imcas.com/en/attend/imcas-world-congress-2023/sponsor/13336\n",
      "https://www.imcas.com/en/attend/imcas-world-congress-2023/sponsor/13199\n",
      "https://www.imcas.com/en/attend/imcas-world-congress-2023/sponsor/13724\n",
      "https://www.imcas.com/en/attend/imcas-world-congress-2023/sponsor/13348\n",
      "https://www.imcas.com/en/attend/imcas-world-congress-2023/sponsor/13770\n",
      "https://www.imcas.com/en/attend/imcas-world-congress-2023/sponsor/13738\n",
      "https://www.imcas.com/en/attend/imcas-world-congress-2023/sponsor/13367\n",
      "https://www.imcas.com/en/attend/imcas-world-congress-2023/sponsor/13384\n",
      "https://www.imcas.com/en/attend/imcas-world-congress-2023/sponsor/13392\n",
      "https://www.imcas.com/en/attend/imcas-world-congress-2023/sponsor/13406\n",
      "https://www.imcas.com/en/attend/imcas-world-congress-2023/sponsor/13914\n",
      "https://www.imcas.com/en/attend/imcas-world-congress-2023/sponsor/13762\n",
      "https://www.imcas.com/en/attend/imcas-world-congress-2023/sponsor/13755\n",
      "https://www.imcas.com/en/attend/imcas-world-congress-2023/sponsor/13409\n",
      "https://www.imcas.com/en/attend/imcas-world-congress-2023/sponsor/13412\n",
      "https://www.imcas.com/en/attend/imcas-world-congress-2023/sponsor/13562\n",
      "https://www.imcas.com/en/attend/imcas-world-congress-2023/sponsor/13554\n",
      "https://www.imcas.com/en/attend/imcas-world-congress-2023/sponsor/13301\n",
      "https://www.imcas.com/en/attend/imcas-world-congress-2023/sponsor/13734\n",
      "https://www.imcas.com/en/attend/imcas-world-congress-2023/sponsor/13442\n",
      "https://www.imcas.com/en/attend/imcas-world-congress-2023/sponsor/13741\n",
      "https://www.imcas.com/en/attend/imcas-world-congress-2023/sponsor/13444\n",
      "https://www.imcas.com/en/attend/imcas-world-congress-2023/sponsor/13449\n",
      "https://www.imcas.com/en/attend/imcas-world-congress-2023/sponsor/13784\n",
      "https://www.imcas.com/en/attend/imcas-world-congress-2023/sponsor/13541\n",
      "https://www.imcas.com/en/attend/imcas-world-congress-2023/sponsor/13458\n",
      "https://www.imcas.com/en/attend/imcas-world-congress-2023/sponsor/13339\n",
      "https://www.imcas.com/en/attend/imcas-world-congress-2023/sponsor/14265\n",
      "https://www.imcas.com/en/attend/imcas-world-congress-2023/sponsor/13471\n",
      "https://www.imcas.com/en/attend/imcas-world-congress-2023/sponsor/13484\n",
      "https://www.imcas.com/en/attend/imcas-world-congress-2023/sponsor/13489\n",
      "https://www.imcas.com/en/attend/imcas-world-congress-2023/sponsor/13726\n",
      "https://www.imcas.com/en/attend/imcas-world-congress-2023/sponsor/13654\n",
      "https://www.imcas.com/en/attend/imcas-world-congress-2023/sponsor/13498\n",
      "https://www.imcas.com/en/attend/imcas-world-congress-2023/sponsor/13645\n",
      "https://www.imcas.com/en/attend/imcas-world-congress-2023/sponsor/13504\n",
      "https://www.imcas.com/en/attend/imcas-world-congress-2023/sponsor/13780\n",
      "https://www.imcas.com/en/attend/imcas-world-congress-2023/sponsor/13506\n",
      "https://www.imcas.com/en/attend/imcas-world-congress-2023/sponsor/13759\n",
      "https://www.imcas.com/en/attend/imcas-world-congress-2023/sponsor/13608\n",
      "https://www.imcas.com/en/attend/imcas-world-congress-2023/sponsor/13785\n",
      "https://www.imcas.com/en/attend/imcas-world-congress-2023/sponsor/13513\n",
      "https://www.imcas.com/en/attend/imcas-world-congress-2023/sponsor/13786\n",
      "https://www.imcas.com/en/attend/imcas-world-congress-2023/sponsor/13729\n",
      "https://www.imcas.com/en/attend/imcas-world-congress-2023/sponsor/13421\n",
      "https://www.imcas.com/en/attend/imcas-world-congress-2023/sponsor/13517\n",
      "https://www.imcas.com/en/attend/imcas-world-congress-2023/sponsor/13521\n",
      "https://www.imcas.com/en/attend/imcas-world-congress-2023/sponsor/13515\n",
      "https://www.imcas.com/en/attend/imcas-world-congress-2023/sponsor/13686\n",
      "https://www.imcas.com/en/attend/imcas-world-congress-2023/sponsor/13525\n",
      "https://www.imcas.com/en/attend/imcas-world-congress-2023/sponsor/13534\n",
      "https://www.imcas.com/en/attend/imcas-world-congress-2023/sponsor/13537\n",
      "https://www.imcas.com/en/attend/imcas-world-congress-2023/sponsor/13540\n",
      "https://www.imcas.com/en/attend/imcas-world-congress-2023/sponsor/13545\n",
      "https://www.imcas.com/en/attend/imcas-world-congress-2023/sponsor/13552\n",
      "https://www.imcas.com/en/attend/imcas-world-congress-2023/sponsor/13556\n",
      "https://www.imcas.com/en/attend/imcas-world-congress-2023/sponsor/13560\n",
      "https://www.imcas.com/en/attend/imcas-world-congress-2023/sponsor/14280\n",
      "https://www.imcas.com/en/attend/imcas-world-congress-2023/sponsor/13567\n",
      "https://www.imcas.com/en/attend/imcas-world-congress-2023/sponsor/14274\n",
      "https://www.imcas.com/en/attend/imcas-world-congress-2023/sponsor/13652\n",
      "https://www.imcas.com/en/attend/imcas-world-congress-2023/sponsor/13705\n",
      "https://www.imcas.com/en/attend/imcas-world-congress-2023/sponsor/13583\n",
      "https://www.imcas.com/en/attend/imcas-world-congress-2023/sponsor/14224\n",
      "https://www.imcas.com/en/attend/imcas-world-congress-2023/sponsor/13593\n",
      "https://www.imcas.com/en/attend/imcas-world-congress-2023/sponsor/13600\n",
      "https://www.imcas.com/en/attend/imcas-world-congress-2023/sponsor/14223\n",
      "https://www.imcas.com/en/attend/imcas-world-congress-2023/sponsor/13758\n",
      "https://www.imcas.com/en/attend/imcas-world-congress-2023/sponsor/13685\n",
      "https://www.imcas.com/en/attend/imcas-world-congress-2023/sponsor/13611\n",
      "https://www.imcas.com/en/attend/imcas-world-congress-2023/sponsor/13613\n",
      "https://www.imcas.com/en/attend/imcas-world-congress-2023/sponsor/13763\n",
      "https://www.imcas.com/en/attend/imcas-world-congress-2023/sponsor/13633\n",
      "https://www.imcas.com/en/attend/imcas-world-congress-2023/sponsor/13773\n",
      "https://www.imcas.com/en/attend/imcas-world-congress-2023/sponsor/13668\n",
      "https://www.imcas.com/en/attend/imcas-world-congress-2023/sponsor/13619\n",
      "https://www.imcas.com/en/attend/imcas-world-congress-2023/sponsor/13627\n",
      "https://www.imcas.com/en/attend/imcas-world-congress-2023/sponsor/13629\n",
      "https://www.imcas.com/en/attend/imcas-world-congress-2023/sponsor/14217\n",
      "https://www.imcas.com/en/attend/imcas-world-congress-2023/sponsor/13632\n",
      "https://www.imcas.com/en/attend/imcas-world-congress-2023/sponsor/13779\n",
      "https://www.imcas.com/en/attend/imcas-world-congress-2023/sponsor/13753\n",
      "https://www.imcas.com/en/attend/imcas-world-congress-2023/sponsor/13636\n"
     ]
    }
   ],
   "source": [
    "website = []\n",
    "\n",
    "for ll in links:\n",
    "    web = ll['href']\n",
    "    print(web)\n",
    "    website.append(web)"
   ],
   "metadata": {
    "collapsed": false,
    "ExecuteTime": {
     "end_time": "2023-08-30T21:17:54.861731600Z",
     "start_time": "2023-08-30T21:17:54.850618800Z"
    }
   }
  },
  {
   "cell_type": "markdown",
   "source": [
    "## Product detail"
   ],
   "metadata": {
    "collapsed": false,
    "ExecuteTime": {
     "end_time": "2023-07-29T20:35:27.246344900Z",
     "start_time": "2023-07-29T20:35:27.212344600Z"
    }
   },
   "outputs": [
    {
     "data": {
      "text/plain": "'Croma Pharma GmbH'"
     },
     "execution_count": 62,
     "metadata": {},
     "output_type": "execute_result"
    }
   ],
   "execution_count": 62
  },
  {
   "cell_type": "code",
   "execution_count": 35,
   "outputs": [
    {
     "name": "stdout",
     "output_type": "stream",
     "text": [
      "<html>\n",
      " <head>\n",
      "  <link href=\"https://fonts.googleapis.com/css?family=Open+Sans:300,400,700|Lato:400,700|Source+Sans+Pro:400,700|Roboto:100,400,700,300,300italic,400italic,500,500italic,700italic,900,900italic|Raleway:400,700,200,200italic,300,300italic,400italic,500,500italic,600,600italic,700italic,800,800italic,900,900italic&amp;subset=latin,cyrillic-ext,cyrillic,latin-ext\" rel=\"stylesheet\" type=\"text/css\"/>\n",
      "  <link href=\"https://fonts.googleapis.com/css?family=Playfair+Display\" rel=\"stylesheet\" type=\"text/css\"/>\n",
      "  <link href=\"https://fonts.googleapis.com/css?family=Merriweather:300,400\" rel=\"stylesheet\"/>\n",
      "  <style>\n",
      "   body{\n",
      "        margin : 0;\n",
      "    }\n",
      "\n",
      "    .backImcas{\n",
      "        display:block;\n",
      "        margin : 0;\n",
      "        padding : 15px 20px;\n",
      "        background: #B24268;\n",
      "        color: white;\n",
      "        font-weight:bold;\n",
      "        font-size: 16px;\n",
      "        font-family: \"roboto\";\n",
      "        box-sizing: border-box;\n",
      "        text-decoration: none;\n",
      "    }\n",
      "\n",
      "    .physicBooth{\n",
      "        margin: 0px auto;\n",
      "        padding: 0px 15px;\n",
      "        font-family: \"roboto\";\n",
      "    }\n",
      "\n",
      "    .sponsor-profile-header-logo{\n",
      "        width: 100%;\n",
      "    }\n",
      "\n",
      "    .sponsor-profile-header-logo img{\n",
      "        display: block;\n",
      "        margin: 2em auto;\n",
      "    }\n",
      "\n",
      "    .sponsor-profile-header-description {\n",
      "        width: 100%;\n",
      "        display: flex;\n",
      "        flex-direction: column;\n",
      "    }\n",
      "\n",
      "    .sponsor-profile-modal-content-sponsor-title{\n",
      "         order: 1;\n",
      "         text-align: center;\n",
      "         margin:0;\n",
      "     }\n",
      "    .sponsor-profile-modal-content-sponsor-country{\n",
      "        margin: 0;\n",
      "        order:3;\n",
      "     }\n",
      "\n",
      "    .sponsor-profile-header-description  .sponsor-profile-modal-content-sponsor-details:nth-child(3){\n",
      "        order:2;\n",
      "        text-align: center;\n",
      "        font-size: 1.25em;\n",
      "        font-weight: bold;\n",
      "        color: black;\n",
      "        text-transform: uppercase;\n",
      "        margin: 0;\n",
      "        margin-bottom: 1.25em;\n",
      "    }\n",
      "    .sponsor-profile-header-description  *:nth-child(4){\n",
      "        margin: 0;\n",
      "\n",
      "        margin-bottom: 1.25em;\n",
      "    }\n",
      "    .sponsor-profile-header-description  *:nth-child(n+4){\n",
      "        order:4;\n",
      "        color: black;\n",
      "    }\n",
      "\n",
      "    .sponsor-resume{\n",
      "        font-weight:300;\n",
      "        font-size:16px;\n",
      "    }\n",
      "  </style>\n",
      " </head>\n",
      " <body>\n",
      "  <div class=\"modal-dialog modal-lg physicBooth\">\n",
      "   <div class=\"sponsor-profile-modal-content\">\n",
      "    <div class=\"row sponsor-profile-header\">\n",
      "     <div class=\"col-sm-4 text-center sponsor-profile-header-logo\">\n",
      "      <img src=\"https://comexposium-healthcare-uploads.s3-eu-west-1.amazonaws.com/users/87761/logo/2Z7CAHrGQk7KoiSgTWl8x8jBeQGl7MUs1qMYUKrG.jpg\" style=\"width: 100%;max-width:300px;margin: 2em auto\"/>\n",
      "     </div>\n",
      "     <div class=\"col-sm-8 sponsor-profile-header-description\">\n",
      "      <h4 class=\"sponsor-profile-modal-content-sponsor-title\">\n",
      "       Galderma\n",
      "      </h4>\n",
      "      <h5 class=\"sponsor-profile-modal-content-sponsor-country\">\n",
      "       <i aria-hidden=\"true\" class=\"fa fa-flag\">\n",
      "       </i>\n",
      "       France\n",
      "      </h5>\n",
      "      <h5 class=\"sponsor-profile-modal-content-sponsor-details\">\n",
      "       Booth number: P245\n",
      "      </h5>\n",
      "      <p class=\"sponsor-profile-modal-content-sponsor-details\">\n",
      "       <i aria-hidden=\"true\" class=\"fa fa-link\">\n",
      "       </i>\n",
      "       Website\n",
      "                        :\n",
      "       <a href=\"http://www.galderma.com\" target=\"_blank\">\n",
      "        www.galderma.com\n",
      "       </a>\n",
      "      </p>\n",
      "      <p class=\"sponsor-profile-modal-content-sponsor-details\">\n",
      "       Product/Device:\n",
      "      </p>\n",
      "      <div style=\"font-size: 14px;font-weight:200;font-style: italic;\">\n",
      "       - Injectables: Fillers\n",
      "       <br/>\n",
      "       - Pharmaceutical - Drugs in dermatology or plastic surgery\n",
      "       <br/>\n",
      "       - Injectables: Botulinum toxins\n",
      "       <br/>\n",
      "      </div>\n",
      "     </div>\n",
      "    </div>\n",
      "    <div class=\"row\">\n",
      "     <div class=\"col-sm-12\">\n",
      "      <div class=\"sponsor-resume\">\n",
      "       With a unique heritage in dermatology as well as decades of cutting-edge innovation, Galderma is the leading company solely dedicated to advancing dermatology for every skin story. We are strategically positioned in attractive, consumer-driven segments of the dermatology market, characterized by high growth fundamentals. Through trusted partnerships with healthcare professionals, we ensure to meet individual consumer and patient needs with superior outcomes. For more information: www.galderma.com\n",
      "      </div>\n",
      "     </div>\n",
      "    </div>\n",
      "   </div>\n",
      "  </div>\n",
      " </body>\n",
      "</html>\n"
     ]
    }
   ],
   "source": [
    "p = requests.get('https://www.imcas.com/en/attend/imcas-world-congress-2023/sponsor/13437')\n",
    "soupp = bs(p.content)\n",
    "\n",
    "#print out\n",
    "\n",
    "comweb = soupp.prettify()\n",
    "print(comweb)"
   ],
   "metadata": {
    "collapsed": false,
    "ExecuteTime": {
     "end_time": "2023-08-30T21:24:57.357442400Z",
     "start_time": "2023-08-30T21:24:54.001215500Z"
    }
   }
  },
  {
   "cell_type": "markdown",
   "source": [
    "## Get website"
   ],
   "metadata": {
    "collapsed": false
   }
  },
  {
   "cell_type": "code",
   "execution_count": 306,
   "outputs": [
    {
     "data": {
      "text/plain": "<a href=\"http://www.galderma.com\" target=\"_blank\">www.galderma.com</a>"
     },
     "execution_count": 306,
     "metadata": {},
     "output_type": "execute_result"
    }
   ],
   "source": [
    "web_link = soupp.select_one('p.sponsor-profile-modal-content-sponsor-details a')\n",
    "web_link"
   ],
   "metadata": {
    "collapsed": false,
    "ExecuteTime": {
     "end_time": "2023-08-07T20:31:12.118145600Z",
     "start_time": "2023-08-07T20:31:12.039007500Z"
    }
   }
  },
  {
   "cell_type": "code",
   "execution_count": 301,
   "outputs": [],
   "source": [
    "def get_web(zoup):\n",
    "    web_link = zoup.select_one('p.sponsor-profile-modal-content-sponsor-details a')\n",
    "    if web_link:\n",
    "        website_url = web_link['href']\n",
    "        print(website_url)\n",
    "    else:\n",
    "        print(\"Website URL not found.\")"
   ],
   "metadata": {
    "collapsed": false,
    "ExecuteTime": {
     "end_time": "2023-08-07T20:25:51.649017700Z",
     "start_time": "2023-08-07T20:25:51.582012700Z"
    }
   }
  },
  {
   "cell_type": "code",
   "execution_count": 307,
   "outputs": [
    {
     "name": "stdout",
     "output_type": "stream",
     "text": [
      "http://www.galderma.com\n"
     ]
    }
   ],
   "source": [
    "get_web(soupp)"
   ],
   "metadata": {
    "collapsed": false,
    "ExecuteTime": {
     "end_time": "2023-08-07T20:31:20.814501600Z",
     "start_time": "2023-08-07T20:31:20.791500800Z"
    }
   }
  },
  {
   "cell_type": "markdown",
   "source": [
    "## Get Product Type"
   ],
   "metadata": {
    "collapsed": false
   }
  },
  {
   "cell_type": "code",
   "execution_count": 225,
   "outputs": [
    {
     "data": {
      "text/plain": "'- Injectables: Fillers - Injectables: Botulinum toxins'"
     },
     "execution_count": 225,
     "metadata": {},
     "output_type": "execute_result"
    }
   ],
   "source": [
    "soupp.select_one('div[style=\"font-size: 14px;font-weight:200;font-style: italic;\"]').getText(\" \", strip=True)"
   ],
   "metadata": {
    "collapsed": false,
    "ExecuteTime": {
     "end_time": "2023-08-04T23:27:45.440374300Z",
     "start_time": "2023-08-04T23:27:45.376979500Z"
    }
   }
  },
  {
   "cell_type": "code",
   "execution_count": 231,
   "outputs": [],
   "source": [
    "def get_data(zoup):\n",
    "    pro = 'div[style=\"font-size: 14px;font-weight:200;font-style: italic;\"]'\n",
    "    prot = zoup.select_one(pro)\n",
    "\n",
    "    if prot:\n",
    "        items = [item.getText(\" \", strip=True).replace(\" \", \"\") for item in prot.find_all(text=True)]\n",
    "        non_empty_items = [item for item in items if item]  # Filter out empty strings\n",
    "        return non_empty_items\n",
    "    else:\n",
    "        return 'NA'\n"
   ],
   "metadata": {
    "collapsed": false,
    "ExecuteTime": {
     "end_time": "2023-08-04T23:41:10.793896500Z",
     "start_time": "2023-08-04T23:41:10.777870900Z"
    }
   }
  },
  {
   "cell_type": "code",
   "execution_count": 232,
   "outputs": [
    {
     "data": {
      "text/plain": "['-Injectables:Fillers', '-Injectables:Botulinumtoxins']"
     },
     "execution_count": 232,
     "metadata": {},
     "output_type": "execute_result"
    }
   ],
   "source": [
    "get_data(soupp)"
   ],
   "metadata": {
    "collapsed": false,
    "ExecuteTime": {
     "end_time": "2023-08-04T23:41:12.592883300Z",
     "start_time": "2023-08-04T23:41:12.561627800Z"
    }
   }
  },
  {
   "cell_type": "markdown",
   "source": [
    "## Get Company profile"
   ],
   "metadata": {
    "collapsed": false
   }
  },
  {
   "cell_type": "code",
   "execution_count": null,
   "outputs": [],
   "source": [
    "res = soupp.find('div', class_= 'sponsor-resume').getText(\" \", strip= True)\n",
    "res"
   ],
   "metadata": {
    "collapsed": false
   }
  },
  {
   "cell_type": "code",
   "execution_count": 131,
   "outputs": [],
   "source": [
    "def get_web(zoup):\n",
    "    if zoup.find('a'):\n",
    "        return zoup.find('a')['href']"
   ],
   "metadata": {
    "collapsed": false,
    "ExecuteTime": {
     "end_time": "2023-08-01T00:18:21.563863700Z",
     "start_time": "2023-08-01T00:18:21.516634700Z"
    }
   }
  },
  {
   "cell_type": "markdown",
   "source": [
    "## Get Origin"
   ],
   "metadata": {
    "collapsed": false
   }
  },
  {
   "cell_type": "code",
   "execution_count": 296,
   "outputs": [],
   "source": [
    "def get_origin(zoup):\n",
    "    countries = zoup.find_all('h5', class_='sponsor-profile-modal-content-sponsor-country')\n",
    "    if countries:\n",
    "        return [oo.getText(\" \", strip=True).replace(\"\\n\", \" \") for oo in countries if oo.getText(\" \", strip=True).replace(\"\\n\", \" \").strip()]\n",
    "    else:\n",
    "        return None"
   ],
   "metadata": {
    "collapsed": false,
    "ExecuteTime": {
     "end_time": "2023-08-07T20:18:36.586623700Z",
     "start_time": "2023-08-07T20:18:36.568620400Z"
    }
   }
  },
  {
   "cell_type": "code",
   "execution_count": 297,
   "outputs": [
    {
     "data": {
      "text/plain": "['Germany']"
     },
     "execution_count": 297,
     "metadata": {},
     "output_type": "execute_result"
    }
   ],
   "source": [
    "get_origin(soupp)"
   ],
   "metadata": {
    "collapsed": false,
    "ExecuteTime": {
     "end_time": "2023-08-07T20:18:46.252669700Z",
     "start_time": "2023-08-07T20:18:46.161665900Z"
    }
   }
  },
  {
   "cell_type": "code",
   "execution_count": 57,
   "outputs": [],
   "source": [
    "def get_origin(zoup):\n",
    "    countries = zoup.find('h5', class_='sponsor-profile-modal-content-sponsor-country')\n",
    "    if countries:\n",
    "        country_dict = countries.getText(\" \", strip=True).replace(\"\\n\", \" \").strip()\n",
    "        return (country_dict)\n",
    "    else:\n",
    "        return None"
   ],
   "metadata": {
    "collapsed": false,
    "ExecuteTime": {
     "end_time": "2023-08-30T21:32:26.380185200Z",
     "start_time": "2023-08-30T21:32:26.333295400Z"
    }
   }
  },
  {
   "cell_type": "code",
   "execution_count": 58,
   "outputs": [
    {
     "data": {
      "text/plain": "'France'"
     },
     "execution_count": 58,
     "metadata": {},
     "output_type": "execute_result"
    }
   ],
   "source": [
    "get_origin(soupp)"
   ],
   "metadata": {
    "collapsed": false,
    "ExecuteTime": {
     "end_time": "2023-08-30T21:32:27.878145600Z",
     "start_time": "2023-08-30T21:32:27.874011800Z"
    }
   }
  },
  {
   "cell_type": "markdown",
   "source": [
    "# Funtion for scraping"
   ],
   "metadata": {
    "collapsed": false
   }
  },
  {
   "cell_type": "code",
   "execution_count": 59,
   "outputs": [],
   "source": [
    "def scrape_website(url):\n",
    "    def get_com(zoup):\n",
    "        if zoup.find('h4', class_=\"sponsor-profile-modal-content-sponsor-title\"):\n",
    "            return [cc.getText() for cc in zoup.find_all('h4', class_='sponsor-profile-modal-content-sponsor-title')]\n",
    "\n",
    "    def get_origin(zoup):\n",
    "        countries = zoup.find('h5', class_='sponsor-profile-modal-content-sponsor-country')\n",
    "        if countries:\n",
    "            country_dict = countries.getText(\" \", strip=True).replace(\"\\n\", \" \").strip()\n",
    "            return (country_dict)\n",
    "        else:\n",
    "            return None\n",
    "\n",
    "    def get_web(zoup):\n",
    "        web_link = zoup.select_one('p.sponsor-profile-modal-content-sponsor-details a')\n",
    "        if web_link:\n",
    "            website_url = web_link['href']\n",
    "            return(website_url)\n",
    "        else:\n",
    "            return(\"Website URL not found.\")\n",
    "\n",
    "    def get_data(zoup):\n",
    "        pro = 'div[style=\"font-size: 14px;font-weight:200;font-style: italic;\"]'\n",
    "        prot = zoup.select_one(pro)\n",
    "\n",
    "        if prot:\n",
    "            items = [item.getText(\" \", strip=True).replace(\" \", \"\") for item in prot.find_all(text=True)]\n",
    "            non_empty_items = [item for item in items if item]  # Filter out empty strings\n",
    "            return non_empty_items\n",
    "        else:\n",
    "            return 'NA'\n",
    "\n",
    "    def get_res(zoup):\n",
    "        if zoup.find('div', class_=\"sponsor-resume\"):\n",
    "            return [rr.getText(\" \", strip=True).replace(\"\\n\", \" \").replace('\\r', '') for rr in zoup.find_all('div', class_='sponsor-resume')]\n",
    "        else:\n",
    "            return 'NA'\n",
    "\n",
    "    u = requests.get(url)\n",
    "    zoup = bs(u.content)\n",
    "    com_list = {}\n",
    "\n",
    "\n",
    "    company_name = get_com(zoup)[0]\n",
    "    country = get_origin(zoup)\n",
    "    com_web = get_web(zoup)\n",
    "    product_info = get_data(zoup)\n",
    "    company_resume = get_res(zoup)[0]\n",
    "\n",
    "\n",
    "    com_list['Company Name'] = company_name\n",
    "    com_list['Country'] = country\n",
    "    com_list['Official Website'] = com_web\n",
    "    com_list['Product Type'] = product_info\n",
    "    com_list['Company Profile'] = company_resume\n",
    "\n",
    "    return com_list\n"
   ],
   "metadata": {
    "collapsed": false,
    "ExecuteTime": {
     "end_time": "2023-08-30T21:33:02.212879Z",
     "start_time": "2023-08-30T21:33:02.165856800Z"
    }
   }
  },
  {
   "cell_type": "code",
   "execution_count": 60,
   "outputs": [
    {
     "data": {
      "text/plain": "{'Company Name': 'Galderma',\n 'Country': 'France',\n 'Official Website': 'http://www.galderma.com',\n 'Product Type': ['-Injectables:Fillers',\n  '-Pharmaceutical-Drugsindermatologyorplasticsurgery',\n  '-Injectables:Botulinumtoxins'],\n 'Company Profile': 'With a unique heritage in dermatology as well as decades of cutting-edge innovation, Galderma is the leading company solely dedicated to advancing dermatology for every skin story. We are strategically positioned in attractive, consumer-driven segments of the dermatology market, characterized by high growth fundamentals. Through trusted partnerships with healthcare professionals, we ensure to meet individual consumer and patient needs with superior outcomes. For more information: www.galderma.com'}"
     },
     "execution_count": 60,
     "metadata": {},
     "output_type": "execute_result"
    }
   ],
   "source": [
    "scrape_website('https://www.imcas.com/en/attend/imcas-world-congress-2023/sponsor/13437')"
   ],
   "metadata": {
    "collapsed": false,
    "ExecuteTime": {
     "end_time": "2023-08-30T21:33:05.664483Z",
     "start_time": "2023-08-30T21:33:04.607823700Z"
    }
   }
  },
  {
   "cell_type": "code",
   "execution_count": 64,
   "outputs": [],
   "source": [
    "info_list = []"
   ],
   "metadata": {
    "collapsed": false,
    "ExecuteTime": {
     "end_time": "2023-08-30T21:35:14.923492200Z",
     "start_time": "2023-08-30T21:35:14.876604900Z"
    }
   }
  },
  {
   "cell_type": "code",
   "execution_count": 65,
   "outputs": [],
   "source": [
    "# test function\n",
    "\n",
    "for web in website[0:4]:\n",
    "    exh = scrape_website(web)\n",
    "    info_list.append(exh)\n"
   ],
   "metadata": {
    "collapsed": false,
    "ExecuteTime": {
     "end_time": "2023-08-30T21:35:37.714553500Z",
     "start_time": "2023-08-30T21:35:21.125363500Z"
    }
   }
  },
  {
   "cell_type": "code",
   "execution_count": 66,
   "outputs": [
    {
     "data": {
      "text/plain": "[{'Company Name': 'Allergan Aesthetics ',\n  'Country': 'Ireland',\n  'Official Website': 'https://www.allerganaesthetics.com/',\n  'Product Type': ['-Injectables:Fillers', '-Injectables:Botulinumtoxins'],\n  'Company Profile': 'The science of you Allergan Aesthetics, an AbbVie company, drives the advancement of aesthetic medicine. Centered in science, we develop, manufacture, and market a portfolio of innovative treatments and technologies spanning facial injectables, body-contouring, surgical, and skincare products that define our industry and serve our customers.  Here. Confidently. Together.  As a leader in aesthetics, we continue to steer innovation by investing in customer success. Our hands-on education and training programs are taught at the highest level of clinical excellence and represent the latest thinking and innovations in the industry, backed by science. Our people are our greatest strength. Change never stops, and the variety of perspectives, ideas, and backgrounds embodied at Allergan Aesthetics uniquely equips us to innovate in our ever-changing market. Being inclusive is our choice and is alive in all the work we do â€“ now and into the future.'},\n {'Company Name': 'BioScience GmbH',\n  'Country': 'Germany',\n  'Official Website': 'http://www.BioScienceGmbH.com',\n  'Product Type': 'NA',\n  'Company Profile': 'German experts in aesthetic medicine since 2001, BioScience has established itself as a pioneer with an exclusive product range in monophasic and biphasic dermal fillers.    BioScience is the only CE Mark-certified provider of HA dermal fillers for both face and body through its recognized brands â€“ HYAcorp and Genefill.  Deeply committed to excellence and innovation - with patented technologies - the company has firmly established trusted partnerships with plastic surgeons and dermatologists worldwide, leading to its presence in  77 countries.  Bioscience: high safety to achieve the beauty of quality.'},\n {'Company Name': 'Galderma',\n  'Country': 'France',\n  'Official Website': 'http://www.galderma.com',\n  'Product Type': ['-Injectables:Fillers',\n   '-Pharmaceutical-Drugsindermatologyorplasticsurgery',\n   '-Injectables:Botulinumtoxins'],\n  'Company Profile': 'With a unique heritage in dermatology as well as decades of cutting-edge innovation, Galderma is the leading company solely dedicated to advancing dermatology for every skin story. We are strategically positioned in attractive, consumer-driven segments of the dermatology market, characterized by high growth fundamentals. Through trusted partnerships with healthcare professionals, we ensure to meet individual consumer and patient needs with superior outcomes. For more information: www.galderma.com'},\n {'Company Name': 'Laboratoires VIVACY',\n  'Country': 'France',\n  'Official Website': 'https://www.vivacy.com',\n  'Product Type': ['-Injectables:Fillers', '-Cosmeceutics-Antiagingproducts'],\n  'Company Profile': 'Laboratoires VIVACY is a French manufacturer specialising in the development, production and distribution of injectable hyaluronic acid-based medical devices for Aesthetic and Anti-ageing Medicine. Over the last 20 years, Laboratoires VIVACY has become a major player on the Medical Aesthetics market in Europe, exporting its technological know-how to more than 80 countries around the world.  VIVACY’s product portfolio includes three main brands: STYLAGE® dermal fillers, DESIRIAL® injectable intimate gels and Laboratoires VIVACY® premium dermo-cosmetics. The company also manufactures hyaluronic acid-based medical devices for ophthalmic surgery (I.SPACE®) and for the treatment of osteoarthritis (KARTILAGE®).  Made in France, the company’s industrial factory is located in Archamps (France) in the dynamic region of Haute-Savoie, near the French-Swiss border. The VIVACY factory has become a prestigious research and development hub, which is at the cutting edge of technology.'}]"
     },
     "execution_count": 66,
     "metadata": {},
     "output_type": "execute_result"
    }
   ],
   "source": [
    "info_list"
   ],
   "metadata": {
    "collapsed": false,
    "ExecuteTime": {
     "end_time": "2023-08-30T21:35:48.293230Z",
     "start_time": "2023-08-30T21:35:48.261968200Z"
    }
   }
  },
  {
   "cell_type": "code",
   "execution_count": 67,
   "outputs": [],
   "source": [
    "# Gather each company detail into lists\n",
    "company_list = []\n",
    "\n",
    "for web in website:\n",
    "    company_list.append(scrape_website(web))"
   ],
   "metadata": {
    "collapsed": false,
    "ExecuteTime": {
     "end_time": "2023-08-30T21:44:59.784975600Z",
     "start_time": "2023-08-30T21:36:16.829444500Z"
    }
   }
  },
  {
   "cell_type": "markdown",
   "source": [
    "# Import Jason"
   ],
   "metadata": {
    "collapsed": false
   }
  },
  {
   "cell_type": "code",
   "execution_count": 68,
   "outputs": [],
   "source": [
    "import json\n",
    "\n",
    "def save_data(title, data):\n",
    "    with open(title,'w', encoding='utf-8') as f:\n",
    "        json.dump(data,f, ensure_ascii=False, indent=2)"
   ],
   "metadata": {
    "collapsed": false,
    "ExecuteTime": {
     "end_time": "2023-08-30T21:45:14.006648700Z",
     "start_time": "2023-08-30T21:45:13.975384300Z"
    }
   }
  },
  {
   "cell_type": "code",
   "execution_count": 69,
   "outputs": [],
   "source": [
    "def load_data(title):\n",
    "    with open(title, encoding='utf-8') as f:\n",
    "        return json.load(f)"
   ],
   "metadata": {
    "collapsed": false,
    "ExecuteTime": {
     "end_time": "2023-08-30T21:45:15.487650400Z",
     "start_time": "2023-08-30T21:45:15.480075Z"
    }
   }
  },
  {
   "cell_type": "code",
   "execution_count": 71,
   "outputs": [],
   "source": [
    "save_data('company_list_clean.json', company_list)"
   ],
   "metadata": {
    "collapsed": false,
    "ExecuteTime": {
     "end_time": "2023-08-30T21:47:47.297243900Z",
     "start_time": "2023-08-30T21:47:47.203464Z"
    }
   }
  },
  {
   "cell_type": "code",
   "execution_count": 72,
   "outputs": [
    {
     "data": {
      "text/plain": "{'Company Name': 'Hydrafacial ',\n 'Country': 'United States',\n 'Official Website': 'http://www.hydrafacial.com',\n 'Product Type': ['-Surgicalinstruments-Medicalinstruments-Equipments-Furniture-Disposablesupplies',\n  '-Cosmeceutics-Antiagingproducts',\n  '-Dermatologytreatment-Acne'],\n 'Company Profile': 'Hydrafacial is revolutionising skin health for aesthetic professionals and their clients. Innovating for over 22 years, we have 68 patents issued/pending and numerous awards including New Beautyâ€™s Best, 4 years running. We are loved around the world, found in over 11,000 locations throughout 90+ countries. The Hydrafacial is a 3-step, 30-minute treatment that cleanses, extracts, and hydrates while quenching skin with vital nutrients like antioxidants, peptides, and hyaluronic acid. The amazing results are both instant and long-lasting, improving the appearance of fine lines, enlarged pores, congested skin, and dark spots. Furthermore, our portfolio of boosters,  caters for a variety of skin concerns, providing a more personalised experience for our consumers. For more information, visit https://hydrafacialemea.com/'}"
     },
     "execution_count": 72,
     "metadata": {},
     "output_type": "execute_result"
    }
   ],
   "source": [
    "company_list[20]"
   ],
   "metadata": {
    "collapsed": false,
    "ExecuteTime": {
     "end_time": "2023-08-30T21:47:51.438850900Z",
     "start_time": "2023-08-30T21:47:51.313810500Z"
    }
   }
  },
  {
   "cell_type": "markdown",
   "source": [
    "# Convert to CSV"
   ],
   "metadata": {
    "collapsed": false
   }
  },
  {
   "cell_type": "code",
   "execution_count": 1,
   "outputs": [],
   "source": [
    "import pandas as pd"
   ],
   "metadata": {
    "collapsed": false,
    "ExecuteTime": {
     "end_time": "2023-09-02T17:03:39.935789500Z",
     "start_time": "2023-09-02T17:03:39.888174500Z"
    }
   }
  },
  {
   "cell_type": "code",
   "execution_count": 1,
   "outputs": [
    {
     "data": {
      "text/plain": "   Unnamed: 0          Company Name      Country  \\\n0           0  Allergan Aesthetics       Ireland   \n1           1       BioScience GmbH      Germany   \n2           2              Galderma       France   \n3           3   Laboratoires VIVACY       France   \n4           4  TEOXANE LABORATORIES  Switzerland   \n\n                      Official Website  \\\n0  https://www.allerganaesthetics.com/   \n1        http://www.BioScienceGmbH.com   \n2              http://www.galderma.com   \n3               https://www.vivacy.com   \n4               http://www.teoxane.com   \n\n                                        Product Type  \\\n0  ['-Injectables:Fillers', '-Injectables:Botulin...   \n1                                                NaN   \n2  ['-Injectables:Fillers', '-Pharmaceutical-Drug...   \n3  ['-Injectables:Fillers', '-Cosmeceutics-Antiag...   \n4  ['-Injectables:Fillers', '-Cosmeceutics-Antiag...   \n\n                                     Company Profile  \n0  The science of you Allergan Aesthetics, an Abb...  \n1  German experts in aesthetic medicine since 200...  \n2  With a unique heritage in dermatology as well ...  \n3  Laboratoires VIVACY is a French manufacturer s...  \n4  TEOXANE  Laboratories were  created  in  2003 ...  ",
      "text/html": "<div>\n<style scoped>\n    .dataframe tbody tr th:only-of-type {\n        vertical-align: middle;\n    }\n\n    .dataframe tbody tr th {\n        vertical-align: top;\n    }\n\n    .dataframe thead th {\n        text-align: right;\n    }\n</style>\n<table border=\"1\" class=\"dataframe\">\n  <thead>\n    <tr style=\"text-align: right;\">\n      <th></th>\n      <th>Unnamed: 0</th>\n      <th>Company Name</th>\n      <th>Country</th>\n      <th>Official Website</th>\n      <th>Product Type</th>\n      <th>Company Profile</th>\n    </tr>\n  </thead>\n  <tbody>\n    <tr>\n      <th>0</th>\n      <td>0</td>\n      <td>Allergan Aesthetics</td>\n      <td>Ireland</td>\n      <td>https://www.allerganaesthetics.com/</td>\n      <td>['-Injectables:Fillers', '-Injectables:Botulin...</td>\n      <td>The science of you Allergan Aesthetics, an Abb...</td>\n    </tr>\n    <tr>\n      <th>1</th>\n      <td>1</td>\n      <td>BioScience GmbH</td>\n      <td>Germany</td>\n      <td>http://www.BioScienceGmbH.com</td>\n      <td>NaN</td>\n      <td>German experts in aesthetic medicine since 200...</td>\n    </tr>\n    <tr>\n      <th>2</th>\n      <td>2</td>\n      <td>Galderma</td>\n      <td>France</td>\n      <td>http://www.galderma.com</td>\n      <td>['-Injectables:Fillers', '-Pharmaceutical-Drug...</td>\n      <td>With a unique heritage in dermatology as well ...</td>\n    </tr>\n    <tr>\n      <th>3</th>\n      <td>3</td>\n      <td>Laboratoires VIVACY</td>\n      <td>France</td>\n      <td>https://www.vivacy.com</td>\n      <td>['-Injectables:Fillers', '-Cosmeceutics-Antiag...</td>\n      <td>Laboratoires VIVACY is a French manufacturer s...</td>\n    </tr>\n    <tr>\n      <th>4</th>\n      <td>4</td>\n      <td>TEOXANE LABORATORIES</td>\n      <td>Switzerland</td>\n      <td>http://www.teoxane.com</td>\n      <td>['-Injectables:Fillers', '-Cosmeceutics-Antiag...</td>\n      <td>TEOXANE  Laboratories were  created  in  2003 ...</td>\n    </tr>\n  </tbody>\n</table>\n</div>"
     },
     "execution_count": 1,
     "metadata": {},
     "output_type": "execute_result"
    }
   ],
   "source": [
    "dfcom = pd.DataFrame(company_list)\n",
    "dfcom.head()"
   ],
   "metadata": {
    "collapsed": false,
    "ExecuteTime": {
     "end_time": "2023-09-02T02:19:12.818143800Z",
     "start_time": "2023-09-02T02:19:12.697265400Z"
    }
   }
  },
  {
   "cell_type": "code",
   "execution_count": 76,
   "outputs": [],
   "source": [
    "dfcom.to_csv('company_list_clean.csv')"
   ],
   "metadata": {
    "collapsed": false,
    "ExecuteTime": {
     "end_time": "2023-08-30T21:48:56.697935900Z",
     "start_time": "2023-08-30T21:48:56.635415200Z"
    }
   }
  },
  {
   "cell_type": "code",
   "execution_count": 78,
   "outputs": [
    {
     "data": {
      "text/plain": "                      Company Name        Country  \\\n0             Allergan Aesthetics         Ireland   \n1                  BioScience GmbH        Germany   \n2                         Galderma         France   \n3              Laboratoires VIVACY         France   \n4             TEOXANE LABORATORIES    Switzerland   \n5                Croma Pharma GmbH        Austria   \n6             FILLMED Laboratoires         France   \n7         IBSA Farmaceutici Italia          Italy   \n8                  Merz Aesthetics        Germany   \n9                         SINCLAIR         France   \n10                    FIDIA PHARMA          Italy   \n11                         NEAUVIA    Switzerland   \n12                      Prollenium         Canada   \n13          ALTA CARE LABORATOIRES          Italy   \n14                    APYX MEDICAL  United States   \n15                  BTL Aesthetics  United States   \n16                        Cynosure  United States   \n17                       DERMAQUAL         France   \n18                         DEXLEVO    South Korea   \n19                          Fotona       Slovenia   \n20                    Hydrafacial   United States   \n21      InMode Aesthetic Solutions  United States   \n22                         LG Chem    South Korea   \n23                         Lumenis        Germany   \n24                          RELIFE          Italy   \n25   SENSILIS | Sensitive Skin Lab          Spain   \n26                        Sesderma          Spain   \n27                   SkinCeuticals         France   \n28  AestheFill® CollagenStimulator    South Korea   \n29                            Alma        Germany   \n30          Bioxis Pharmaceuticals         France   \n31                        BR PHARM    South Korea   \n32                         CAREGEN    South Korea   \n33          CHA Meditech Co., Ltd.    South Korea   \n34                         CLASSYS    South Korea   \n35      Crown Aesthetics / SkinPen  United States   \n36                          Cutera  United States   \n37                   DermapenWorld      Australia   \n38                          INDIBA          Spain   \n39          Laboratoire Revitacare         France   \n40        mesoestetic Pharma Group          Spain   \n41                   miraDry, Inc.  United States   \n42       NAOS / Institut Esthederm         France   \n43   Samyang Holdings Corporation     South Korea   \n44                        Skymedic          Spain   \n45                      TOSKANIMED          Spain   \n46                 Across Co.,Ltd.    South Korea   \n47                         Adoderm        Germany   \n48                        Aerolase  United States   \n49                           Aptos        Georgia   \n\n                       Official Website  \\\n0   https://www.allerganaesthetics.com/   \n1         http://www.BioScienceGmbH.com   \n2               http://www.galderma.com   \n3                https://www.vivacy.com   \n4                http://www.teoxane.com   \n5                   http://www.croma.at   \n6                   https://fillmed.com   \n7              http://www.ibsaderma.com   \n8       https://www.merzaesthetics.com/   \n9                  https://sinclair.com   \n10   https://aesthetics.fidiapharma.com   \n11               http://www.neauvia.com   \n12            http://www.prollenium.com   \n13           https://www.dermastir.com/   \n14              http://www.renuvion.com   \n15         http://www.btlaesthetics.com   \n16              http://www.cynosure.com   \n17             http://www.dermaqual.com   \n18         http://www.gorgeousgouri.com   \n19                http://www.fotona.com   \n20           http://www.hydrafacial.com   \n21                 http://inmodemd.com/   \n22          http://global.lgyvoire.com/   \n23               http://www.lumenis.com   \n24         http://www.relifecompany.com   \n25                https://sensilis.com/   \n26              http://www.sesderma.com   \n27         http://www.skinceuticals.com   \n28          http://www.chaeumpharma.com   \n29           http://www.almalasers.com/   \n30                   http://bioxis.com/   \n31             https://www.brpharm.com/   \n32              http://www.caregen.com/   \n33           http://www.chamt.co.kr/en/   \n34               http://www.classys.com   \n35          https://crownaesthetics.com   \n36                http://www.cutera.com   \n37        https://www.dermapenworld.com   \n38               https://www.indiba.com   \n39            http://www.revitacare.net   \n40           http://www.mesoestetic.com   \n41               http://www.miradry.com   \n42                    https://naos.com/   \n43    https://www.syb-smart.com/main.do   \n44               http://www.skymedic.eu   \n45              https://toskanimed.com/   \n46                 http://www.across.kr   \n47               http://www.adoderm.com   \n48              http://www.aerolase.com   \n49                 http://aptos.global/   \n\n                                         Product Type  \\\n0   [-Injectables:Fillers, -Injectables:Botulinumt...   \n1                                                  NA   \n2   [-Injectables:Fillers, -Pharmaceutical-Drugsin...   \n3   [-Injectables:Fillers, -Cosmeceutics-Antiaging...   \n4   [-Injectables:Fillers, -Cosmeceutics-Antiaging...   \n5   [-Injectables:Fillers, -Threads-Suspendingdevi...   \n6   [-Injectables:Fillers, -Cosmeceutics-Antiaging...   \n7   [-Injectables:Fillers, -Cosmeceutics-Antiaging...   \n8   [-Injectables:Fillers, -Injectables:Botulinumt...   \n9   [-Threads-Suspendingdevices, -Injectables:Fill...   \n10  [-Injectables:Fillers, -PRP-Regenerativemedici...   \n11  [-Injectables:Fillers, -Cosmeceutics-Antiaging...   \n12                                                 NA   \n13  [-Cosmeceutics-Antiagingproducts, -Peelings-Mi...   \n14  [-Surgicalinstruments-Medicalinstruments-Equip...   \n15                                                 NA   \n16  [-Energybaseddevices:Lasers-Lights-Radiofreque...   \n17  [-Injectables:Fillers, -Threads-Suspendingdevi...   \n18  [-Injectables:Fillers, -Cosmeceutics-Antiaging...   \n19  [-Energybaseddevices:Lasers-Lights-Radiofreque...   \n20  [-Surgicalinstruments-Medicalinstruments-Equip...   \n21  [-Energybaseddevices:Lasers-Lights-Radiofreque...   \n22  [-Injectables:Fillers, -Injectables:Fillers, -...   \n23  [-Energybaseddevices:Lasers-Lights-Radiofreque...   \n24  [-Threads-Suspendingdevices, -Cosmeceutics-Ant...   \n25                                                 NA   \n26                                                 NA   \n27                                                 NA   \n28  [-Injectables:Fillers, -Injectables:Botulinumt...   \n29  [-Energybaseddevices:Lasers-Lights-Radiofreque...   \n30                                                 NA   \n31  [-Cosmeceutics-Antiagingproducts, -Injectables...   \n32  [-Cosmeceutics-Antiagingproducts, -Injectables...   \n33  [-Injectables:Fillers, -Cosmeceutics-Antiaging...   \n34  [-Energybaseddevices:Lasers-Lights-Radiofreque...   \n35  [-Peelings-Microneedling-Dermabrasion, -Dermat...   \n36  [-Energybaseddevices:Lasers-Lights-Radiofreque...   \n37  [-Peelings-Microneedling-Dermabrasion, -Cosmec...   \n38                                                 NA   \n39  [-Cosmeceutics-Antiagingproducts, -Injectables...   \n40  [-Injectables:Fillers, -Peelings-Microneedling...   \n41  [-Energybaseddevices:Lasers-Lights-Radiofreque...   \n42                                                 NA   \n43  [-Threads-Suspendingdevices, -Injectables:Fill...   \n44  [-Cosmeceutics-Antiagingproducts, -Nutraceutic...   \n45  [-Injectables:Fillers, -Hairrestorationdevices...   \n46                                                 NA   \n47  [-Injectables:Fillers, -Cosmeceutics-Antiaging...   \n48                                                 NA   \n49                                                 NA   \n\n                                      Company Profile  \n0   The science of you Allergan Aesthetics, an Abb...  \n1   German experts in aesthetic medicine since 200...  \n2   With a unique heritage in dermatology as well ...  \n3   Laboratoires VIVACY is a French manufacturer s...  \n4   TEOXANE  Laboratories were  created  in  2003 ...  \n5   Founded in 1976, Croma-Pharma GmbH (Croma) is ...  \n6   FILLMED Laboratories have been pioneering in a...  \n7   Founded by a group of Swiss biologists in 1945...  \n8   Merz Aesthetics is a medical aesthetics busine...  \n9   Sinclair is an international company operating...  \n10  We are an Italian multinational company, estab...  \n11  Neauvia aims to inspire and shape the world of...  \n12  Prollenium Medical Technologies Inc. is a fast...  \n13  ALTA CARE Laboratoires owns 16 brands and toda...  \n14  RenuvionÂ® uses helium plasma and RF energy to...  \n15  BTL Industries has become one of the worldâ€™s...  \n16  Cynosure is a global leader in advancing and i...  \n17  DERMAQUAL is a French Aesthetic laboratory bas...  \n18  Established in 2013, DEXLEVO is a manufacturer...  \n19  Fotona’s decades-long experience in the laser ...  \n20  Hydrafacial is revolutionising skin health for...  \n21  InMode is a leading global provider of innovat...  \n22  YVOIRE®, launched in 2011, is a hyaluronic aci...  \n23  Lumenis is a global leader in the field of min...  \n24  RELIFE is a new worldwide Dermatology and Aest...  \n25  Sensilis was born in 1979 in a pharmaceutical ...  \n26  Over the past 30 years, Sesderma has developed...  \n27  SkinCeuticals is the #1 medical aesthetic skin...  \n28  CHAEUM PHARMA powered by CHAEUM GROUP, now pre...  \n29  Change is a natural process, but it doesn’t al...  \n30  Bioxis Pharmaceuticals is driven by the desire...  \n31  BR PHARM is pharmaceutical and cosmeceutical c...  \n32  Caregen, a global leader in peptide research a...  \n33  CHA Meditech is a global bio-aesthetic company...  \n34  CLASSYS is a Global leading solution provider ...  \n35  Crown Aesthetics, the premier medical aestheti...  \n36  CuteraÂ® is a leading provider of laser and ot...  \n37  In 2010, DermapenWorld revolutionised the medi...  \n38  INDIBA is a medical device developer, manufact...  \n39  REVITACARE is a French labotatory founded in 2...  \n40  At mesoestetic we commit to bringing trust, cl...  \n41  miraDry, Inc. manufactures the innovative mira...  \n42  NAOS has developed a pioneering approach, call...  \n43  Samyang Holdings Corporation Biopharm division...  \n44  Skymedic is a Spanish company based in Barcelo...  \n45  TOSKANIMED is the medical brand of the pharmac...  \n46  Establish in 2009, Across is a pharmaceutical ...  \n47  Founded in 2005 ADODERM and still family owned...  \n48  Improve Skin Concerns in a Whole New Way Advan...  \n49  Here at Aptos, we believe in innovation, exper...  ",
      "text/html": "<div>\n<style scoped>\n    .dataframe tbody tr th:only-of-type {\n        vertical-align: middle;\n    }\n\n    .dataframe tbody tr th {\n        vertical-align: top;\n    }\n\n    .dataframe thead th {\n        text-align: right;\n    }\n</style>\n<table border=\"1\" class=\"dataframe\">\n  <thead>\n    <tr style=\"text-align: right;\">\n      <th></th>\n      <th>Company Name</th>\n      <th>Country</th>\n      <th>Official Website</th>\n      <th>Product Type</th>\n      <th>Company Profile</th>\n    </tr>\n  </thead>\n  <tbody>\n    <tr>\n      <th>0</th>\n      <td>Allergan Aesthetics</td>\n      <td>Ireland</td>\n      <td>https://www.allerganaesthetics.com/</td>\n      <td>[-Injectables:Fillers, -Injectables:Botulinumt...</td>\n      <td>The science of you Allergan Aesthetics, an Abb...</td>\n    </tr>\n    <tr>\n      <th>1</th>\n      <td>BioScience GmbH</td>\n      <td>Germany</td>\n      <td>http://www.BioScienceGmbH.com</td>\n      <td>NA</td>\n      <td>German experts in aesthetic medicine since 200...</td>\n    </tr>\n    <tr>\n      <th>2</th>\n      <td>Galderma</td>\n      <td>France</td>\n      <td>http://www.galderma.com</td>\n      <td>[-Injectables:Fillers, -Pharmaceutical-Drugsin...</td>\n      <td>With a unique heritage in dermatology as well ...</td>\n    </tr>\n    <tr>\n      <th>3</th>\n      <td>Laboratoires VIVACY</td>\n      <td>France</td>\n      <td>https://www.vivacy.com</td>\n      <td>[-Injectables:Fillers, -Cosmeceutics-Antiaging...</td>\n      <td>Laboratoires VIVACY is a French manufacturer s...</td>\n    </tr>\n    <tr>\n      <th>4</th>\n      <td>TEOXANE LABORATORIES</td>\n      <td>Switzerland</td>\n      <td>http://www.teoxane.com</td>\n      <td>[-Injectables:Fillers, -Cosmeceutics-Antiaging...</td>\n      <td>TEOXANE  Laboratories were  created  in  2003 ...</td>\n    </tr>\n    <tr>\n      <th>5</th>\n      <td>Croma Pharma GmbH</td>\n      <td>Austria</td>\n      <td>http://www.croma.at</td>\n      <td>[-Injectables:Fillers, -Threads-Suspendingdevi...</td>\n      <td>Founded in 1976, Croma-Pharma GmbH (Croma) is ...</td>\n    </tr>\n    <tr>\n      <th>6</th>\n      <td>FILLMED Laboratoires</td>\n      <td>France</td>\n      <td>https://fillmed.com</td>\n      <td>[-Injectables:Fillers, -Cosmeceutics-Antiaging...</td>\n      <td>FILLMED Laboratories have been pioneering in a...</td>\n    </tr>\n    <tr>\n      <th>7</th>\n      <td>IBSA Farmaceutici Italia</td>\n      <td>Italy</td>\n      <td>http://www.ibsaderma.com</td>\n      <td>[-Injectables:Fillers, -Cosmeceutics-Antiaging...</td>\n      <td>Founded by a group of Swiss biologists in 1945...</td>\n    </tr>\n    <tr>\n      <th>8</th>\n      <td>Merz Aesthetics</td>\n      <td>Germany</td>\n      <td>https://www.merzaesthetics.com/</td>\n      <td>[-Injectables:Fillers, -Injectables:Botulinumt...</td>\n      <td>Merz Aesthetics is a medical aesthetics busine...</td>\n    </tr>\n    <tr>\n      <th>9</th>\n      <td>SINCLAIR</td>\n      <td>France</td>\n      <td>https://sinclair.com</td>\n      <td>[-Threads-Suspendingdevices, -Injectables:Fill...</td>\n      <td>Sinclair is an international company operating...</td>\n    </tr>\n    <tr>\n      <th>10</th>\n      <td>FIDIA PHARMA</td>\n      <td>Italy</td>\n      <td>https://aesthetics.fidiapharma.com</td>\n      <td>[-Injectables:Fillers, -PRP-Regenerativemedici...</td>\n      <td>We are an Italian multinational company, estab...</td>\n    </tr>\n    <tr>\n      <th>11</th>\n      <td>NEAUVIA</td>\n      <td>Switzerland</td>\n      <td>http://www.neauvia.com</td>\n      <td>[-Injectables:Fillers, -Cosmeceutics-Antiaging...</td>\n      <td>Neauvia aims to inspire and shape the world of...</td>\n    </tr>\n    <tr>\n      <th>12</th>\n      <td>Prollenium</td>\n      <td>Canada</td>\n      <td>http://www.prollenium.com</td>\n      <td>NA</td>\n      <td>Prollenium Medical Technologies Inc. is a fast...</td>\n    </tr>\n    <tr>\n      <th>13</th>\n      <td>ALTA CARE LABORATOIRES</td>\n      <td>Italy</td>\n      <td>https://www.dermastir.com/</td>\n      <td>[-Cosmeceutics-Antiagingproducts, -Peelings-Mi...</td>\n      <td>ALTA CARE Laboratoires owns 16 brands and toda...</td>\n    </tr>\n    <tr>\n      <th>14</th>\n      <td>APYX MEDICAL</td>\n      <td>United States</td>\n      <td>http://www.renuvion.com</td>\n      <td>[-Surgicalinstruments-Medicalinstruments-Equip...</td>\n      <td>RenuvionÂ® uses helium plasma and RF energy to...</td>\n    </tr>\n    <tr>\n      <th>15</th>\n      <td>BTL Aesthetics</td>\n      <td>United States</td>\n      <td>http://www.btlaesthetics.com</td>\n      <td>NA</td>\n      <td>BTL Industries has become one of the worldâ€™s...</td>\n    </tr>\n    <tr>\n      <th>16</th>\n      <td>Cynosure</td>\n      <td>United States</td>\n      <td>http://www.cynosure.com</td>\n      <td>[-Energybaseddevices:Lasers-Lights-Radiofreque...</td>\n      <td>Cynosure is a global leader in advancing and i...</td>\n    </tr>\n    <tr>\n      <th>17</th>\n      <td>DERMAQUAL</td>\n      <td>France</td>\n      <td>http://www.dermaqual.com</td>\n      <td>[-Injectables:Fillers, -Threads-Suspendingdevi...</td>\n      <td>DERMAQUAL is a French Aesthetic laboratory bas...</td>\n    </tr>\n    <tr>\n      <th>18</th>\n      <td>DEXLEVO</td>\n      <td>South Korea</td>\n      <td>http://www.gorgeousgouri.com</td>\n      <td>[-Injectables:Fillers, -Cosmeceutics-Antiaging...</td>\n      <td>Established in 2013, DEXLEVO is a manufacturer...</td>\n    </tr>\n    <tr>\n      <th>19</th>\n      <td>Fotona</td>\n      <td>Slovenia</td>\n      <td>http://www.fotona.com</td>\n      <td>[-Energybaseddevices:Lasers-Lights-Radiofreque...</td>\n      <td>Fotona’s decades-long experience in the laser ...</td>\n    </tr>\n    <tr>\n      <th>20</th>\n      <td>Hydrafacial</td>\n      <td>United States</td>\n      <td>http://www.hydrafacial.com</td>\n      <td>[-Surgicalinstruments-Medicalinstruments-Equip...</td>\n      <td>Hydrafacial is revolutionising skin health for...</td>\n    </tr>\n    <tr>\n      <th>21</th>\n      <td>InMode Aesthetic Solutions</td>\n      <td>United States</td>\n      <td>http://inmodemd.com/</td>\n      <td>[-Energybaseddevices:Lasers-Lights-Radiofreque...</td>\n      <td>InMode is a leading global provider of innovat...</td>\n    </tr>\n    <tr>\n      <th>22</th>\n      <td>LG Chem</td>\n      <td>South Korea</td>\n      <td>http://global.lgyvoire.com/</td>\n      <td>[-Injectables:Fillers, -Injectables:Fillers, -...</td>\n      <td>YVOIRE®, launched in 2011, is a hyaluronic aci...</td>\n    </tr>\n    <tr>\n      <th>23</th>\n      <td>Lumenis</td>\n      <td>Germany</td>\n      <td>http://www.lumenis.com</td>\n      <td>[-Energybaseddevices:Lasers-Lights-Radiofreque...</td>\n      <td>Lumenis is a global leader in the field of min...</td>\n    </tr>\n    <tr>\n      <th>24</th>\n      <td>RELIFE</td>\n      <td>Italy</td>\n      <td>http://www.relifecompany.com</td>\n      <td>[-Threads-Suspendingdevices, -Cosmeceutics-Ant...</td>\n      <td>RELIFE is a new worldwide Dermatology and Aest...</td>\n    </tr>\n    <tr>\n      <th>25</th>\n      <td>SENSILIS | Sensitive Skin Lab</td>\n      <td>Spain</td>\n      <td>https://sensilis.com/</td>\n      <td>NA</td>\n      <td>Sensilis was born in 1979 in a pharmaceutical ...</td>\n    </tr>\n    <tr>\n      <th>26</th>\n      <td>Sesderma</td>\n      <td>Spain</td>\n      <td>http://www.sesderma.com</td>\n      <td>NA</td>\n      <td>Over the past 30 years, Sesderma has developed...</td>\n    </tr>\n    <tr>\n      <th>27</th>\n      <td>SkinCeuticals</td>\n      <td>France</td>\n      <td>http://www.skinceuticals.com</td>\n      <td>NA</td>\n      <td>SkinCeuticals is the #1 medical aesthetic skin...</td>\n    </tr>\n    <tr>\n      <th>28</th>\n      <td>AestheFill® CollagenStimulator</td>\n      <td>South Korea</td>\n      <td>http://www.chaeumpharma.com</td>\n      <td>[-Injectables:Fillers, -Injectables:Botulinumt...</td>\n      <td>CHAEUM PHARMA powered by CHAEUM GROUP, now pre...</td>\n    </tr>\n    <tr>\n      <th>29</th>\n      <td>Alma</td>\n      <td>Germany</td>\n      <td>http://www.almalasers.com/</td>\n      <td>[-Energybaseddevices:Lasers-Lights-Radiofreque...</td>\n      <td>Change is a natural process, but it doesn’t al...</td>\n    </tr>\n    <tr>\n      <th>30</th>\n      <td>Bioxis Pharmaceuticals</td>\n      <td>France</td>\n      <td>http://bioxis.com/</td>\n      <td>NA</td>\n      <td>Bioxis Pharmaceuticals is driven by the desire...</td>\n    </tr>\n    <tr>\n      <th>31</th>\n      <td>BR PHARM</td>\n      <td>South Korea</td>\n      <td>https://www.brpharm.com/</td>\n      <td>[-Cosmeceutics-Antiagingproducts, -Injectables...</td>\n      <td>BR PHARM is pharmaceutical and cosmeceutical c...</td>\n    </tr>\n    <tr>\n      <th>32</th>\n      <td>CAREGEN</td>\n      <td>South Korea</td>\n      <td>http://www.caregen.com/</td>\n      <td>[-Cosmeceutics-Antiagingproducts, -Injectables...</td>\n      <td>Caregen, a global leader in peptide research a...</td>\n    </tr>\n    <tr>\n      <th>33</th>\n      <td>CHA Meditech Co., Ltd.</td>\n      <td>South Korea</td>\n      <td>http://www.chamt.co.kr/en/</td>\n      <td>[-Injectables:Fillers, -Cosmeceutics-Antiaging...</td>\n      <td>CHA Meditech is a global bio-aesthetic company...</td>\n    </tr>\n    <tr>\n      <th>34</th>\n      <td>CLASSYS</td>\n      <td>South Korea</td>\n      <td>http://www.classys.com</td>\n      <td>[-Energybaseddevices:Lasers-Lights-Radiofreque...</td>\n      <td>CLASSYS is a Global leading solution provider ...</td>\n    </tr>\n    <tr>\n      <th>35</th>\n      <td>Crown Aesthetics / SkinPen</td>\n      <td>United States</td>\n      <td>https://crownaesthetics.com</td>\n      <td>[-Peelings-Microneedling-Dermabrasion, -Dermat...</td>\n      <td>Crown Aesthetics, the premier medical aestheti...</td>\n    </tr>\n    <tr>\n      <th>36</th>\n      <td>Cutera</td>\n      <td>United States</td>\n      <td>http://www.cutera.com</td>\n      <td>[-Energybaseddevices:Lasers-Lights-Radiofreque...</td>\n      <td>CuteraÂ® is a leading provider of laser and ot...</td>\n    </tr>\n    <tr>\n      <th>37</th>\n      <td>DermapenWorld</td>\n      <td>Australia</td>\n      <td>https://www.dermapenworld.com</td>\n      <td>[-Peelings-Microneedling-Dermabrasion, -Cosmec...</td>\n      <td>In 2010, DermapenWorld revolutionised the medi...</td>\n    </tr>\n    <tr>\n      <th>38</th>\n      <td>INDIBA</td>\n      <td>Spain</td>\n      <td>https://www.indiba.com</td>\n      <td>NA</td>\n      <td>INDIBA is a medical device developer, manufact...</td>\n    </tr>\n    <tr>\n      <th>39</th>\n      <td>Laboratoire Revitacare</td>\n      <td>France</td>\n      <td>http://www.revitacare.net</td>\n      <td>[-Cosmeceutics-Antiagingproducts, -Injectables...</td>\n      <td>REVITACARE is a French labotatory founded in 2...</td>\n    </tr>\n    <tr>\n      <th>40</th>\n      <td>mesoestetic Pharma Group</td>\n      <td>Spain</td>\n      <td>http://www.mesoestetic.com</td>\n      <td>[-Injectables:Fillers, -Peelings-Microneedling...</td>\n      <td>At mesoestetic we commit to bringing trust, cl...</td>\n    </tr>\n    <tr>\n      <th>41</th>\n      <td>miraDry, Inc.</td>\n      <td>United States</td>\n      <td>http://www.miradry.com</td>\n      <td>[-Energybaseddevices:Lasers-Lights-Radiofreque...</td>\n      <td>miraDry, Inc. manufactures the innovative mira...</td>\n    </tr>\n    <tr>\n      <th>42</th>\n      <td>NAOS / Institut Esthederm</td>\n      <td>France</td>\n      <td>https://naos.com/</td>\n      <td>NA</td>\n      <td>NAOS has developed a pioneering approach, call...</td>\n    </tr>\n    <tr>\n      <th>43</th>\n      <td>Samyang Holdings Corporation</td>\n      <td>South Korea</td>\n      <td>https://www.syb-smart.com/main.do</td>\n      <td>[-Threads-Suspendingdevices, -Injectables:Fill...</td>\n      <td>Samyang Holdings Corporation Biopharm division...</td>\n    </tr>\n    <tr>\n      <th>44</th>\n      <td>Skymedic</td>\n      <td>Spain</td>\n      <td>http://www.skymedic.eu</td>\n      <td>[-Cosmeceutics-Antiagingproducts, -Nutraceutic...</td>\n      <td>Skymedic is a Spanish company based in Barcelo...</td>\n    </tr>\n    <tr>\n      <th>45</th>\n      <td>TOSKANIMED</td>\n      <td>Spain</td>\n      <td>https://toskanimed.com/</td>\n      <td>[-Injectables:Fillers, -Hairrestorationdevices...</td>\n      <td>TOSKANIMED is the medical brand of the pharmac...</td>\n    </tr>\n    <tr>\n      <th>46</th>\n      <td>Across Co.,Ltd.</td>\n      <td>South Korea</td>\n      <td>http://www.across.kr</td>\n      <td>NA</td>\n      <td>Establish in 2009, Across is a pharmaceutical ...</td>\n    </tr>\n    <tr>\n      <th>47</th>\n      <td>Adoderm</td>\n      <td>Germany</td>\n      <td>http://www.adoderm.com</td>\n      <td>[-Injectables:Fillers, -Cosmeceutics-Antiaging...</td>\n      <td>Founded in 2005 ADODERM and still family owned...</td>\n    </tr>\n    <tr>\n      <th>48</th>\n      <td>Aerolase</td>\n      <td>United States</td>\n      <td>http://www.aerolase.com</td>\n      <td>NA</td>\n      <td>Improve Skin Concerns in a Whole New Way Advan...</td>\n    </tr>\n    <tr>\n      <th>49</th>\n      <td>Aptos</td>\n      <td>Georgia</td>\n      <td>http://aptos.global/</td>\n      <td>NA</td>\n      <td>Here at Aptos, we believe in innovation, exper...</td>\n    </tr>\n  </tbody>\n</table>\n</div>"
     },
     "execution_count": 78,
     "metadata": {},
     "output_type": "execute_result"
    }
   ],
   "source": [
    "dfcom.head(50)"
   ],
   "metadata": {
    "collapsed": false,
    "ExecuteTime": {
     "end_time": "2023-08-30T21:51:48.647260900Z",
     "start_time": "2023-08-30T21:51:48.558026200Z"
    }
   }
  },
  {
   "cell_type": "markdown",
   "source": [
    "## Analysis\n",
    "- Geographic distribution ( Countries and Continents)\n",
    "- Industry Segmentation\n",
    "- Sponsorship Growth Over Time"
   ],
   "metadata": {
    "collapsed": false
   }
  },
  {
   "cell_type": "code",
   "execution_count": 4,
   "outputs": [
    {
     "data": {
      "text/plain": "   Unnamed: 0          Company Name      Country  \\\n0           0  Allergan Aesthetics       Ireland   \n1           1       BioScience GmbH      Germany   \n2           2              Galderma       France   \n3           3   Laboratoires VIVACY       France   \n4           4  TEOXANE LABORATORIES  Switzerland   \n\n                      Official Website  \\\n0  https://www.allerganaesthetics.com/   \n1        http://www.BioScienceGmbH.com   \n2              http://www.galderma.com   \n3               https://www.vivacy.com   \n4               http://www.teoxane.com   \n\n                                        Product Type  \\\n0  ['-Injectables:Fillers', '-Injectables:Botulin...   \n1                                                NaN   \n2  ['-Injectables:Fillers', '-Pharmaceutical-Drug...   \n3  ['-Injectables:Fillers', '-Cosmeceutics-Antiag...   \n4  ['-Injectables:Fillers', '-Cosmeceutics-Antiag...   \n\n                                     Company Profile  \n0  The science of you Allergan Aesthetics, an Abb...  \n1  German experts in aesthetic medicine since 200...  \n2  With a unique heritage in dermatology as well ...  \n3  Laboratoires VIVACY is a French manufacturer s...  \n4  TEOXANE  Laboratories were  created  in  2003 ...  ",
      "text/html": "<div>\n<style scoped>\n    .dataframe tbody tr th:only-of-type {\n        vertical-align: middle;\n    }\n\n    .dataframe tbody tr th {\n        vertical-align: top;\n    }\n\n    .dataframe thead th {\n        text-align: right;\n    }\n</style>\n<table border=\"1\" class=\"dataframe\">\n  <thead>\n    <tr style=\"text-align: right;\">\n      <th></th>\n      <th>Unnamed: 0</th>\n      <th>Company Name</th>\n      <th>Country</th>\n      <th>Official Website</th>\n      <th>Product Type</th>\n      <th>Company Profile</th>\n    </tr>\n  </thead>\n  <tbody>\n    <tr>\n      <th>0</th>\n      <td>0</td>\n      <td>Allergan Aesthetics</td>\n      <td>Ireland</td>\n      <td>https://www.allerganaesthetics.com/</td>\n      <td>['-Injectables:Fillers', '-Injectables:Botulin...</td>\n      <td>The science of you Allergan Aesthetics, an Abb...</td>\n    </tr>\n    <tr>\n      <th>1</th>\n      <td>1</td>\n      <td>BioScience GmbH</td>\n      <td>Germany</td>\n      <td>http://www.BioScienceGmbH.com</td>\n      <td>NaN</td>\n      <td>German experts in aesthetic medicine since 200...</td>\n    </tr>\n    <tr>\n      <th>2</th>\n      <td>2</td>\n      <td>Galderma</td>\n      <td>France</td>\n      <td>http://www.galderma.com</td>\n      <td>['-Injectables:Fillers', '-Pharmaceutical-Drug...</td>\n      <td>With a unique heritage in dermatology as well ...</td>\n    </tr>\n    <tr>\n      <th>3</th>\n      <td>3</td>\n      <td>Laboratoires VIVACY</td>\n      <td>France</td>\n      <td>https://www.vivacy.com</td>\n      <td>['-Injectables:Fillers', '-Cosmeceutics-Antiag...</td>\n      <td>Laboratoires VIVACY is a French manufacturer s...</td>\n    </tr>\n    <tr>\n      <th>4</th>\n      <td>4</td>\n      <td>TEOXANE LABORATORIES</td>\n      <td>Switzerland</td>\n      <td>http://www.teoxane.com</td>\n      <td>['-Injectables:Fillers', '-Cosmeceutics-Antiag...</td>\n      <td>TEOXANE  Laboratories were  created  in  2003 ...</td>\n    </tr>\n  </tbody>\n</table>\n</div>"
     },
     "execution_count": 4,
     "metadata": {},
     "output_type": "execute_result"
    }
   ],
   "source": [
    "import pandas as pd\n",
    "\n",
    "# Load the data\n",
    "data = pd.read_csv('company_list_clean.csv')\n",
    "data.head()"
   ],
   "metadata": {
    "collapsed": false,
    "ExecuteTime": {
     "end_time": "2023-09-02T17:04:19.861055700Z",
     "start_time": "2023-09-02T17:04:19.720524500Z"
    }
   }
  },
  {
   "cell_type": "markdown",
   "source": [
    "# Geographic Distribution by Country"
   ],
   "metadata": {
    "collapsed": false
   }
  },
  {
   "cell_type": "code",
   "execution_count": 2,
   "outputs": [],
   "source": [
    "import matplotlib.pyplot as plt\n",
    "import seaborn as sns\n",
    "\n",
    "# Set the style for the plots\n",
    "sns.set_style('whitegrid')"
   ],
   "metadata": {
    "collapsed": false,
    "ExecuteTime": {
     "end_time": "2023-09-02T17:04:11.459790300Z",
     "start_time": "2023-09-02T17:04:11.358635Z"
    }
   }
  },
  {
   "cell_type": "code",
   "execution_count": 5,
   "outputs": [
    {
     "data": {
      "text/plain": "<Figure size 1200x600 with 1 Axes>",
      "image/png": "[encoded data removed]"
     },
     "metadata": {},
     "output_type": "display_data"
    }
   ],
   "source": [
    "# Plot the distribution of companies by country\n",
    "plt.figure(figsize=(12, 6))\n",
    "sns.countplot(data=data, y='Country', order=data['Country'].value_counts().index, palette='viridis')\n",
    "plt.title('Distribution of Companies by Country')\n",
    "plt.xlabel('Number of Companies')\n",
    "plt.ylabel('Country')\n",
    "plt.show()"
   ],
   "metadata": {
    "collapsed": false,
    "ExecuteTime": {
     "end_time": "2023-09-02T17:05:14.075285200Z",
     "start_time": "2023-09-02T17:05:12.660026Z"
    }
   }
  },
  {
   "cell_type": "markdown",
   "source": [
    "### Distribution of Companies by Country\n",
    "From the visualization, we observe the following distribution of sponsorship companies by country:\n",
    "\n",
    "South Korea has the highest number of sponsorship companies.\n",
    "Italy ranks second in the number of sponsorship companies.\n",
    "France comes in third place.\n",
    "This distribution provides insights into the countries with the most representation in the IMCAS World Congress 2023 sponsorships."
   ],
   "metadata": {
    "collapsed": false
   }
  },
  {
   "cell_type": "code",
   "execution_count": 8,
   "outputs": [],
   "source": [
    "# Categorize countries into continents\n",
    "def country_to_continent(country):\n",
    "    mapping = {\n",
    "        'South Korea': 'Asia',\n",
    "        'Italy': 'Europe',\n",
    "        'France': 'Europe',\n",
    "        'Switzerland': 'Europe',\n",
    "        'Germany': 'Europe',\n",
    "        'Ireland': 'Europe',\n",
    "        'USA': 'North America',\n",
    "        'Canada': 'North America',\n",
    "        'Australia': 'Australia',\n",
    "        'Brazil': 'South America',\n",
    "        'Argentina': 'South America',\n",
    "        'China': 'Asia',\n",
    "        'Japan': 'Asia',\n",
    "        'India': 'Asia',\n",
    "        'Austria': 'Europe',\n",
    "        'Slovenia': 'Europe',\n",
    "        'Spain': 'Europe',\n",
    "        'Georgia': 'Europe',\n",
    "        'United Kingdom': 'Europe',\n",
    "        'Turkey': 'Europe',\n",
    "        'Netherlands': 'Europe',\n",
    "        'Belgium': 'Europe',\n",
    "        'Israel': 'Asia',\n",
    "        'United States': 'North America',\n",
    "        'Jordan': 'Asia',\n",
    "        'Monaco': 'Europe',\n",
    "        'Sweden': 'Europe',\n",
    "        'Denmark': 'Europe',\n",
    "        'Luxembourg': 'Europe',\n",
    "        'Poland': 'Europe',\n",
    "        'Greece': 'Europe',\n",
    "        'Finland': 'Europe',\n",
    "        'Indonesia': 'Asia',\n",
    "        'Thailand': 'Asia',\n",
    "        'Czech Republic': 'Europe',\n",
    "        'Romania': 'Europe',\n",
    "        'Mexico': 'North America',\n",
    "        'Egypt': 'Africa',\n",
    "        'Pakistan': 'Asia',\n",
    "        'United Arab Emirates': 'Asia'\n",
    "    }\n",
    "    return mapping.get(country, 'Other')\n",
    "\n",
    "data['Continent'] = data['Country'].apply(country_to_continent)"
   ],
   "metadata": {
    "collapsed": false,
    "ExecuteTime": {
     "end_time": "2023-09-02T17:08:02.190133900Z",
     "start_time": "2023-09-02T17:08:02.146276400Z"
    }
   }
  },
  {
   "cell_type": "code",
   "execution_count": 15,
   "outputs": [
    {
     "data": {
      "text/plain": "<Figure size 1200x600 with 1 Axes>",
      "image/png": "[encoded data removed]"
     },
     "metadata": {},
     "output_type": "display_data"
    }
   ],
   "source": [
    "# Plot the distribution of companies by continent using a horizontal bar chart with labeled values\n",
    "continent_counts_final = data['Continent'].value_counts()\n",
    "plt.figure(figsize=(12, 6))\n",
    "ax = sns.barplot(x=continent_counts_final.index, y=continent_counts_final.values, palette='viridis')\n",
    "\n",
    "# Label the values on the bars\n",
    "for index, value in enumerate(continent_counts_final.values):\n",
    "    ax.text(index, value, f' {value}', color='black', va='center')\n",
    "\n",
    "plt.title('Distribution of Companies by Continent')\n",
    "plt.xlabel('Number of Companies')\n",
    "plt.ylabel('Continent')\n",
    "plt.show()"
   ],
   "metadata": {
    "collapsed": false,
    "ExecuteTime": {
     "end_time": "2023-09-02T17:09:33.579116600Z",
     "start_time": "2023-09-02T17:09:32.766726Z"
    }
   }
  },
  {
   "cell_type": "code",
   "execution_count": 147,
   "outputs": [
    {
     "data": {
      "text/plain": "Injectables             88\nPharmaceutical           6\nCosmeceutics           108\nEnergybased devices     67\nSuspending devices      37\nOther                  225\ndtype: int64"
     },
     "execution_count": 147,
     "metadata": {},
     "output_type": "execute_result"
    }
   ],
   "source": [
    "# Define columns that will be set based on 'Product Type'\n",
    "cols_to_set = ['Injectables', 'Pharmaceutical', 'Cosmeceutics', 'Energybased devices', 'Suspending devices', 'Other']\n",
    "\n",
    "# Initialize the columns with zeros\n",
    "for col in cols_to_set:\n",
    "    data[col] = 0\n",
    "\n",
    "# Categorize the product types based on the provided logic\n",
    "for index, row in data.iterrows():\n",
    "    product_type = row['Product Type']\n",
    "    if isinstance(product_type, str):\n",
    "        product_types = product_type.split('-')\n",
    "        for product in product_types:\n",
    "            if 'Injectables' in product:\n",
    "                data.at[index, 'Injectables'] = 1\n",
    "            elif 'Pharmaceutical' in product:\n",
    "                data.at[index, 'Pharmaceutical'] = 1\n",
    "            elif 'Cosmeceutics' in product:\n",
    "                data.at[index, 'Cosmeceutics'] = 1\n",
    "            elif 'Energybaseddevices' in product:\n",
    "                data.at[index, 'Energybased devices'] = 1\n",
    "            elif 'Thread' in product:\n",
    "                data.at[index, 'Suspending devices'] = 1\n",
    "            else:\n",
    "                data.at[index, 'Other'] = 1\n",
    "\n",
    "# Calculate the counts for each category\n",
    "category_counts = data[cols_to_set].sum()\n",
    "category_counts"
   ],
   "metadata": {
    "collapsed": false,
    "ExecuteTime": {
     "end_time": "2023-09-01T18:31:49.260545500Z",
     "start_time": "2023-09-01T18:31:49.118017300Z"
    }
   }
  },
  {
   "cell_type": "code",
   "execution_count": 148,
   "outputs": [
    {
     "data": {
      "text/plain": "<Figure size 1200x800 with 1 Axes>",
      "image/png": "[encoded data removed]"
     },
     "metadata": {},
     "output_type": "display_data"
    }
   ],
   "source": [
    "# Plot the distribution of product categories using a donut chart\n",
    "fig, ax = plt.subplots(figsize=(12, 8))\n",
    "colors = sns.color_palette('viridis', len(category_counts))\n",
    "ax.pie(category_counts, labels=category_counts.index, autopct='%1.1f%%', startangle=90, colors=colors, wedgeprops=dict(width=0.3))\n",
    "plt.title('Distribution of Product Categories Offered by Companies')\n",
    "plt.show()"
   ],
   "metadata": {
    "collapsed": false,
    "ExecuteTime": {
     "end_time": "2023-09-01T18:31:52.522522100Z",
     "start_time": "2023-09-01T18:31:52.270163400Z"
    }
   }
  },
  {
   "cell_type": "markdown",
   "source": [
    "# Sponsorship Growth Over Time (2016 - 2023 )"
   ],
   "metadata": {
    "collapsed": false
   }
  },
  {
   "cell_type": "code",
   "execution_count": 16,
   "outputs": [
    {
     "data": {
      "text/plain": "   Year  Number_of_Sponsors\n0  2016                 174\n1  2017                 173\n2  2018                 186\n3  2019                 272\n4  2020                 322\n5  2021                 336\n6  2022                 336\n7  2023                 322",
      "text/html": "<div>\n<style scoped>\n    .dataframe tbody tr th:only-of-type {\n        vertical-align: middle;\n    }\n\n    .dataframe tbody tr th {\n        vertical-align: top;\n    }\n\n    .dataframe thead th {\n        text-align: right;\n    }\n</style>\n<table border=\"1\" class=\"dataframe\">\n  <thead>\n    <tr style=\"text-align: right;\">\n      <th></th>\n      <th>Year</th>\n      <th>Number_of_Sponsors</th>\n    </tr>\n  </thead>\n  <tbody>\n    <tr>\n      <th>0</th>\n      <td>2016</td>\n      <td>174</td>\n    </tr>\n    <tr>\n      <th>1</th>\n      <td>2017</td>\n      <td>173</td>\n    </tr>\n    <tr>\n      <th>2</th>\n      <td>2018</td>\n      <td>186</td>\n    </tr>\n    <tr>\n      <th>3</th>\n      <td>2019</td>\n      <td>272</td>\n    </tr>\n    <tr>\n      <th>4</th>\n      <td>2020</td>\n      <td>322</td>\n    </tr>\n    <tr>\n      <th>5</th>\n      <td>2021</td>\n      <td>336</td>\n    </tr>\n    <tr>\n      <th>6</th>\n      <td>2022</td>\n      <td>336</td>\n    </tr>\n    <tr>\n      <th>7</th>\n      <td>2023</td>\n      <td>322</td>\n    </tr>\n  </tbody>\n</table>\n</div>"
     },
     "execution_count": 16,
     "metadata": {},
     "output_type": "execute_result"
    }
   ],
   "source": [
    "# Create a DataFrame from the collected data\n",
    "sponsorship_data = {\n",
    "    'Year': [2016, 2017, 2018, 2019, 2020, 2021, 2022, 2023],\n",
    "    'Number_of_Sponsors': [174, 173, 186, 272, 322, 336, 336, 322]\n",
    "}\n",
    "df_sponsorship = pd.DataFrame(sponsorship_data)\n",
    "\n",
    "# Display the DataFrame\n",
    "df_sponsorship"
   ],
   "metadata": {
    "collapsed": false,
    "ExecuteTime": {
     "end_time": "2023-09-02T17:18:13.803170700Z",
     "start_time": "2023-09-02T17:18:13.727021800Z"
    }
   }
  },
  {
   "cell_type": "code",
   "execution_count": 3,
   "outputs": [],
   "source": [
    "plt.figure(figsize=(12, 6))\n",
    "sns.lineplot(x='Year', y='Number_of_Sponsors', data=df_sponsorship, marker='o')\n",
    "\n",
    "plt.title('IMCAS Sponsorship Growth Over Time')\n",
    "plt.xlabel('Year')\n",
    "plt.ylabel('Number of Sponsors')\n",
    "plt.grid(True, which='both', linestyle='--', linewidth=0.5)\n",
    "plt.tight_layout()\n",
    "plt.show()"
   ],
   "metadata": {
    "collapsed": false,
    "ExecuteTime": {
     "end_time": "2023-09-02T02:22:14.572888200Z",
     "start_time": "2023-09-02T02:22:06.247509Z"
    }
   }
  },
  {
   "cell_type": "markdown",
   "source": [
    "# IMCAS Sponsorship Growth Over Time: Observations\n",
    "- The number of sponsors showed a **steady increase** from 2016 to 2018.\n",
    "- There was a **significant jump** in the number of sponsors from 2018 to 2019. This increase might be indicative of a pivotal event or change either in the industry or within IMCAS that attracted a larger number of sponsors.\n",
    "- The **peak** in sponsorship was observed in the years 2021 and 2022, with both years having the same number of sponsors.\n",
    "- A **slight decrease** in the number of sponsors was noted in 2023 compared to the previous two years.\n",
    "\n",
    "\n",
    "The overall trend suggests a growing interest and involvement in IMCAS over the years, with a particularly notable growth spurt starting in 2019."
   ],
   "metadata": {
    "collapsed": false,
    "ExecuteTime": {
     "end_time": "2023-09-02T02:23:09.947541100Z",
     "start_time": "2023-09-02T02:23:09.881793300Z"
    }
   },
   "outputs": [],
   "execution_count": 5
  },
  {
   "cell_type": "markdown",
   "source": [
    "# Overall Summary of IMCAS Sponsorship Analysis\n",
    "\n",
    "## 1. Geographic Distribution\n",
    "- Diverse Representation: Companies from over 50 countries sponsor IMCAS, showcasing its global appeal.\n",
    "- European Dominance: Europe, led by countries like France, Italy, and Germany, emerges as a major hub for the aesthetic industry.\n",
    "- Asian Growth: Significant representation from Asian countries, especially South Korea and China, indicates the region's growing importance in the aesthetic market.\n",
    "## 2. Industry Segmentation\n",
    "- Varied Sectors: Sponsors span diverse sectors, including injectables, pharmaceuticals, cosmeceuticals, medical devices and more.\n",
    "- Leading Segments: Injectables and cosmeceuticals dominate, hinting at a preference for non-invasive treatments and skincare.\n",
    "- Emerging Technologies: The presence of energy-based devices suggests a tilt towards technological advancements in non-surgical procedures.\n",
    "## 3. Sponsorship Growth Over Time\n",
    "- Steady Initial Growth: From 2016 to 2018, there's a consistent growth in sponsors, marking a rise in IMCAS's industry stature.\n",
    "- Significant Surge: 2019 sees a sharp spike in sponsorship, possibly indicating industry innovations or broader aesthetic treatment acceptance.\n",
    "- Peak and Stabilization: 2021 and 2022 mark peak sponsorship, with a slight dip in 2023, hinting at market stabilization or saturation.\n",
    "## 4. Implications for the Aesthetic Industry\n",
    "- Rising Consumer Demand: The growth in sponsors and their global spread signifies a surging consumer demand for aesthetic treatments.\n",
    "- Industry Innovations: The diverse industry segments of sponsors indicate continuous sector innovations, from skincare to advanced treatments.\n",
    "- Global Trends: The sponsors' geographic spread mirrors global aesthetic treatment trends, with Europe and Asia as significant contributors."
   ],
   "metadata": {
    "collapsed": false,
    "ExecuteTime": {
     "end_time": "2023-09-02T02:29:57.991878300Z",
     "start_time": "2023-09-02T02:29:57.901836200Z"
    }
   },
   "outputs": [
    {
     "data": {
      "text/plain": "<folium.folium.Map at 0x2063cdfe410>",
      "text/html": "<div style=\"width:100%;\"><div style=\"position:relative;width:100%;height:0;padding-bottom:60%;\"><span style=\"color:#565656\">Make this Notebook Trusted to load map: File -> Trust Notebook</span><iframe srcdoc=\"&lt;!DOCTYPE html&gt;\n&lt;html&gt;\n&lt;head&gt;\n    \n    &lt;meta http-equiv=&quot;content-type&quot; content=&quot;text/html; charset=UTF-8&quot; /&gt;\n    \n        &lt;script&gt;\n            L_NO_TOUCH = false;\n            L_DISABLE_3D = false;\n        &lt;/script&gt;\n    \n    &lt;style&gt;html, body {width: 100%;height: 100%;margin: 0;padding: 0;}&lt;/style&gt;\n    &lt;style&gt;#map {position:absolute;top:0;bottom:0;right:0;left:0;}&lt;/style&gt;\n    &lt;script src=&quot;https://cdn.jsdelivr.net/npm/leaflet@1.9.3/dist/leaflet.js&quot;&gt;&lt;/script&gt;\n    &lt;script src=&quot;https://code.jquery.com/jquery-1.12.4.min.js&quot;&gt;&lt;/script&gt;\n    &lt;script src=&quot;https://cdn.jsdelivr.net/npm/bootstrap@5.2.2/dist/js/bootstrap.bundle.min.js&quot;&gt;&lt;/script&gt;\n    &lt;script src=&quot;https://cdnjs.cloudflare.com/ajax/libs/Leaflet.awesome-markers/2.0.2/leaflet.awesome-markers.js&quot;&gt;&lt;/script&gt;\n    &lt;link rel=&quot;stylesheet&quot; href=&quot;https://cdn.jsdelivr.net/npm/leaflet@1.9.3/dist/leaflet.css&quot;/&gt;\n    &lt;link rel=&quot;stylesheet&quot; href=&quot;https://cdn.jsdelivr.net/npm/bootstrap@5.2.2/dist/css/bootstrap.min.css&quot;/&gt;\n    &lt;link rel=&quot;stylesheet&quot; href=&quot;https://netdna.bootstrapcdn.com/bootstrap/3.0.0/css/bootstrap.min.css&quot;/&gt;\n    &lt;link rel=&quot;stylesheet&quot; href=&quot;https://cdn.jsdelivr.net/npm/@fortawesome/fontawesome-free@6.2.0/css/all.min.css&quot;/&gt;\n    &lt;link rel=&quot;stylesheet&quot; href=&quot;https://cdnjs.cloudflare.com/ajax/libs/Leaflet.awesome-markers/2.0.2/leaflet.awesome-markers.css&quot;/&gt;\n    &lt;link rel=&quot;stylesheet&quot; href=&quot;https://cdn.jsdelivr.net/gh/python-visualization/folium/folium/templates/leaflet.awesome.rotate.min.css&quot;/&gt;\n    \n            &lt;meta name=&quot;viewport&quot; content=&quot;width=device-width,\n                initial-scale=1.0, maximum-scale=1.0, user-scalable=no&quot; /&gt;\n            &lt;style&gt;\n                #map_e9bc9edcef0f6c1ead8b9f665bcbd6c6 {\n                    position: relative;\n                    width: 100.0%;\n                    height: 100.0%;\n                    left: 0.0%;\n                    top: 0.0%;\n                }\n                .leaflet-container { font-size: 1rem; }\n            &lt;/style&gt;\n        \n&lt;/head&gt;\n&lt;body&gt;\n    \n    \n            &lt;div class=&quot;folium-map&quot; id=&quot;map_e9bc9edcef0f6c1ead8b9f665bcbd6c6&quot; &gt;&lt;/div&gt;\n        \n&lt;/body&gt;\n&lt;script&gt;\n    \n    \n            var map_e9bc9edcef0f6c1ead8b9f665bcbd6c6 = L.map(\n                &quot;map_e9bc9edcef0f6c1ead8b9f665bcbd6c6&quot;,\n                {\n                    center: [20.0, 0.0],\n                    crs: L.CRS.EPSG3857,\n                    zoom: 2,\n                    zoomControl: true,\n                    preferCanvas: false,\n                }\n            );\n\n            \n\n        \n    \n            var tile_layer_88d36d58b3049c82e9d07f896d90aac9 = L.tileLayer(\n                &quot;https://{s}.tile.openstreetmap.org/{z}/{x}/{y}.png&quot;,\n                {&quot;attribution&quot;: &quot;Data by \\u0026copy; \\u003ca target=\\&quot;_blank\\&quot; href=\\&quot;http://openstreetmap.org\\&quot;\\u003eOpenStreetMap\\u003c/a\\u003e, under \\u003ca target=\\&quot;_blank\\&quot; href=\\&quot;http://www.openstreetmap.org/copyright\\&quot;\\u003eODbL\\u003c/a\\u003e.&quot;, &quot;detectRetina&quot;: false, &quot;maxNativeZoom&quot;: 18, &quot;maxZoom&quot;: 18, &quot;minZoom&quot;: 0, &quot;noWrap&quot;: false, &quot;opacity&quot;: 1, &quot;subdomains&quot;: &quot;abc&quot;, &quot;tms&quot;: false}\n            ).addTo(map_e9bc9edcef0f6c1ead8b9f665bcbd6c6);\n        \n&lt;/script&gt;\n&lt;/html&gt;\" style=\"position:absolute;width:100%;height:100%;left:0;top:0;border:none !important;\" allowfullscreen webkitallowfullscreen mozallowfullscreen></iframe></div></div>"
     },
     "execution_count": 10,
     "metadata": {},
     "output_type": "execute_result"
    }
   ],
   "execution_count": 10
  }
 ],
 "metadata": {
  "kernelspec": {
   "display_name": "Python 3",
   "language": "python",
   "name": "python3"
  },
  "language_info": {
   "codemirror_mode": {
    "name": "ipython",
    "version": 2
   },
   "file_extension": ".py",
   "mimetype": "text/x-python",
   "name": "python",
   "nbconvert_exporter": "python",
   "pygments_lexer": "ipython2",
   "version": "2.7.6"
  }
 },
 "nbformat": 4,
 "nbformat_minor": 0
}
